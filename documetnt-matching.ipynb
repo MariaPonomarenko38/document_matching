{
 "cells": [
  {
   "cell_type": "code",
   "execution_count": 17,
   "metadata": {},
   "outputs": [],
   "source": [
    "#!pip install PyPDF2\n",
    "#!pip install nltk\n",
    "#!pip install clean-text\n",
    "#!pip install gensim\n",
    "#!pip install pyLDAvis\n",
    "#!pip install wordcloud"
   ]
  },
  {
   "cell_type": "code",
   "execution_count": 18,
   "metadata": {},
   "outputs": [
    {
     "data": {
      "text/plain": [
       "\"\\nnltk.download('stopwords')\\nnltk.download('wordnet')\\nnltk.download('omw-1.4')\\n\""
      ]
     },
     "execution_count": 18,
     "metadata": {},
     "output_type": "execute_result"
    }
   ],
   "source": [
    "import nltk\n",
    "'''\n",
    "nltk.download('stopwords')\n",
    "nltk.download('wordnet')\n",
    "nltk.download('omw-1.4')\n",
    "'''"
   ]
  },
  {
   "cell_type": "code",
   "execution_count": 19,
   "metadata": {},
   "outputs": [
    {
     "name": "stderr",
     "output_type": "stream",
     "text": [
      "<>:1: DeprecationWarning: invalid escape sequence \\c\n",
      "<>:1: DeprecationWarning: invalid escape sequence \\c\n",
      "C:\\Users\\Марія\\AppData\\Local\\Temp\\ipykernel_5216\\29238159.py:1: DeprecationWarning: invalid escape sequence \\c\n",
      "  '''\n"
     ]
    },
    {
     "data": {
      "text/plain": [
       "\"\\nimport urllib.request\\nimport zipfile\\n\\nurllib.request.urlretrieve(r'http://nlp.stanford.edu/software/stanford-postagger-full-2015-04-20.zip', r'C:\\\\canada\\\\document_matching\\\\stanford-postagger-full-2015-04-20.zip')\\n\\nzfile = zipfile.ZipFile(r'C:\\\\canada\\\\document_matching\\\\stanford-postagger-full-2015-04-20.zip')\\n\\nzfile.extractall(r'C:\\\\canada\\\\document_matching\\\\stanford-pos')\\n\""
      ]
     },
     "execution_count": 19,
     "metadata": {},
     "output_type": "execute_result"
    }
   ],
   "source": [
    "'''\n",
    "import urllib.request\n",
    "import zipfile\n",
    "\n",
    "urllib.request.urlretrieve(r'http://nlp.stanford.edu/software/stanford-postagger-full-2015-04-20.zip', r'C:\\canada\\document_matching\\stanford-postagger-full-2015-04-20.zip')\n",
    "\n",
    "zfile = zipfile.ZipFile(r'C:\\canada\\document_matching\\stanford-postagger-full-2015-04-20.zip')\n",
    "\n",
    "zfile.extractall(r'C:\\canada\\document_matching\\stanford-pos')\n",
    "'''"
   ]
  },
  {
   "cell_type": "markdown",
   "metadata": {},
   "source": [
    "<h3> Data extraction and cleaning (PDF) </h3>"
   ]
  },
  {
   "cell_type": "code",
   "execution_count": 2,
   "metadata": {},
   "outputs": [],
   "source": [
    "from utils.file_reader import PdfParser\n",
    "\n",
    "\n",
    "pathes = [\"source_materials/ARIA_2021_Brochure.pdf\",\"source_materials/ARIA_Program_2020.pdf\"]\n",
    "pages = [[i for i in range(11, 72)], [i for i in range(8, 55)]]\n",
    "data = []\n",
    "for i in range(len(pathes)):\n",
    "    p = PdfParser(pages[i], pathes[i]) \n",
    "    data = data + p.get_parsed_data()"
   ]
  },
  {
   "cell_type": "code",
   "execution_count": 3,
   "metadata": {},
   "outputs": [],
   "source": [
    "import pandas as pd\n",
    "from utils.cleaner import TextCleaner\n",
    "\n",
    "tc = TextCleaner()"
   ]
  },
  {
   "cell_type": "code",
   "execution_count": 4,
   "metadata": {},
   "outputs": [
    {
     "data": {
      "text/html": [
       "<div>\n",
       "<style scoped>\n",
       "    .dataframe tbody tr th:only-of-type {\n",
       "        vertical-align: middle;\n",
       "    }\n",
       "\n",
       "    .dataframe tbody tr th {\n",
       "        vertical-align: top;\n",
       "    }\n",
       "\n",
       "    .dataframe thead th {\n",
       "        text-align: right;\n",
       "    }\n",
       "</style>\n",
       "<table border=\"1\" class=\"dataframe\">\n",
       "  <thead>\n",
       "    <tr style=\"text-align: right;\">\n",
       "      <th></th>\n",
       "      <th>title</th>\n",
       "      <th>abstract</th>\n",
       "      <th>supervisor</th>\n",
       "      <th>company</th>\n",
       "    </tr>\n",
       "  </thead>\n",
       "  <tbody>\n",
       "    <tr>\n",
       "      <th>0</th>\n",
       "      <td>using technology for curriculumbased measureme...</td>\n",
       "      <td>we do not have an effective canadian curriculu...</td>\n",
       "      <td>Janet Werker;Carrie Demmans Epp</td>\n",
       "      <td>NaN</td>\n",
       "    </tr>\n",
       "    <tr>\n",
       "      <th>1</th>\n",
       "      <td>food convergent innovation canada startupdevel...</td>\n",
       "      <td>food convergence and integrity fci canada is b...</td>\n",
       "      <td>R. Sandra Schillo;Laurette Dube;Jian-Yun Nie;A...</td>\n",
       "      <td>NaN</td>\n",
       "    </tr>\n",
       "    <tr>\n",
       "      <th>2</th>\n",
       "      <td>development of an alcontrolled closedloop neur...</td>\n",
       "      <td>the treatment of chronic conditions accounted ...</td>\n",
       "      <td>Blake Richards;Guillaume Lajoie</td>\n",
       "      <td>NaN</td>\n",
       "    </tr>\n",
       "    <tr>\n",
       "      <th>3</th>\n",
       "      <td>automatic generation of career advice articles</td>\n",
       "      <td>indeedcom is a wellknown employmentrelated sea...</td>\n",
       "      <td>Fatemeh Hendijani Fard</td>\n",
       "      <td>NaN</td>\n",
       "    </tr>\n",
       "    <tr>\n",
       "      <th>4</th>\n",
       "      <td>mental wellness application for current and po...</td>\n",
       "      <td>people who experience mental wellness challeng...</td>\n",
       "      <td>Terry Peckham;Susan Blum;Raymond Spiteri</td>\n",
       "      <td>NaN</td>\n",
       "    </tr>\n",
       "    <tr>\n",
       "      <th>...</th>\n",
       "      <td>...</td>\n",
       "      <td>...</td>\n",
       "      <td>...</td>\n",
       "      <td>...</td>\n",
       "    </tr>\n",
       "    <tr>\n",
       "      <th>1047</th>\n",
       "      <td>multilingual semantic similarity of unstructur...</td>\n",
       "      <td>to communicate with their end users businesses...</td>\n",
       "      <td>Robert Mercer</td>\n",
       "      <td>Western University</td>\n",
       "    </tr>\n",
       "    <tr>\n",
       "      <th>1048</th>\n",
       "      <td>multilingual semantic search engine using mult...</td>\n",
       "      <td>multiple situations require crosslingual searc...</td>\n",
       "      <td>Robert Mercer</td>\n",
       "      <td>Western University</td>\n",
       "    </tr>\n",
       "    <tr>\n",
       "      <th>1049</th>\n",
       "      <td>revealing trends in quantum technology with na...</td>\n",
       "      <td>recent years have witnessed a surge of interes...</td>\n",
       "      <td>Yang Liu;Xu Sunny Wang</td>\n",
       "      <td>Wilfrid Laurier University</td>\n",
       "    </tr>\n",
       "    <tr>\n",
       "      <th>1050</th>\n",
       "      <td>adding extra constraints to an open platform f...</td>\n",
       "      <td>acculogic develops stateoftheart testers for s...</td>\n",
       "      <td>Dr. Stephen Chen</td>\n",
       "      <td>York University</td>\n",
       "    </tr>\n",
       "    <tr>\n",
       "      <th>1051</th>\n",
       "      <td>advanced text clustering algorithm for aircraf...</td>\n",
       "      <td>casebank provides a service called chronicx to...</td>\n",
       "      <td>Dr. Jimmy Huang</td>\n",
       "      <td>York University</td>\n",
       "    </tr>\n",
       "  </tbody>\n",
       "</table>\n",
       "<p>1010 rows × 4 columns</p>\n",
       "</div>"
      ],
      "text/plain": [
       "                                                  title  \\\n",
       "0     using technology for curriculumbased measureme...   \n",
       "1     food convergent innovation canada startupdevel...   \n",
       "2     development of an alcontrolled closedloop neur...   \n",
       "3        automatic generation of career advice articles   \n",
       "4     mental wellness application for current and po...   \n",
       "...                                                 ...   \n",
       "1047  multilingual semantic similarity of unstructur...   \n",
       "1048  multilingual semantic search engine using mult...   \n",
       "1049  revealing trends in quantum technology with na...   \n",
       "1050  adding extra constraints to an open platform f...   \n",
       "1051  advanced text clustering algorithm for aircraf...   \n",
       "\n",
       "                                               abstract  \\\n",
       "0     we do not have an effective canadian curriculu...   \n",
       "1     food convergence and integrity fci canada is b...   \n",
       "2     the treatment of chronic conditions accounted ...   \n",
       "3     indeedcom is a wellknown employmentrelated sea...   \n",
       "4     people who experience mental wellness challeng...   \n",
       "...                                                 ...   \n",
       "1047  to communicate with their end users businesses...   \n",
       "1048  multiple situations require crosslingual searc...   \n",
       "1049  recent years have witnessed a surge of interes...   \n",
       "1050  acculogic develops stateoftheart testers for s...   \n",
       "1051  casebank provides a service called chronicx to...   \n",
       "\n",
       "                                             supervisor  \\\n",
       "0                       Janet Werker;Carrie Demmans Epp   \n",
       "1     R. Sandra Schillo;Laurette Dube;Jian-Yun Nie;A...   \n",
       "2                       Blake Richards;Guillaume Lajoie   \n",
       "3                                Fatemeh Hendijani Fard   \n",
       "4              Terry Peckham;Susan Blum;Raymond Spiteri   \n",
       "...                                                 ...   \n",
       "1047                                      Robert Mercer   \n",
       "1048                                      Robert Mercer   \n",
       "1049                             Yang Liu;Xu Sunny Wang   \n",
       "1050                                   Dr. Stephen Chen   \n",
       "1051                                    Dr. Jimmy Huang   \n",
       "\n",
       "                         company  \n",
       "0                            NaN  \n",
       "1                            NaN  \n",
       "2                            NaN  \n",
       "3                            NaN  \n",
       "4                            NaN  \n",
       "...                          ...  \n",
       "1047          Western University  \n",
       "1048          Western University  \n",
       "1049  Wilfrid Laurier University  \n",
       "1050             York University  \n",
       "1051             York University  \n",
       "\n",
       "[1010 rows x 4 columns]"
      ]
     },
     "execution_count": 4,
     "metadata": {},
     "output_type": "execute_result"
    }
   ],
   "source": [
    "t = pd.read_excel('source_materials/mitacs-cs-projects-20220609-2116.xlsx')\n",
    "t = t.drop(['project-link-url', 'pagination-url', 'web-scraper-order'], axis=1)\n",
    "t = t.rename(columns={\"project-title\": \"title\", \"project-description\": \"abstract\", 'faculty-supervisor': 'supervisor', \"academic-institution\": 'company'})\n",
    "t['title'] = t['title'].apply(lambda x: tc.text_cleaning(x))\n",
    "t.dropna(subset = ['abstract'], inplace=True)\n",
    "t['abstract'] = t['abstract'].apply(lambda x: tc.text_cleaning(x))\n",
    "columns_titles = ['title', 'abstract',\"supervisor\",  \"company\"]\n",
    "t=t.reindex(columns=columns_titles)\n",
    "t"
   ]
  },
  {
   "cell_type": "code",
   "execution_count": 5,
   "metadata": {},
   "outputs": [
    {
     "data": {
      "text/html": [
       "<div>\n",
       "<style scoped>\n",
       "    .dataframe tbody tr th:only-of-type {\n",
       "        vertical-align: middle;\n",
       "    }\n",
       "\n",
       "    .dataframe tbody tr th {\n",
       "        vertical-align: top;\n",
       "    }\n",
       "\n",
       "    .dataframe thead th {\n",
       "        text-align: right;\n",
       "    }\n",
       "</style>\n",
       "<table border=\"1\" class=\"dataframe\">\n",
       "  <thead>\n",
       "    <tr style=\"text-align: right;\">\n",
       "      <th></th>\n",
       "      <th>title</th>\n",
       "      <th>abstract</th>\n",
       "      <th>supervisor</th>\n",
       "      <th>company</th>\n",
       "    </tr>\n",
       "  </thead>\n",
       "  <tbody>\n",
       "    <tr>\n",
       "      <th>0</th>\n",
       "      <td>adapting contextual bandit algorithms to adser...</td>\n",
       "      <td>contextual bandit algorithms are developed to ...</td>\n",
       "      <td>Leonard Wong</td>\n",
       "      <td>[24]7.ai</td>\n",
       "    </tr>\n",
       "    <tr>\n",
       "      <th>1</th>\n",
       "      <td>defending white box adversarial examples with ...</td>\n",
       "      <td>as deep neural networks become increasingly co...</td>\n",
       "      <td>Gennady Pekhimenko</td>\n",
       "      <td>AMD</td>\n",
       "    </tr>\n",
       "    <tr>\n",
       "      <th>2</th>\n",
       "      <td>modern gameplay test automation with reinforce...</td>\n",
       "      <td>gameplay testing on computer games to help ens...</td>\n",
       "      <td>Amir-massoud Farahmand</td>\n",
       "      <td>AMD</td>\n",
       "    </tr>\n",
       "    <tr>\n",
       "      <th>3</th>\n",
       "      <td>reducing data loading time in machine learning...</td>\n",
       "      <td>training of models in machine learning is typi...</td>\n",
       "      <td>Maryam Mehri Dehnavi</td>\n",
       "      <td>AMD</td>\n",
       "    </tr>\n",
       "    <tr>\n",
       "      <th>4</th>\n",
       "      <td>hybrid recommender system for applications bas...</td>\n",
       "      <td>collaborative filtering is a widely used metho...</td>\n",
       "      <td>Peter Marbach</td>\n",
       "      <td>AppDirect</td>\n",
       "    </tr>\n",
       "  </tbody>\n",
       "</table>\n",
       "</div>"
      ],
      "text/plain": [
       "                                               title  \\\n",
       "0  adapting contextual bandit algorithms to adser...   \n",
       "1  defending white box adversarial examples with ...   \n",
       "2  modern gameplay test automation with reinforce...   \n",
       "3  reducing data loading time in machine learning...   \n",
       "4  hybrid recommender system for applications bas...   \n",
       "\n",
       "                                            abstract              supervisor  \\\n",
       "0  contextual bandit algorithms are developed to ...            Leonard Wong   \n",
       "1  as deep neural networks become increasingly co...      Gennady Pekhimenko   \n",
       "2  gameplay testing on computer games to help ens...  Amir-massoud Farahmand   \n",
       "3  training of models in machine learning is typi...    Maryam Mehri Dehnavi   \n",
       "4  collaborative filtering is a widely used metho...           Peter Marbach   \n",
       "\n",
       "     company  \n",
       "0   [24]7.ai  \n",
       "1        AMD  \n",
       "2        AMD  \n",
       "3        AMD  \n",
       "4  AppDirect  "
      ]
     },
     "execution_count": 5,
     "metadata": {},
     "output_type": "execute_result"
    }
   ],
   "source": [
    "df = pd.DataFrame(data)\n",
    "df.head()"
   ]
  },
  {
   "cell_type": "code",
   "execution_count": 6,
   "metadata": {},
   "outputs": [
    {
     "data": {
      "text/html": [
       "<div>\n",
       "<style scoped>\n",
       "    .dataframe tbody tr th:only-of-type {\n",
       "        vertical-align: middle;\n",
       "    }\n",
       "\n",
       "    .dataframe tbody tr th {\n",
       "        vertical-align: top;\n",
       "    }\n",
       "\n",
       "    .dataframe thead th {\n",
       "        text-align: right;\n",
       "    }\n",
       "</style>\n",
       "<table border=\"1\" class=\"dataframe\">\n",
       "  <thead>\n",
       "    <tr style=\"text-align: right;\">\n",
       "      <th></th>\n",
       "      <th>index</th>\n",
       "      <th>title</th>\n",
       "      <th>abstract</th>\n",
       "      <th>supervisor</th>\n",
       "      <th>company</th>\n",
       "    </tr>\n",
       "  </thead>\n",
       "  <tbody>\n",
       "    <tr>\n",
       "      <th>0</th>\n",
       "      <td>0</td>\n",
       "      <td>adapting contextual bandit algorithms to adser...</td>\n",
       "      <td>contextual bandit algorithms are developed to ...</td>\n",
       "      <td>Leonard Wong</td>\n",
       "      <td>[24]7.ai</td>\n",
       "    </tr>\n",
       "    <tr>\n",
       "      <th>1</th>\n",
       "      <td>1</td>\n",
       "      <td>defending white box adversarial examples with ...</td>\n",
       "      <td>as deep neural networks become increasingly co...</td>\n",
       "      <td>Gennady Pekhimenko</td>\n",
       "      <td>AMD</td>\n",
       "    </tr>\n",
       "    <tr>\n",
       "      <th>2</th>\n",
       "      <td>2</td>\n",
       "      <td>modern gameplay test automation with reinforce...</td>\n",
       "      <td>gameplay testing on computer games to help ens...</td>\n",
       "      <td>Amir-massoud Farahmand</td>\n",
       "      <td>AMD</td>\n",
       "    </tr>\n",
       "    <tr>\n",
       "      <th>3</th>\n",
       "      <td>3</td>\n",
       "      <td>reducing data loading time in machine learning...</td>\n",
       "      <td>training of models in machine learning is typi...</td>\n",
       "      <td>Maryam Mehri Dehnavi</td>\n",
       "      <td>AMD</td>\n",
       "    </tr>\n",
       "    <tr>\n",
       "      <th>4</th>\n",
       "      <td>4</td>\n",
       "      <td>hybrid recommender system for applications bas...</td>\n",
       "      <td>collaborative filtering is a widely used metho...</td>\n",
       "      <td>Peter Marbach</td>\n",
       "      <td>AppDirect</td>\n",
       "    </tr>\n",
       "    <tr>\n",
       "      <th>...</th>\n",
       "      <td>...</td>\n",
       "      <td>...</td>\n",
       "      <td>...</td>\n",
       "      <td>...</td>\n",
       "      <td>...</td>\n",
       "    </tr>\n",
       "    <tr>\n",
       "      <th>1113</th>\n",
       "      <td>1047</td>\n",
       "      <td>multilingual semantic similarity of unstructur...</td>\n",
       "      <td>to communicate with their end users businesses...</td>\n",
       "      <td>Robert Mercer</td>\n",
       "      <td>Western University</td>\n",
       "    </tr>\n",
       "    <tr>\n",
       "      <th>1114</th>\n",
       "      <td>1048</td>\n",
       "      <td>multilingual semantic search engine using mult...</td>\n",
       "      <td>multiple situations require crosslingual searc...</td>\n",
       "      <td>Robert Mercer</td>\n",
       "      <td>Western University</td>\n",
       "    </tr>\n",
       "    <tr>\n",
       "      <th>1115</th>\n",
       "      <td>1049</td>\n",
       "      <td>revealing trends in quantum technology with na...</td>\n",
       "      <td>recent years have witnessed a surge of interes...</td>\n",
       "      <td>Yang Liu;Xu Sunny Wang</td>\n",
       "      <td>Wilfrid Laurier University</td>\n",
       "    </tr>\n",
       "    <tr>\n",
       "      <th>1116</th>\n",
       "      <td>1050</td>\n",
       "      <td>adding extra constraints to an open platform f...</td>\n",
       "      <td>acculogic develops stateoftheart testers for s...</td>\n",
       "      <td>Dr. Stephen Chen</td>\n",
       "      <td>York University</td>\n",
       "    </tr>\n",
       "    <tr>\n",
       "      <th>1117</th>\n",
       "      <td>1051</td>\n",
       "      <td>advanced text clustering algorithm for aircraf...</td>\n",
       "      <td>casebank provides a service called chronicx to...</td>\n",
       "      <td>Dr. Jimmy Huang</td>\n",
       "      <td>York University</td>\n",
       "    </tr>\n",
       "  </tbody>\n",
       "</table>\n",
       "<p>1118 rows × 5 columns</p>\n",
       "</div>"
      ],
      "text/plain": [
       "      index                                              title  \\\n",
       "0         0  adapting contextual bandit algorithms to adser...   \n",
       "1         1  defending white box adversarial examples with ...   \n",
       "2         2  modern gameplay test automation with reinforce...   \n",
       "3         3  reducing data loading time in machine learning...   \n",
       "4         4  hybrid recommender system for applications bas...   \n",
       "...     ...                                                ...   \n",
       "1113   1047  multilingual semantic similarity of unstructur...   \n",
       "1114   1048  multilingual semantic search engine using mult...   \n",
       "1115   1049  revealing trends in quantum technology with na...   \n",
       "1116   1050  adding extra constraints to an open platform f...   \n",
       "1117   1051  advanced text clustering algorithm for aircraf...   \n",
       "\n",
       "                                               abstract  \\\n",
       "0     contextual bandit algorithms are developed to ...   \n",
       "1     as deep neural networks become increasingly co...   \n",
       "2     gameplay testing on computer games to help ens...   \n",
       "3     training of models in machine learning is typi...   \n",
       "4     collaborative filtering is a widely used metho...   \n",
       "...                                                 ...   \n",
       "1113  to communicate with their end users businesses...   \n",
       "1114  multiple situations require crosslingual searc...   \n",
       "1115  recent years have witnessed a surge of interes...   \n",
       "1116  acculogic develops stateoftheart testers for s...   \n",
       "1117  casebank provides a service called chronicx to...   \n",
       "\n",
       "                  supervisor                     company  \n",
       "0               Leonard Wong                    [24]7.ai  \n",
       "1         Gennady Pekhimenko                         AMD  \n",
       "2     Amir-massoud Farahmand                         AMD  \n",
       "3       Maryam Mehri Dehnavi                         AMD  \n",
       "4              Peter Marbach                   AppDirect  \n",
       "...                      ...                         ...  \n",
       "1113           Robert Mercer          Western University  \n",
       "1114           Robert Mercer          Western University  \n",
       "1115  Yang Liu;Xu Sunny Wang  Wilfrid Laurier University  \n",
       "1116        Dr. Stephen Chen             York University  \n",
       "1117         Dr. Jimmy Huang             York University  \n",
       "\n",
       "[1118 rows x 5 columns]"
      ]
     },
     "execution_count": 6,
     "metadata": {},
     "output_type": "execute_result"
    }
   ],
   "source": [
    "frames = [df, t]\n",
    "  \n",
    "df = pd.concat(frames)\n",
    "df = df.reset_index()\n",
    "df"
   ]
  },
  {
   "cell_type": "code",
   "execution_count": 7,
   "metadata": {},
   "outputs": [],
   "source": [
    "titles = pd.Series(df['title'])"
   ]
  },
  {
   "cell_type": "code",
   "execution_count": 155,
   "metadata": {},
   "outputs": [
    {
     "data": {
      "text/plain": [
       "0       contextual bandit algorithms are developed to ...\n",
       "1       as deep neural networks become increasingly co...\n",
       "2       gameplay testing on computer games to help ens...\n",
       "3       training of models in machine learning is typi...\n",
       "4       collaborative filtering is a widely used metho...\n",
       "                              ...                        \n",
       "1113    to communicate with their end users businesses...\n",
       "1114    multiple situations require crosslingual searc...\n",
       "1115    recent years have witnessed a surge of interes...\n",
       "1116    acculogic develops stateoftheart testers for s...\n",
       "1117    casebank provides a service called chronicx to...\n",
       "Name: abstract, Length: 1118, dtype: object"
      ]
     },
     "execution_count": 155,
     "metadata": {},
     "output_type": "execute_result"
    }
   ],
   "source": [
    "abstracts = pd.Series(df['abstract'])\n",
    "abstracts_const = pd.Series(df['abstract'])\n",
    "abstracts"
   ]
  },
  {
   "cell_type": "code",
   "execution_count": 156,
   "metadata": {},
   "outputs": [],
   "source": [
    "from nltk.corpus import stopwords\n",
    "\n",
    "stopwords = set(stopwords.words(\"english\"))"
   ]
  },
  {
   "cell_type": "code",
   "execution_count": 157,
   "metadata": {},
   "outputs": [],
   "source": [
    "import re\n",
    "f = open(\"additional_stop_words.txt\", \"r\")\n",
    "more_stop_words = f.readlines()\n",
    "for i in more_stop_words:\n",
    "    t = i.split()\n",
    "    stopwords.update(t)"
   ]
  },
  {
   "cell_type": "code",
   "execution_count": 158,
   "metadata": {},
   "outputs": [
    {
     "data": {
      "text/plain": [
       "0       contextual bandit algorithms developed gain ma...\n",
       "1       deep neural networks increasingly common secur...\n",
       "2       gameplay testing computer games ensure high pe...\n",
       "3       training models machine learning typically div...\n",
       "4       collaborative filtering widely method recommen...\n",
       "                              ...                        \n",
       "1113    communicate end users businesses regularly pro...\n",
       "1114    multiple situations require crosslingual searc...\n",
       "1115    recent years witnessed surge interests explori...\n",
       "1116    acculogic develops stateoftheart testers short...\n",
       "1117    casebank service called chronicx airline indus...\n",
       "Name: abstract, Length: 1118, dtype: object"
      ]
     },
     "execution_count": 158,
     "metadata": {},
     "output_type": "execute_result"
    }
   ],
   "source": [
    "abstracts = abstracts.apply(lambda x : \" \".join(word for word in x.split() if word not in stopwords))\n",
    "abstracts\n"
   ]
  },
  {
   "cell_type": "code",
   "execution_count": 159,
   "metadata": {},
   "outputs": [],
   "source": [
    "abstracts = abstracts.apply(lambda x: x.split())"
   ]
  },
  {
   "cell_type": "code",
   "execution_count": 160,
   "metadata": {},
   "outputs": [],
   "source": [
    "from nltk.tag import StanfordPOSTagger\n",
    "\n",
    "jar = r'C:\\canada\\document_matching\\stanford-pos\\stanford-postagger-full-2015-04-20\\stanford-postagger.jar'\n",
    "model = r'C:\\canada\\document_matching\\stanford-pos\\stanford-postagger-full-2015-04-20\\models\\english-left3words-distsim.tagger'\n",
    "\n",
    "stg = StanfordPOSTagger(path_to_jar=jar, model_filename=model)\n"
   ]
  },
  {
   "cell_type": "code",
   "execution_count": 161,
   "metadata": {},
   "outputs": [],
   "source": [
    "from nltk.corpus.reader.wordnet import VERB, NOUN, ADJ, ADV\n",
    "dict_pos_map = {\n",
    "    'NN': NOUN,\n",
    "    'JJ' : ADJ  \n",
    "}"
   ]
  },
  {
   "cell_type": "code",
   "execution_count": 162,
   "metadata": {},
   "outputs": [
    {
     "data": {
      "text/plain": [
       "0       [contextual, bandit, algorithms, developed, ga...\n",
       "1       [deep, neural, networks, increasingly, common,...\n",
       "2       [gameplay, testing, computer, games, ensure, h...\n",
       "3       [training, models, machine, learning, typicall...\n",
       "4       [collaborative, filtering, widely, method, rec...\n",
       "                              ...                        \n",
       "1113    [communicate, end, users, businesses, regularl...\n",
       "1114    [multiple, situations, require, crosslingual, ...\n",
       "1115    [recent, years, witnessed, surge, interests, e...\n",
       "1116    [acculogic, develops, stateoftheart, testers, ...\n",
       "1117    [casebank, service, called, chronicx, airline,...\n",
       "Name: abstract, Length: 1118, dtype: object"
      ]
     },
     "execution_count": 162,
     "metadata": {},
     "output_type": "execute_result"
    }
   ],
   "source": [
    "abstracts"
   ]
  },
  {
   "cell_type": "code",
   "execution_count": 163,
   "metadata": {},
   "outputs": [],
   "source": [
    "from nltk import WordNetLemmatizer\n",
    "\n",
    "lm = WordNetLemmatizer()\n",
    "adjectives = []\n",
    "def lemmatizer_on_text(data):    \n",
    "    data = stg.tag(data) \n",
    "    text = []\n",
    "    for i in range(len(data)):\n",
    "        if data[i][1] == 'JJ':\n",
    "            adjectives.append(data[i][0])\n",
    "        if dict_pos_map.get(data[i][1][:2]) != None:\n",
    "            if data[i][0] in ['app', 'apps', 'application']:\n",
    "                text.append('app')\n",
    "            else:\n",
    "                text.append(lm.lemmatize(data[i][0], dict_pos_map[data[i][1][:2]]))\n",
    "    return text"
   ]
  },
  {
   "cell_type": "code",
   "execution_count": 34,
   "metadata": {},
   "outputs": [
    {
     "data": {
      "text/plain": [
       "[('developed', 'VBN')]"
      ]
     },
     "execution_count": 34,
     "metadata": {},
     "output_type": "execute_result"
    }
   ],
   "source": [
    "data = stg.tag(['developed'])\n",
    "data"
   ]
  },
  {
   "cell_type": "code",
   "execution_count": 164,
   "metadata": {},
   "outputs": [
    {
     "data": {
      "text/plain": [
       "0       [contextual, bandit, algorithm, gain, maximum,...\n",
       "1       [deep, neural, network, common, security, cons...\n",
       "2       [gameplay, testing, computer, game, high, perf...\n",
       "3       [training, model, machine, dataset, subset, mi...\n",
       "4       [collaborative, method, recommendation, task, ...\n",
       "                              ...                        \n",
       "1113    [end, user, business, document, letter, notice...\n",
       "1114    [multiple, situation, crosslingual, lawyer, li...\n",
       "1115    [recent, year, surge, interest, research, dire...\n",
       "1116    [acculogic, stateoftheart, tester, electronic,...\n",
       "1117    [casebank, service, chronicx, airline, industr...\n",
       "Name: abstract, Length: 1118, dtype: object"
      ]
     },
     "execution_count": 164,
     "metadata": {},
     "output_type": "execute_result"
    }
   ],
   "source": [
    "abstracts = abstracts.apply(lambda x: lemmatizer_on_text(x))\n",
    "abstracts"
   ]
  },
  {
   "cell_type": "code",
   "execution_count": 11,
   "metadata": {},
   "outputs": [],
   "source": [
    "def replace_ngram(x, ngram_array):\n",
    "    for gram in ngram_array:\n",
    "        x = x.replace(gram, '_'.join(gram.split()))\n",
    "    return x"
   ]
  },
  {
   "cell_type": "code",
   "execution_count": 167,
   "metadata": {},
   "outputs": [
    {
     "data": {
      "text/plain": [
       "0       [contextual, bandit, algorithm, gain, maximum,...\n",
       "1       [deep, neural, network, common, security, cons...\n",
       "2       [gameplay, testing, computer, game, high, perf...\n",
       "3       [training, model, machine, dataset, subset, mi...\n",
       "4       [collaborative, method, recommendation, task, ...\n",
       "                              ...                        \n",
       "1113    [end, user, business, document, letter, notice...\n",
       "1114    [multiple, situation, crosslingual, lawyer, li...\n",
       "1115    [recent, year, surge, interest, research, dire...\n",
       "1116    [acculogic, stateoftheart, tester, electronic,...\n",
       "1117    [casebank, service, chronicx, airline, industr...\n",
       "Name: abstract, Length: 1118, dtype: object"
      ]
     },
     "execution_count": 167,
     "metadata": {},
     "output_type": "execute_result"
    }
   ],
   "source": [
    "abstracts"
   ]
  },
  {
   "cell_type": "code",
   "execution_count": 6,
   "metadata": {},
   "outputs": [
    {
     "ename": "NameError",
     "evalue": "name 'pd' is not defined",
     "output_type": "error",
     "traceback": [
      "\u001b[1;31m---------------------------------------------------------------------------\u001b[0m",
      "\u001b[1;31mNameError\u001b[0m                                 Traceback (most recent call last)",
      "\u001b[1;32m~\\AppData\\Local\\Temp\\ipykernel_9196\\935044029.py\u001b[0m in \u001b[0;36m<cell line: 6>\u001b[1;34m()\u001b[0m\n\u001b[0;32m      4\u001b[0m \u001b[1;32mfor\u001b[0m \u001b[0mi\u001b[0m \u001b[1;32min\u001b[0m \u001b[0mu\u001b[0m\u001b[1;33m:\u001b[0m\u001b[1;33m\u001b[0m\u001b[1;33m\u001b[0m\u001b[0m\n\u001b[0;32m      5\u001b[0m     \u001b[0mabstracts\u001b[0m\u001b[1;33m.\u001b[0m\u001b[0mappend\u001b[0m\u001b[1;33m(\u001b[0m\u001b[0mi\u001b[0m\u001b[1;33m.\u001b[0m\u001b[0msplit\u001b[0m\u001b[1;33m(\u001b[0m\u001b[1;33m)\u001b[0m\u001b[1;33m)\u001b[0m\u001b[1;33m\u001b[0m\u001b[1;33m\u001b[0m\u001b[0m\n\u001b[1;32m----> 6\u001b[1;33m \u001b[0mabstracts\u001b[0m \u001b[1;33m=\u001b[0m \u001b[0mpd\u001b[0m\u001b[1;33m.\u001b[0m\u001b[0mSeries\u001b[0m\u001b[1;33m(\u001b[0m\u001b[0mabstracts\u001b[0m\u001b[1;33m)\u001b[0m\u001b[1;33m\u001b[0m\u001b[1;33m\u001b[0m\u001b[0m\n\u001b[0m\u001b[0;32m      7\u001b[0m \u001b[0mf\u001b[0m\u001b[1;33m.\u001b[0m\u001b[0mclose\u001b[0m\u001b[1;33m(\u001b[0m\u001b[1;33m)\u001b[0m\u001b[1;33m\u001b[0m\u001b[1;33m\u001b[0m\u001b[0m\n",
      "\u001b[1;31mNameError\u001b[0m: name 'pd' is not defined"
     ]
    }
   ],
   "source": [
    "\n",
    "f = open('lemmatized_text.txt', 'r')\n",
    "u = f.readlines()\n",
    "abstracts = []\n",
    "for i in u:\n",
    "    abstracts.append(i.split())\n",
    "abstracts = pd.Series(abstracts)\n",
    "f.close()\n"
   ]
  },
  {
   "cell_type": "code",
   "execution_count": 24,
   "metadata": {},
   "outputs": [
    {
     "data": {
      "text/plain": [
       "0       [contextual, bandit, algorithm, gain, maximum,...\n",
       "1       [deep, neural, network, common, security, cons...\n",
       "2       [gameplay, testing, computer, game, high, perf...\n",
       "3       [training, model, machine, dataset, subset, mi...\n",
       "4       [collaborative, method, recommendation, task, ...\n",
       "                              ...                        \n",
       "1113    [end, user, business, document, letter, notice...\n",
       "1114    [multiple, situation, crosslingual, lawyer, li...\n",
       "1115    [recent, year, surge, interest, research, dire...\n",
       "1116    [acculogic, stateoftheart, tester, electronic,...\n",
       "1117    [casebank, service, chronicx, airline, industr...\n",
       "Length: 1118, dtype: object"
      ]
     },
     "execution_count": 24,
     "metadata": {},
     "output_type": "execute_result"
    }
   ],
   "source": [
    "abstracts"
   ]
  },
  {
   "cell_type": "code",
   "execution_count": 9,
   "metadata": {},
   "outputs": [],
   "source": [
    "f = open('adjectives.txt', 'r')\n",
    "u = f.readlines()\n",
    "adjectives = []\n",
    "for i in u:\n",
    "    adjectives.append(i)\n",
    "adjectives = [x.rstrip('\\n') for x in adjectives]\n",
    "f.close()"
   ]
  },
  {
   "cell_type": "code",
   "execution_count": 10,
   "metadata": {},
   "outputs": [],
   "source": [
    "import pandas as pd\n",
    "abstracts = pd.Series(abstracts)"
   ]
  },
  {
   "cell_type": "code",
   "execution_count": 10,
   "metadata": {},
   "outputs": [
    {
     "data": {
      "text/plain": [
       "0       [contextual, bandit, algorithm, gain, maximum,...\n",
       "1       [deep, neural, network, common, security, cons...\n",
       "2       [gameplay, testing, computer, game, high, perf...\n",
       "3       [training, model, machine, dataset, subset, mi...\n",
       "4       [collaborative, method, recommendation, task, ...\n",
       "                              ...                        \n",
       "1113    [end, user, business, document, letter, notice...\n",
       "1114    [multiple, situation, crosslingual, lawyer, li...\n",
       "1115    [recent, year, surge, interest, research, dire...\n",
       "1116    [acculogic, stateoftheart, tester, electronic,...\n",
       "1117    [casebank, service, chronicx, airline, industr...\n",
       "Length: 1118, dtype: object"
      ]
     },
     "execution_count": 10,
     "metadata": {},
     "output_type": "execute_result"
    }
   ],
   "source": [
    "abstracts"
   ]
  },
  {
   "cell_type": "markdown",
   "metadata": {},
   "source": [
    "<h3> EDA </h3>"
   ]
  },
  {
   "cell_type": "code",
   "execution_count": 12,
   "metadata": {},
   "outputs": [],
   "source": [
    "vocab = set()\n",
    "words_frequences = {}"
   ]
  },
  {
   "cell_type": "code",
   "execution_count": 13,
   "metadata": {},
   "outputs": [
    {
     "data": {
      "text/plain": [
       "[(('artificial', 'intelligence'), 9.057004536524708),\n",
       " (('natural', 'language'), 8.253306107171937),\n",
       " (('computer', 'vision'), 7.854722063429296),\n",
       " (('industrial', 'partner'), 7.528845121875804),\n",
       " (('partner', 'organization'), 7.30017951059285),\n",
       " (('neural', 'network'), 7.193861073502276),\n",
       " (('deep', 'learning'), 6.952254125723442),\n",
       " (('language', 'processing'), 6.902808860087804),\n",
       " (('machine', 'learning'), 6.344758220565723),\n",
       " (('mobile', 'device'), 6.283208210193644),\n",
       " (('recommender', 'system'), 6.2399372723809154),\n",
       " (('mobile', 'app'), 5.753520151339789),\n",
       " (('big', 'data'), 5.239071828419219),\n",
       " (('user', 'experience'), 5.12730192139794),\n",
       " (('data', 'mining'), 4.755714370536442),\n",
       " (('objective', 'project'), 4.474116243543346),\n",
       " (('goal', 'project'), 4.215743578023801),\n",
       " (('research', 'project'), 3.60386195260563),\n",
       " (('project', 'design'), 3.3442181359726106),\n",
       " (('machine', 'model'), 3.047257368635851)]"
      ]
     },
     "execution_count": 13,
     "metadata": {},
     "output_type": "execute_result"
    }
   ],
   "source": [
    "import nltk\n",
    "\n",
    "bigram_measures = nltk.collocations.BigramAssocMeasures()\n",
    "finder =nltk.collocations.BigramCollocationFinder.from_documents(abstracts)\n",
    "finder.apply_freq_filter(30)\n",
    "bigram_scores = finder.score_ngrams(bigram_measures.pmi)\n",
    "bigrams = [\" \".join(list(bigram[0])) for bigram in bigram_scores]\n",
    "bigram_scores"
   ]
  },
  {
   "cell_type": "code",
   "execution_count": 14,
   "metadata": {},
   "outputs": [
    {
     "data": {
      "text/plain": [
       "['natural language processing',\n",
       " 'machine learning technique',\n",
       " 'project machine learning',\n",
       " 'machine learning algorithm',\n",
       " 'convolutional neural network',\n",
       " 'deep neural network',\n",
       " 'machine learning model',\n",
       " 'deep learning algorithm',\n",
       " 'language processing nlp',\n",
       " 'artificial intelligence machine',\n",
       " 'deep learning model']"
      ]
     },
     "execution_count": 14,
     "metadata": {},
     "output_type": "execute_result"
    }
   ],
   "source": [
    "from collections import Counter\n",
    "\n",
    "trigrams = []\n",
    "whole_text = []\n",
    "for abstract in abstracts:\n",
    "    whole_text = whole_text + abstract\n",
    "\n",
    "ngrams = Counter(nltk.ngrams(whole_text, 3))\n",
    "\n",
    "for ngram, freq in ngrams.most_common(11):\n",
    "    trigrams.append(\" \".join(ngram))\n",
    "trigrams"
   ]
  },
  {
   "cell_type": "code",
   "execution_count": 27,
   "metadata": {},
   "outputs": [
    {
     "data": {
      "text/plain": [
       "0       [contextual, bandit, algorithm, gain, maximum,...\n",
       "1       [deep, neural, network, common, security, cons...\n",
       "2       [gameplay, testing, computer, game, high, perf...\n",
       "3       [training, model, machine, dataset, subset, mi...\n",
       "4       [collaborative, method, recommendation, task, ...\n",
       "                              ...                        \n",
       "1113    [end, user, business, document, letter, notice...\n",
       "1114    [multiple, situation, crosslingual, lawyer, li...\n",
       "1115    [recent, year, surge, interest, research, dire...\n",
       "1116    [acculogic, stateoftheart, tester, electronic,...\n",
       "1117    [casebank, service, chronicx, airline, industr...\n",
       "Length: 1118, dtype: object"
      ]
     },
     "execution_count": 27,
     "metadata": {},
     "output_type": "execute_result"
    }
   ],
   "source": [
    "abstracts"
   ]
  },
  {
   "cell_type": "code",
   "execution_count": 15,
   "metadata": {},
   "outputs": [],
   "source": [
    "tokenized_docs = abstracts.apply(lambda x : \" \".join(word for word in x))\n",
    "tokenized_docs = tokenized_docs.apply(lambda x: replace_ngram(x, bigrams))\n",
    "tokenized_docs = tokenized_docs.apply(lambda x: replace_ngram(x, trigrams))\n",
    "tokenized_docs = tokenized_docs.apply(lambda x: x.split())"
   ]
  },
  {
   "cell_type": "code",
   "execution_count": 16,
   "metadata": {},
   "outputs": [],
   "source": [
    "def form_vocab():\n",
    "    vocab.clear()\n",
    "    for i in tokenized_docs:\n",
    "        for j in i:\n",
    "            vocab.add(j)"
   ]
  },
  {
   "cell_type": "code",
   "execution_count": 17,
   "metadata": {},
   "outputs": [],
   "source": [
    "def calc_frequences():\n",
    "    words_frequences = dict.fromkeys(list(vocab), 0)\n",
    "    for word in list(vocab):\n",
    "        for i in data.loc[[word], :].sum():\n",
    "            words_frequences[word] += i\n",
    "    words_frequences = {k: v for k, v in sorted(words_frequences.items(), key=lambda item: item[1], reverse=True)}\n",
    "    return words_frequences"
   ]
  },
  {
   "cell_type": "code",
   "execution_count": 18,
   "metadata": {},
   "outputs": [],
   "source": [
    "form_vocab()"
   ]
  },
  {
   "cell_type": "code",
   "execution_count": 19,
   "metadata": {},
   "outputs": [
    {
     "data": {
      "text/plain": [
       "7429"
      ]
     },
     "execution_count": 19,
     "metadata": {},
     "output_type": "execute_result"
    }
   ],
   "source": [
    "len(vocab)"
   ]
  },
  {
   "cell_type": "code",
   "execution_count": 20,
   "metadata": {},
   "outputs": [
    {
     "data": {
      "text/html": [
       "<div>\n",
       "<style scoped>\n",
       "    .dataframe tbody tr th:only-of-type {\n",
       "        vertical-align: middle;\n",
       "    }\n",
       "\n",
       "    .dataframe tbody tr th {\n",
       "        vertical-align: top;\n",
       "    }\n",
       "\n",
       "    .dataframe thead th {\n",
       "        text-align: right;\n",
       "    }\n",
       "</style>\n",
       "<table border=\"1\" class=\"dataframe\">\n",
       "  <thead>\n",
       "    <tr style=\"text-align: right;\">\n",
       "      <th></th>\n",
       "      <th>0</th>\n",
       "      <th>1</th>\n",
       "      <th>2</th>\n",
       "      <th>3</th>\n",
       "      <th>4</th>\n",
       "      <th>5</th>\n",
       "      <th>6</th>\n",
       "      <th>7</th>\n",
       "      <th>8</th>\n",
       "      <th>9</th>\n",
       "      <th>...</th>\n",
       "      <th>1108</th>\n",
       "      <th>1109</th>\n",
       "      <th>1110</th>\n",
       "      <th>1111</th>\n",
       "      <th>1112</th>\n",
       "      <th>1113</th>\n",
       "      <th>1114</th>\n",
       "      <th>1115</th>\n",
       "      <th>1116</th>\n",
       "      <th>1117</th>\n",
       "    </tr>\n",
       "  </thead>\n",
       "  <tbody>\n",
       "    <tr>\n",
       "      <th>muse</th>\n",
       "      <td>0.0</td>\n",
       "      <td>0.0</td>\n",
       "      <td>0.0</td>\n",
       "      <td>0.0</td>\n",
       "      <td>0.0</td>\n",
       "      <td>0.0</td>\n",
       "      <td>0.0</td>\n",
       "      <td>0.0</td>\n",
       "      <td>0.0</td>\n",
       "      <td>0.0</td>\n",
       "      <td>...</td>\n",
       "      <td>0.0</td>\n",
       "      <td>0.0</td>\n",
       "      <td>0.0</td>\n",
       "      <td>0.0</td>\n",
       "      <td>0.0</td>\n",
       "      <td>0.0</td>\n",
       "      <td>0.0</td>\n",
       "      <td>0.0</td>\n",
       "      <td>0.0</td>\n",
       "      <td>0.0</td>\n",
       "    </tr>\n",
       "    <tr>\n",
       "      <th>traitements</th>\n",
       "      <td>0.0</td>\n",
       "      <td>0.0</td>\n",
       "      <td>0.0</td>\n",
       "      <td>0.0</td>\n",
       "      <td>0.0</td>\n",
       "      <td>0.0</td>\n",
       "      <td>0.0</td>\n",
       "      <td>0.0</td>\n",
       "      <td>0.0</td>\n",
       "      <td>0.0</td>\n",
       "      <td>...</td>\n",
       "      <td>0.0</td>\n",
       "      <td>0.0</td>\n",
       "      <td>0.0</td>\n",
       "      <td>0.0</td>\n",
       "      <td>0.0</td>\n",
       "      <td>0.0</td>\n",
       "      <td>0.0</td>\n",
       "      <td>0.0</td>\n",
       "      <td>0.0</td>\n",
       "      <td>0.0</td>\n",
       "    </tr>\n",
       "    <tr>\n",
       "      <th>inhouse</th>\n",
       "      <td>0.0</td>\n",
       "      <td>0.0</td>\n",
       "      <td>0.0</td>\n",
       "      <td>0.0</td>\n",
       "      <td>0.0</td>\n",
       "      <td>0.0</td>\n",
       "      <td>0.0</td>\n",
       "      <td>0.0</td>\n",
       "      <td>0.0</td>\n",
       "      <td>0.0</td>\n",
       "      <td>...</td>\n",
       "      <td>0.0</td>\n",
       "      <td>0.0</td>\n",
       "      <td>0.0</td>\n",
       "      <td>0.0</td>\n",
       "      <td>0.0</td>\n",
       "      <td>0.0</td>\n",
       "      <td>0.0</td>\n",
       "      <td>0.0</td>\n",
       "      <td>0.0</td>\n",
       "      <td>0.0</td>\n",
       "    </tr>\n",
       "    <tr>\n",
       "      <th>downsampled</th>\n",
       "      <td>0.0</td>\n",
       "      <td>0.0</td>\n",
       "      <td>0.0</td>\n",
       "      <td>0.0</td>\n",
       "      <td>0.0</td>\n",
       "      <td>0.0</td>\n",
       "      <td>0.0</td>\n",
       "      <td>0.0</td>\n",
       "      <td>0.0</td>\n",
       "      <td>0.0</td>\n",
       "      <td>...</td>\n",
       "      <td>0.0</td>\n",
       "      <td>0.0</td>\n",
       "      <td>0.0</td>\n",
       "      <td>0.0</td>\n",
       "      <td>0.0</td>\n",
       "      <td>0.0</td>\n",
       "      <td>0.0</td>\n",
       "      <td>0.0</td>\n",
       "      <td>0.0</td>\n",
       "      <td>0.0</td>\n",
       "    </tr>\n",
       "    <tr>\n",
       "      <th>alcatel</th>\n",
       "      <td>0.0</td>\n",
       "      <td>0.0</td>\n",
       "      <td>0.0</td>\n",
       "      <td>0.0</td>\n",
       "      <td>0.0</td>\n",
       "      <td>0.0</td>\n",
       "      <td>0.0</td>\n",
       "      <td>0.0</td>\n",
       "      <td>0.0</td>\n",
       "      <td>0.0</td>\n",
       "      <td>...</td>\n",
       "      <td>0.0</td>\n",
       "      <td>0.0</td>\n",
       "      <td>0.0</td>\n",
       "      <td>0.0</td>\n",
       "      <td>0.0</td>\n",
       "      <td>0.0</td>\n",
       "      <td>0.0</td>\n",
       "      <td>0.0</td>\n",
       "      <td>0.0</td>\n",
       "      <td>0.0</td>\n",
       "    </tr>\n",
       "  </tbody>\n",
       "</table>\n",
       "<p>5 rows × 1118 columns</p>\n",
       "</div>"
      ],
      "text/plain": [
       "             0     1     2     3     4     5     6     7     8     9     ...  \\\n",
       "muse          0.0   0.0   0.0   0.0   0.0   0.0   0.0   0.0   0.0   0.0  ...   \n",
       "traitements   0.0   0.0   0.0   0.0   0.0   0.0   0.0   0.0   0.0   0.0  ...   \n",
       "inhouse       0.0   0.0   0.0   0.0   0.0   0.0   0.0   0.0   0.0   0.0  ...   \n",
       "downsampled   0.0   0.0   0.0   0.0   0.0   0.0   0.0   0.0   0.0   0.0  ...   \n",
       "alcatel       0.0   0.0   0.0   0.0   0.0   0.0   0.0   0.0   0.0   0.0  ...   \n",
       "\n",
       "             1108  1109  1110  1111  1112  1113  1114  1115  1116  1117  \n",
       "muse          0.0   0.0   0.0   0.0   0.0   0.0   0.0   0.0   0.0   0.0  \n",
       "traitements   0.0   0.0   0.0   0.0   0.0   0.0   0.0   0.0   0.0   0.0  \n",
       "inhouse       0.0   0.0   0.0   0.0   0.0   0.0   0.0   0.0   0.0   0.0  \n",
       "downsampled   0.0   0.0   0.0   0.0   0.0   0.0   0.0   0.0   0.0   0.0  \n",
       "alcatel       0.0   0.0   0.0   0.0   0.0   0.0   0.0   0.0   0.0   0.0  \n",
       "\n",
       "[5 rows x 1118 columns]"
      ]
     },
     "execution_count": 20,
     "metadata": {},
     "output_type": "execute_result"
    }
   ],
   "source": [
    "import pandas as pd\n",
    "\n",
    "d = {i : [] for i in list(vocab)}\n",
    "data = pd.DataFrame(d)\n",
    "\n",
    "for doc in tokenized_docs:\n",
    "    data = data.append({i : doc.count(i) for i in list(vocab)}, ignore_index=True)\n",
    "data = data.transpose()\n",
    "data.head()"
   ]
  },
  {
   "cell_type": "code",
   "execution_count": 21,
   "metadata": {},
   "outputs": [],
   "source": [
    "words_frequences = calc_frequences()"
   ]
  },
  {
   "cell_type": "code",
   "execution_count": 22,
   "metadata": {},
   "outputs": [],
   "source": [
    "import matplotlib.pyplot as plt\n",
    "\n",
    "def show_plot(a, b):\n",
    "    fig, ax = plt.subplots(figsize=(16,8))\n",
    "    x = list(words_frequences.keys())[a:b]\n",
    "    y = list( words_frequences.values())[a:b]\n",
    "    ax.bar(range(len(x)), y)\n",
    "    ax.set_xticks(range(len(x)))\n",
    "    ax.set_xticklabels(x, rotation='vertical')\n",
    "    ax.set_title('Words frequences (excluding stop words)')\n",
    "    ax.set_xlabel('Word');\n",
    "    ax.set_ylabel('Number of occurences');\n",
    "    plt.show()"
   ]
  },
  {
   "cell_type": "code",
   "execution_count": 23,
   "metadata": {},
   "outputs": [
    {
     "data": {
      "image/png": "[encoded data removed]",
      "text/plain": [
       "<Figure size 1152x576 with 1 Axes>"
      ]
     },
     "metadata": {
      "needs_background": "light"
     },
     "output_type": "display_data"
    }
   ],
   "source": [
    "show_plot(0, 18)"
   ]
  },
  {
   "cell_type": "code",
   "execution_count": 24,
   "metadata": {},
   "outputs": [],
   "source": [
    "number_of_docs =  len(data.columns)\n",
    "upper_percent = 50\n",
    "lower_percent = 2"
   ]
  },
  {
   "cell_type": "code",
   "execution_count": 25,
   "metadata": {},
   "outputs": [],
   "source": [
    "remove_words = {'user', 'method', 'approach', 'result', 'model', 'data', 'problem', 'solution', \n",
    "'concept', 'task', 'work', 'process', 'step', 'goal', 'entity', 'aim', 'set', 'return', 'query', 'type','mission', 'knowledge','object', 'part', 'improvement','policy','insight', \n",
    "'frame','enhancement', 'measure', 'extraction', 'increase','factor', 'event', 'retrieval', 'book', 'version', 'ability', 'view',\n",
    " 'stage', 'level', 'hair', 'subset', 'issue', 'custom', 'interest', 'show', 'g', 'gan', 'na', 'match', 'lack', 'ifit', 'million',\n",
    " 'art', 'occurrence', 'student', 'capability', 'case', 'finding'}"
   ]
  },
  {
   "cell_type": "code",
   "execution_count": 26,
   "metadata": {},
   "outputs": [],
   "source": [
    "important_words = {'robotics', 'cnn', 'machinelearning', 'kmeans', 'linguistic', 'aerospace', 'aircraft', 'logistics', 'transport', \n",
    "'timeseries', 'artificial', 'telematics', 'tomography', 'bert', 'gameplay', 'medicine', 'gaming', 'detector', 'forecast', 'robotic', 'android',\n",
    "'genetic', 'statistic', 'cybersecurity', 'nlp', 'modelling', 'convolutional', 'textual'}"
   ]
  },
  {
   "cell_type": "code",
   "execution_count": null,
   "metadata": {},
   "outputs": [],
   "source": [
    "k = 0\n",
    "for word in words_frequences.keys():\n",
    "    if words_frequences[word] >= number_of_docs * upper_percent / 100 or words_frequences[word] <= number_of_docs * lower_percent / 100:\n",
    "        print(word, words_frequences[word])\n",
    "        if word not in important_words:\n",
    "            k += 1\n",
    "            remove_words.add(word)\n",
    "k"
   ]
  },
  {
   "cell_type": "code",
   "execution_count": null,
   "metadata": {},
   "outputs": [],
   "source": [
    "tokenized_docs"
   ]
  },
  {
   "cell_type": "code",
   "execution_count": 45,
   "metadata": {},
   "outputs": [
    {
     "data": {
      "text/plain": [
       "6855"
      ]
     },
     "execution_count": 45,
     "metadata": {},
     "output_type": "execute_result"
    }
   ],
   "source": [
    "len(remove_words)"
   ]
  },
  {
   "cell_type": "code",
   "execution_count": 29,
   "metadata": {},
   "outputs": [],
   "source": [
    "remove_words.update(adjectives)"
   ]
  },
  {
   "cell_type": "code",
   "execution_count": null,
   "metadata": {},
   "outputs": [],
   "source": [
    "remove_words"
   ]
  },
  {
   "cell_type": "code",
   "execution_count": null,
   "metadata": {},
   "outputs": [],
   "source": [
    "tokenized_docs"
   ]
  },
  {
   "cell_type": "code",
   "execution_count": 30,
   "metadata": {},
   "outputs": [],
   "source": [
    "for i in adjectives:\n",
    "    remove_words.add(i)"
   ]
  },
  {
   "cell_type": "code",
   "execution_count": 50,
   "metadata": {},
   "outputs": [
    {
     "data": {
      "text/plain": [
       "6975"
      ]
     },
     "execution_count": 50,
     "metadata": {},
     "output_type": "execute_result"
    }
   ],
   "source": [
    "len(remove_words)"
   ]
  },
  {
   "cell_type": "code",
   "execution_count": 31,
   "metadata": {},
   "outputs": [],
   "source": [
    "for i in important_words:\n",
    "    if i in remove_words:\n",
    "        remove_words.remove(i)"
   ]
  },
  {
   "cell_type": "code",
   "execution_count": 49,
   "metadata": {},
   "outputs": [
    {
     "data": {
      "text/plain": [
       "64515"
      ]
     },
     "execution_count": 49,
     "metadata": {},
     "output_type": "execute_result"
    }
   ],
   "source": [
    "sum = 0\n",
    "for i in tokenized_docs:\n",
    "    sum += len(i)\n",
    "sum"
   ]
  },
  {
   "cell_type": "code",
   "execution_count": 32,
   "metadata": {},
   "outputs": [],
   "source": [
    "form_vocab()"
   ]
  },
  {
   "cell_type": "code",
   "execution_count": 33,
   "metadata": {},
   "outputs": [
    {
     "data": {
      "text/plain": [
       "7429"
      ]
     },
     "execution_count": 33,
     "metadata": {},
     "output_type": "execute_result"
    }
   ],
   "source": [
    "len(vocab)"
   ]
  },
  {
   "cell_type": "code",
   "execution_count": 34,
   "metadata": {},
   "outputs": [
    {
     "data": {
      "text/plain": [
       "True"
      ]
     },
     "execution_count": 34,
     "metadata": {},
     "output_type": "execute_result"
    }
   ],
   "source": [
    "remove_words.add('gain')\n",
    "'gain' in remove_words"
   ]
  },
  {
   "cell_type": "code",
   "execution_count": 35,
   "metadata": {},
   "outputs": [
    {
     "data": {
      "text/plain": [
       "6969"
      ]
     },
     "execution_count": 35,
     "metadata": {},
     "output_type": "execute_result"
    }
   ],
   "source": [
    "len(remove_words)"
   ]
  },
  {
   "cell_type": "code",
   "execution_count": 36,
   "metadata": {},
   "outputs": [
    {
     "data": {
      "text/plain": [
       "0       [algorithm, distribution, information, yield, ...\n",
       "1       [neural_network, security, application, detect...\n",
       "2       [gameplay, testing, computer, game, performanc...\n",
       "3       [training, machine, training, parameter, time,...\n",
       "4       [collaborative, recommendation, feedback, coll...\n",
       "                              ...                        \n",
       "1113    [end, business, document, language, rule, info...\n",
       "1114    [document, intelligence, data_mining, source, ...\n",
       "1115    [year, research, technology, quantum, computin...\n",
       "1116    [stateoftheart, order, test, amount, movement,...\n",
       "1117    [service, industry, purpose, resolution, maint...\n",
       "Length: 1118, dtype: object"
      ]
     },
     "execution_count": 36,
     "metadata": {},
     "output_type": "execute_result"
    }
   ],
   "source": [
    "for i in range(len(tokenized_docs)):\n",
    "    for j in remove_words:\n",
    "        tokenized_docs[i] = list(filter(lambda a: a != j, tokenized_docs[i]))\n",
    "tokenized_docs"
   ]
  },
  {
   "cell_type": "code",
   "execution_count": 37,
   "metadata": {},
   "outputs": [],
   "source": [
    "for i in range(len(tokenized_docs)):\n",
    "    for j in range(len(tokenized_docs[i])):\n",
    "        if tokenized_docs[i][j] == 'ml':\n",
    "            tokenized_docs[i][j] = 'machine_learning'\n",
    "        elif tokenized_docs[i][j] == 'train':\n",
    "            tokenized_docs[i][j] = 'training'"
   ]
  },
  {
   "cell_type": "code",
   "execution_count": 38,
   "metadata": {},
   "outputs": [],
   "source": [
    "for i in range(len(tokenized_docs)):\n",
    "    for j in range(len(tokenized_docs[i])):\n",
    "        if tokenized_docs[i][j] == 'nlu' or tokenized_docs[i][j] == 'nlg':\n",
    "            tokenized_docs[i][j] = 'natural_language'"
   ]
  },
  {
   "cell_type": "code",
   "execution_count": 39,
   "metadata": {},
   "outputs": [],
   "source": [
    "form_vocab()"
   ]
  },
  {
   "cell_type": "code",
   "execution_count": 40,
   "metadata": {},
   "outputs": [
    {
     "data": {
      "text/plain": [
       "461"
      ]
     },
     "execution_count": 40,
     "metadata": {},
     "output_type": "execute_result"
    }
   ],
   "source": [
    "len(vocab)"
   ]
  },
  {
   "cell_type": "code",
   "execution_count": 41,
   "metadata": {},
   "outputs": [],
   "source": [
    "words_frequences = calc_frequences() "
   ]
  },
  {
   "cell_type": "code",
   "execution_count": 42,
   "metadata": {},
   "outputs": [
    {
     "data": {
      "image/png": "[encoded data removed]",
      "text/plain": [
       "<Figure size 1152x576 with 1 Axes>"
      ]
     },
     "metadata": {
      "needs_background": "light"
     },
     "output_type": "display_data"
    }
   ],
   "source": [
    "show_plot(0, 18)"
   ]
  },
  {
   "cell_type": "code",
   "execution_count": 43,
   "metadata": {},
   "outputs": [],
   "source": [
    "same_base = {}\n",
    "for word in list(vocab):\n",
    "    ok = False\n",
    "    for i in same_base.keys():\n",
    "        if word[:5] == i[:5]:\n",
    "            same_base[i].append(word)\n",
    "            ok = True\n",
    "            break\n",
    "    if ok is False:\n",
    "        same_base[word] = []"
   ]
  },
  {
   "cell_type": "code",
   "execution_count": null,
   "metadata": {},
   "outputs": [],
   "source": [
    "for key in same_base.keys():\n",
    "    if len(same_base[key]) != 0:\n",
    "        print(key, same_base[key])"
   ]
  },
  {
   "cell_type": "code",
   "execution_count": 45,
   "metadata": {},
   "outputs": [],
   "source": [
    "bad_keys = ['communication', 'marketing', 'experiment', 'consumption', 'advance', 'internship', 'contract', 'computer_vision']"
   ]
  },
  {
   "cell_type": "code",
   "execution_count": 46,
   "metadata": {},
   "outputs": [],
   "source": [
    "same_base['product'] = ['production']\n",
    "same_base['transport'] = ['transportation']\n",
    "same_base['computing'] = ['computer', 'computation']"
   ]
  },
  {
   "cell_type": "code",
   "execution_count": 47,
   "metadata": {},
   "outputs": [],
   "source": [
    "for i in range(len(tokenized_docs)):\n",
    "    for j in range(len(tokenized_docs[i])):\n",
    "        for key in same_base.keys():\n",
    "            if tokenized_docs[i][j] in same_base[key]:\n",
    "                tokenized_docs[i][j] = key"
   ]
  },
  {
   "cell_type": "code",
   "execution_count": 48,
   "metadata": {},
   "outputs": [],
   "source": [
    "form_vocab()"
   ]
  },
  {
   "cell_type": "code",
   "execution_count": 49,
   "metadata": {},
   "outputs": [
    {
     "data": {
      "text/plain": [
       "376"
      ]
     },
     "execution_count": 49,
     "metadata": {},
     "output_type": "execute_result"
    }
   ],
   "source": [
    "len(vocab)"
   ]
  },
  {
   "cell_type": "code",
   "execution_count": 50,
   "metadata": {},
   "outputs": [],
   "source": [
    "words_frequences = calc_frequences() "
   ]
  },
  {
   "cell_type": "code",
   "execution_count": 51,
   "metadata": {},
   "outputs": [
    {
     "data": {
      "image/png": "[encoded data removed]",
      "text/plain": [
       "<Figure size 1152x576 with 1 Axes>"
      ]
     },
     "metadata": {
      "needs_background": "light"
     },
     "output_type": "display_data"
    }
   ],
   "source": [
    "show_plot(0, 18)"
   ]
  },
  {
   "cell_type": "code",
   "execution_count": null,
   "metadata": {},
   "outputs": [],
   "source": [
    "tokenized_docs = tokenized_docs.apply(lambda x: x.split())"
   ]
  },
  {
   "cell_type": "code",
   "execution_count": 113,
   "metadata": {},
   "outputs": [],
   "source": [
    "tokenized_docs = tokenized_docs.apply(lambda x: x.split())"
   ]
  },
  {
   "cell_type": "code",
   "execution_count": 52,
   "metadata": {},
   "outputs": [
    {
     "data": {
      "text/plain": [
       "0       [algorithm, distribution, algorithm, algorithm...\n",
       "1       [neural_network, security, application, detect...\n",
       "2       [gameplay, testing, computer_vision, game, gra...\n",
       "3       [training, machinelearning, training, paramete...\n",
       "4       [collaborative, recommendation, collaborative,...\n",
       "                              ...                        \n",
       "1113    [document, language, document, language, commu...\n",
       "1114    [document, intelligence, data_mining, document...\n",
       "1115    [quantum, computer_vision, quantum, sensor, vo...\n",
       "1116    [test, movement, test, efficient, test, proces...\n",
       "1117    [service, industrial, resolution, maintenance,...\n",
       "Length: 1118, dtype: object"
      ]
     },
     "execution_count": 52,
     "metadata": {},
     "output_type": "execute_result"
    }
   ],
   "source": [
    "more_stop_words1 = [\"style\", \"choice\", 'participant',\"complicated\", 'project', \n",
    "'performance', 'time', 'item', 'completion', 'path', \n",
    "'difficulty', 'future_work', 'purpose', 'reason', 'attention', 'transfer', \n",
    "'area', 'change', 'scene', 'removal', 'output', 'address', 'state', 'article', \n",
    "'control', 'source', 'limitation', 'manner', 'year', 'removal', 'augmentation', 'world', \n",
    "'challenge', 'fence', 'obstruction', 'ground', 'condensate', 'ab', 'experience', \n",
    "'b', 'leverage', 'fluency', 'similarity', 'planning', 'extract', \"question\", \"context\",\"essay\", \n",
    "\"outcome\", \"educator\", 'advance','failure', 'library', 'input', 'reconstruction', 'yield',\n",
    "'utterance', 'okta', 'usage', 'cpc', 'possibility', 'theme',\"contract\", \"node\", \n",
    "\"identification\", \"city\", \"inference\", \"gap\", \"way\", \"internship\", \"field\",\"success\",\n",
    "\"background\",\"importance\",\"capture\",\"medium\",\"point\",\"goal_project\",\"risk\",\"impact\",\"measurement\",\n",
    "\"code\", \"amount\", \"size\", \"focus\", \"term\", \"range\", \"property\", \"history\", \"experimen\", \n",
    "\"people\", \"benefit\", \"technique\",\"end\",\"presence\", \"target\", 'age', 'practice', 'variety', \n",
    "'profile', 'edge', 'relationship', 'map', 'module', 'accuracy', 'domain', 'feedback', 'partner', \n",
    "'skill', 'aspect', 'effect', 'additional', 'collection', 'action', 'study', \n",
    "'activity','thing','number','function','day', 'collection', \n",
    "'core', 'variation', 'company', \"business\",'scale', 'combination', 'access', \n",
    "'demand', 'person', 'framework', 'behavior', 'gain', \n",
    "'requirement', 'role', 'today', \"quality\", \"generation\", \"hand\", \"response\", \n",
    "\"communication\", \"resource\",\"error\",\"order\",\"life\",'researcher',\n",
    "'phase', 'rule', 'pattern', 'consumption', 'form', 'cost', 'research_project', 'information', 'technology', 'home', 'research',\n",
    "'technical', 'interactive', 'scenario']\n",
    "for i in range(len(tokenized_docs)):\n",
    "    for j in more_stop_words1:\n",
    "        tokenized_docs[i] = list(filter(lambda a: a != j, tokenized_docs[i]))\n",
    "tokenized_docs"
   ]
  },
  {
   "cell_type": "code",
   "execution_count": 53,
   "metadata": {},
   "outputs": [],
   "source": [
    "form_vocab()"
   ]
  },
  {
   "cell_type": "code",
   "execution_count": 54,
   "metadata": {},
   "outputs": [],
   "source": [
    "words_frequences = calc_frequences() "
   ]
  },
  {
   "cell_type": "code",
   "execution_count": 55,
   "metadata": {},
   "outputs": [
    {
     "data": {
      "image/png": "[encoded data removed]",
      "text/plain": [
       "<Figure size 1152x576 with 1 Axes>"
      ]
     },
     "metadata": {
      "needs_background": "light"
     },
     "output_type": "display_data"
    }
   ],
   "source": [
    "show_plot(0, 18)"
   ]
  },
  {
   "cell_type": "code",
   "execution_count": 56,
   "metadata": {},
   "outputs": [],
   "source": [
    "for i in range(len(tokenized_docs)):\n",
    "    for j in range(len(tokenized_docs[i])):\n",
    "            if tokenized_docs[i][j] == 'graphql' or tokenized_docs[i][j] == 'cpc':\n",
    "                tokenized_docs[i][j] = 'graph'"
   ]
  },
  {
   "cell_type": "markdown",
   "metadata": {},
   "source": [
    "<h2> Clustering </h2>"
   ]
  },
  {
   "cell_type": "code",
   "execution_count": 57,
   "metadata": {},
   "outputs": [],
   "source": [
    "from gensim.models import LdaModel, TfidfModel"
   ]
  },
  {
   "cell_type": "markdown",
   "metadata": {},
   "source": [
    "<h3> LDA + Bert + Kmeans + Tsne </h3>"
   ]
  },
  {
   "cell_type": "markdown",
   "metadata": {},
   "source": [
    "<p> Idea: Concatenated both LDA and Bert vectors with a weight hyperparameter to balance the relative importance of information from each source. </p>"
   ]
  },
  {
   "cell_type": "code",
   "execution_count": 7,
   "metadata": {},
   "outputs": [],
   "source": [
    "from gensim.corpora import Dictionary"
   ]
  },
  {
   "cell_type": "code",
   "execution_count": 59,
   "metadata": {},
   "outputs": [],
   "source": [
    "num_of_topics = 30"
   ]
  },
  {
   "cell_type": "code",
   "execution_count": 8,
   "metadata": {},
   "outputs": [],
   "source": [
    "import torch\n",
    "from transformers import BertTokenizer, BertModel"
   ]
  },
  {
   "cell_type": "code",
   "execution_count": 9,
   "metadata": {},
   "outputs": [],
   "source": [
    "tokenizer = BertTokenizer.from_pretrained('bert-base-uncased')"
   ]
  },
  {
   "cell_type": "code",
   "execution_count": 12,
   "metadata": {},
   "outputs": [],
   "source": [
    "import pandas as pd\n",
    "test = pd.Series(['my tree is green', 'ha lol aga'])"
   ]
  },
  {
   "cell_type": "code",
   "execution_count": 62,
   "metadata": {},
   "outputs": [],
   "source": [
    "tokenized_docs = tokenized_docs.apply(lambda x: \" \".join(x))"
   ]
  },
  {
   "cell_type": "code",
   "execution_count": 13,
   "metadata": {},
   "outputs": [],
   "source": [
    "prepared_docs_for_tokenizer = test.apply(lambda x: \"[CLS] \" + x + \" [SEP]\")"
   ]
  },
  {
   "cell_type": "code",
   "execution_count": 14,
   "metadata": {},
   "outputs": [],
   "source": [
    "bert_tokenized_docs = prepared_docs_for_tokenizer.apply(lambda x: tokenizer.tokenize(x))"
   ]
  },
  {
   "cell_type": "code",
   "execution_count": 15,
   "metadata": {},
   "outputs": [
    {
     "data": {
      "text/plain": [
       "2"
      ]
     },
     "execution_count": 15,
     "metadata": {},
     "output_type": "execute_result"
    }
   ],
   "source": [
    "len(bert_tokenized_docs)"
   ]
  },
  {
   "cell_type": "code",
   "execution_count": 16,
   "metadata": {},
   "outputs": [
    {
     "data": {
      "text/plain": [
       "0     [[CLS], my, tree, is, green, [SEP]]\n",
       "1    [[CLS], ha, lo, ##l, ag, ##a, [SEP]]\n",
       "dtype: object"
      ]
     },
     "execution_count": 16,
     "metadata": {},
     "output_type": "execute_result"
    }
   ],
   "source": [
    "bert_tokenized_docs"
   ]
  },
  {
   "cell_type": "code",
   "execution_count": 17,
   "metadata": {},
   "outputs": [
    {
     "data": {
      "application/vnd.jupyter.widget-view+json": {
       "model_id": "54e4077144044968bd2d53b69c8c945f",
       "version_major": 2,
       "version_minor": 0
      },
      "text/plain": [
       "Batches:   0%|          | 0/1 [00:00<?, ?it/s]"
      ]
     },
     "metadata": {},
     "output_type": "display_data"
    }
   ],
   "source": [
    "from sentence_transformers import SentenceTransformer\n",
    "model = SentenceTransformer('distilbert-base-nli-mean-tokens')\n",
    "embeddings = model.encode(bert_tokenized_docs, show_progress_bar=True)\n"
   ]
  },
  {
   "cell_type": "code",
   "execution_count": 18,
   "metadata": {},
   "outputs": [
    {
     "data": {
      "text/plain": [
       "(2, 768)"
      ]
     },
     "execution_count": 18,
     "metadata": {},
     "output_type": "execute_result"
    }
   ],
   "source": [
    "embeddings.shape"
   ]
  },
  {
   "cell_type": "code",
   "execution_count": 88,
   "metadata": {},
   "outputs": [
    {
     "data": {
      "text/plain": [
       "array([-1.47896695e+00,  1.75263248e-02,  2.04715058e-01, -5.77046990e-01,\n",
       "        7.97752514e-02, -8.75277042e-01,  8.78899932e-01,  8.45390916e-01,\n",
       "       -2.30961442e-01,  6.12980239e-02,  3.00351292e-01,  2.87109494e-01,\n",
       "        2.41722971e-01, -8.25076222e-01,  1.50945159e-02, -5.37262082e-01,\n",
       "        4.32986282e-02, -3.95690739e-01, -2.86500782e-01, -8.08891773e-01,\n",
       "        1.02615857e+00, -2.70289153e-01, -5.38273692e-01,  1.08355451e+00,\n",
       "       -3.19635808e-01,  7.80271459e-03,  5.68314433e-01, -2.15601087e-01,\n",
       "       -2.82407463e-01,  4.19641793e-01,  1.76047117e-01, -6.63081855e-02,\n",
       "        7.81631827e-01,  5.34273982e-01,  6.54432535e-01,  2.08934143e-01,\n",
       "       -1.84107527e-01, -5.94903648e-01, -4.90490735e-01,  5.44363260e-03,\n",
       "        5.06927013e-01,  1.37820154e-01,  2.33832031e-01, -8.95929635e-01,\n",
       "       -4.81829166e-01,  1.76638335e-01, -1.59006000e+00,  7.60932803e-01,\n",
       "       -1.60059965e+00, -1.09231734e+00, -4.21707958e-01,  5.05321503e-01,\n",
       "        1.40967727e+00, -7.16338158e-01, -1.18366671e+00, -1.92346811e-01,\n",
       "       -7.22835958e-01,  6.08329415e-01,  3.95829454e-02, -1.47069007e-01,\n",
       "        2.05779269e-01, -2.16165468e-01, -1.37571067e-01, -1.95056811e-01,\n",
       "       -2.48652011e-01,  7.44269192e-01,  1.09142649e+00,  5.61139464e-01,\n",
       "        5.37374556e-01, -8.62686157e-01,  1.46525705e+00, -9.56669211e-01,\n",
       "        1.08316019e-01, -4.51093853e-01, -8.03925842e-02,  5.75304091e-01,\n",
       "        9.88605917e-02,  1.65479422e-01,  1.49234867e+00,  2.54830837e-01,\n",
       "       -1.77503735e-01, -1.19058263e+00, -9.64112163e-01,  6.05956197e-01,\n",
       "       -1.24567509e-01, -1.31278205e+00, -3.24945748e-01, -7.23340139e-02,\n",
       "       -5.35692871e-01,  6.80818439e-01,  3.53630006e-01, -8.68765056e-01,\n",
       "       -6.51511610e-01,  7.20229864e-01, -4.92808819e-01, -9.89200950e-01,\n",
       "       -1.93465263e-01, -1.37781635e-01, -1.50440261e-01,  5.30022025e-01,\n",
       "       -8.24863553e-01, -8.63627553e-01,  5.71066067e-02, -1.28109602e-03,\n",
       "       -1.15912482e-01,  5.48106968e-01,  3.83782804e-01,  3.57985586e-01,\n",
       "       -9.79669988e-02,  2.21109122e-01, -6.40876949e-01, -1.20222783e+00,\n",
       "        3.34299594e-01,  3.61869723e-01, -1.75614968e-01,  9.57601517e-02,\n",
       "       -6.65715575e-01, -6.17505908e-01, -1.69233218e-01,  2.13192441e-02,\n",
       "        1.54663965e-01,  1.67704165e+00, -4.02449548e-01,  1.24719024e+00,\n",
       "        3.02470207e-01,  5.57020068e-01,  9.08860207e-01,  5.65759778e-01,\n",
       "        1.44019410e-01, -5.70936501e-01,  7.01280773e-01,  2.89429963e-01,\n",
       "       -3.55432063e-01, -6.90557301e-01,  2.69047953e-02,  1.42808314e-02,\n",
       "        8.51732552e-01,  8.36565971e-01, -1.28915504e-01,  2.95126885e-01,\n",
       "        1.28339672e+00,  1.43418241e+00,  7.60821462e-01, -6.68745995e-01,\n",
       "        5.99049389e-01, -9.31251422e-02,  6.02802522e-02, -1.57199472e-01,\n",
       "        1.16032362e-03, -3.60265017e-01, -1.06413186e+00,  1.65526360e-01,\n",
       "       -6.69245124e-01, -2.72816956e-01, -6.89789057e-01, -1.16607857e+00,\n",
       "       -6.21575415e-01, -1.19173810e-01, -7.17263222e-01,  9.85724807e-01,\n",
       "       -3.55738342e-01,  4.29781489e-02,  6.25737607e-02, -8.73176455e-02,\n",
       "       -7.21908212e-01,  2.64277458e-01, -1.02794766e+00,  4.72143471e-01,\n",
       "       -1.98178768e-01,  4.31951195e-01,  2.41680428e-01,  6.64803743e-01,\n",
       "        1.01928365e+00,  4.30238575e-01, -9.49609756e-01,  2.92345583e-02,\n",
       "       -3.14343393e-01, -7.54633307e-01, -5.89430511e-01,  3.26040417e-01,\n",
       "       -3.63951355e-01,  3.98625024e-02,  9.03806239e-02,  1.58419255e-02,\n",
       "       -1.87068075e-01,  3.63067210e-01, -5.21754563e-01, -1.39549756e+00,\n",
       "       -4.97947037e-02,  5.92191696e-01, -1.60196111e-01,  1.05356053e-01,\n",
       "       -6.81996793e-02,  4.48999166e-01, -1.09217092e-01,  8.63102257e-01,\n",
       "        8.85982037e-01,  9.76846963e-02,  6.14749268e-02, -9.09644127e-01,\n",
       "        8.29057515e-01,  4.44707572e-01,  8.47618401e-01,  3.91786516e-01,\n",
       "       -4.79918867e-01,  2.71049827e-01,  2.73353934e-01, -6.65096521e-01,\n",
       "        5.80489449e-02,  6.17128843e-03,  3.25012982e-01, -5.29824257e-01,\n",
       "       -8.07498753e-01, -5.87882638e-01,  1.12642668e-01,  1.73327124e+00,\n",
       "        4.02272046e-02, -8.34589154e-02,  5.70110142e-01, -3.28440189e-01,\n",
       "       -1.49612397e-01, -3.09150070e-01,  4.61211279e-02, -3.03571433e-01,\n",
       "       -1.26085114e+00,  4.87912782e-02,  1.77260363e+00,  4.83663857e-01,\n",
       "        3.51958781e-01,  2.68492639e-01, -4.28924382e-01,  5.07772207e-01,\n",
       "       -1.45547330e-01,  5.64094067e-01, -3.31916124e-01,  9.55457687e-01,\n",
       "       -7.17099458e-02,  1.10025190e-01,  7.19645545e-02, -2.23468453e-01,\n",
       "        3.29356492e-01,  1.78413093e-03, -6.78544402e-01, -2.73552418e-01,\n",
       "        3.42214048e-01,  5.21400511e-01, -1.18309903e+00,  4.53259081e-01,\n",
       "        9.82786775e-01,  2.25564912e-01, -7.05965519e-01, -2.66296208e-01,\n",
       "        3.73027027e-01,  2.94401310e-02,  5.68664849e-01,  4.71265465e-01,\n",
       "       -1.24350047e+00,  4.01773930e-01,  1.01322579e+00,  1.36784628e-01,\n",
       "       -6.31645545e-02, -2.63285339e-02,  3.62537235e-01,  3.23161870e-01,\n",
       "       -8.14261660e-02, -1.23250270e+00, -2.24013239e-01,  7.10265696e-01,\n",
       "        6.03441119e-01,  2.04315446e-02, -8.25947940e-01,  7.30937123e-01,\n",
       "        5.61661124e-01,  2.48992875e-01, -1.82810724e-01,  5.63719980e-02,\n",
       "        5.68488240e-02,  8.48418832e-01, -9.17592704e-01, -2.83812076e-01,\n",
       "       -1.51762903e+00, -1.14305139e+00, -7.08152533e-01, -1.67764723e-02,\n",
       "       -4.58795220e-01,  6.30539775e-01, -7.27240384e-01, -8.43986034e-01,\n",
       "       -8.48815739e-01, -2.04452761e-02,  5.85267544e-02,  5.39476037e-01,\n",
       "       -1.47270703e+00,  5.74064374e-01, -3.41369137e-02, -4.87958819e-01,\n",
       "        5.88441566e-02, -2.07448713e-02, -4.59638357e-01,  3.22058201e-01,\n",
       "        4.81155217e-01, -9.83608425e-01, -5.03822975e-02,  2.40979239e-01,\n",
       "       -1.00909221e+00,  7.97073722e-01, -2.36801386e-01, -7.30263814e-02,\n",
       "        1.41400903e-01,  1.13303363e-01, -7.01605380e-01,  5.65639853e-01,\n",
       "       -4.36832249e-01,  2.77086526e-01,  2.62772530e-01,  1.28640103e+00,\n",
       "       -1.73437566e-01,  2.49545068e-01,  1.07148968e-01,  1.89665258e-02,\n",
       "       -6.62316740e-01,  1.13815331e+00, -8.16373825e-01, -3.04337114e-01,\n",
       "       -1.33753133e+00,  9.90798771e-01, -3.28028917e-01, -8.96467119e-02,\n",
       "       -5.74985564e-01,  3.19143295e-01,  8.77540708e-01, -1.81676000e-01,\n",
       "       -3.88630897e-01,  5.11165798e-01,  2.78035194e-01, -4.76695318e-03,\n",
       "       -1.42186952e+00,  1.54434159e-01, -1.53069213e-01, -4.68393713e-01,\n",
       "       -6.58804923e-02, -2.31401473e-01, -1.68019742e-01,  1.64656609e-01,\n",
       "        4.44419563e-01, -6.22968853e-01, -2.84043789e-01,  1.05528426e+00,\n",
       "        8.55501831e-01, -8.48397136e-01,  5.59354722e-02,  6.85583830e-01,\n",
       "       -5.45471311e-01, -2.46020079e-01,  7.59676337e-01,  6.13548577e-01,\n",
       "        2.42533520e-01, -1.94610834e-01, -1.33846611e-01,  1.11290967e+00,\n",
       "        7.11892694e-02,  7.01255500e-01,  3.27117294e-01, -2.03085855e-01,\n",
       "       -2.48152286e-01,  2.01979727e-01,  3.94045055e-01,  2.35079713e-02,\n",
       "        1.40197551e+00,  2.63264179e-02,  4.87566948e-01,  7.69480824e-01,\n",
       "        4.32316482e-01, -1.92883879e-01,  3.34485322e-01, -2.03786299e-01,\n",
       "        7.63524696e-02,  6.16368949e-01, -8.40105832e-01, -4.74813938e-01,\n",
       "       -3.32707465e-02, -9.08016801e-01, -3.93195122e-01, -3.13552827e-01,\n",
       "        2.06123590e-01,  3.33432049e-01,  7.83384860e-01, -1.60570645e+00,\n",
       "        1.24148868e-01,  3.01832825e-01, -1.60847470e-01,  2.56781638e-01,\n",
       "        1.82408288e-01, -6.05669498e-01, -2.06272885e-01, -2.02556416e-01,\n",
       "       -3.36336195e-01,  1.20607305e+00, -1.17572829e-01,  8.92964453e-02,\n",
       "        9.26643461e-02,  1.10142171e+00, -4.60859627e-01, -1.94071412e+00,\n",
       "        1.53662965e-01, -2.54765362e-01,  2.99154252e-01, -2.08959967e-01,\n",
       "        7.78800070e-01,  1.11348582e-02, -2.71323651e-01,  7.64267072e-02,\n",
       "        1.19990312e-01, -2.40926117e-01, -6.52660966e-01, -5.14239013e-01,\n",
       "       -3.25387985e-01,  3.54761854e-02,  1.06608319e+00, -4.03101355e-01,\n",
       "       -4.66236681e-01,  1.51946568e+00, -2.97370136e-01, -1.29869133e-01,\n",
       "        1.52025416e-01, -5.54746032e-01,  4.76324171e-01,  1.40076401e-02,\n",
       "        3.99302900e-01,  5.74004173e-01,  2.15818211e-01, -6.92723393e-01,\n",
       "       -1.69904780e+00, -1.62345290e-01,  1.18097512e-03, -2.80578226e-01,\n",
       "        1.38014615e-01, -1.02236378e+00, -7.63042629e-01, -1.00081575e+00,\n",
       "        9.25901011e-02, -2.83717752e-01, -9.33207944e-02,  2.07580328e-01,\n",
       "       -4.23889965e-01,  1.92117691e+00,  8.50709140e-01, -1.12963316e-03,\n",
       "       -7.12485686e-02, -5.72415709e-01,  3.79997551e-01,  8.79715741e-01,\n",
       "       -5.51632285e-01, -4.86631721e-01, -4.99894947e-01,  1.01964906e-01,\n",
       "       -1.37556410e+00,  6.26976371e-01, -3.76837403e-01,  7.09722817e-01,\n",
       "        4.38416094e-01,  8.31890628e-02, -1.11415923e+00,  4.31336582e-01,\n",
       "        9.13260430e-02, -1.92223459e-01,  6.61517978e-01,  1.67121645e-02,\n",
       "        4.17198837e-01,  1.30825114e+00, -3.61052364e-01,  2.20720857e-01,\n",
       "        3.79079312e-01,  6.52460873e-01,  5.57767808e-01, -1.52189046e-01,\n",
       "       -8.31280410e-01, -1.65798342e+00, -6.32412553e-01,  5.29188216e-02,\n",
       "       -6.70030236e-01, -3.79588664e-01, -1.77250564e-01, -2.98503458e-01,\n",
       "        6.48400128e-01, -1.66340673e+00,  5.05498230e-01, -3.37278366e-01,\n",
       "        1.16118240e+00, -8.57137382e-01, -6.19338155e-01,  8.07707131e-01,\n",
       "       -1.27872646e-01,  1.35931939e-01, -1.81131929e-01,  1.94074139e-01,\n",
       "       -2.00239872e-03,  2.14260332e-02, -1.00529594e-02, -6.63868725e-01,\n",
       "       -2.37345740e-01, -9.85307515e-01, -7.97044933e-01, -6.74753624e-04,\n",
       "        8.22798848e-01,  8.31878304e-01, -6.48940921e-01,  4.66793239e-01,\n",
       "        5.97171426e-01, -3.18456650e-01,  8.30688298e-01, -4.57210913e-02,\n",
       "        2.73800552e-01,  1.35997272e+00,  5.13895869e-01, -8.86671066e-01,\n",
       "        7.81128407e-01, -1.78779125e-01,  3.43685120e-01, -1.69935748e-01,\n",
       "       -1.42052203e-01,  1.34955645e+00,  2.45276302e-01,  4.71974760e-01,\n",
       "        3.19623470e-01,  4.78569657e-01,  1.17293432e-01,  6.44668162e-01,\n",
       "       -4.24122244e-01,  4.69952404e-01,  5.68218887e-01,  4.93114173e-01,\n",
       "       -7.43948877e-01, -2.20526978e-01, -1.15756166e+00, -4.70410258e-01,\n",
       "       -3.90922502e-02,  4.27490801e-01,  3.07179064e-01,  1.37453818e+00,\n",
       "        7.68643629e-04,  3.72324049e-01,  8.24715272e-02,  5.83839953e-01,\n",
       "       -3.22153240e-01, -1.60098076e-01,  3.52206200e-01, -3.01941991e-01,\n",
       "       -3.91812414e-01, -4.54990491e-02, -7.94488311e-01, -1.71306893e-01,\n",
       "       -4.31881130e-01,  1.45603800e+00, -6.41099989e-01, -5.75403988e-01,\n",
       "       -1.28222001e+00, -9.37687755e-01,  6.19215608e-01, -2.99880236e-01,\n",
       "       -2.13743061e-01, -1.03321888e-01,  9.00020264e-03, -3.75024110e-01,\n",
       "        3.92491221e-01, -4.11849499e-01, -1.21932387e-01, -4.65456665e-01,\n",
       "       -5.08765996e-01,  1.40276110e+00,  3.75946701e-01, -1.11270928e+00,\n",
       "        2.85471976e-01,  9.65956569e-01,  2.23020315e-02,  3.67029130e-01,\n",
       "        5.73638082e-01,  4.04810086e-02, -6.80979490e-01, -2.25068808e-01,\n",
       "        7.79679716e-01,  3.55834574e-01, -6.97070956e-01, -1.32872865e-01,\n",
       "        2.20908716e-01,  1.58674508e-01, -1.98599964e-01, -7.19916701e-01,\n",
       "        1.98634937e-01,  3.73591721e-01, -3.78001660e-01,  2.17905208e-01,\n",
       "       -3.37489367e-01, -6.52733862e-01, -1.74811232e+00,  1.12245224e-01,\n",
       "        7.54581213e-01,  5.10409474e-01, -1.21211839e+00, -3.28290403e-01,\n",
       "        3.83134872e-01, -5.59203744e-01, -4.71063793e-01,  6.44807220e-01,\n",
       "       -1.06826842e+00, -4.14171703e-02, -2.52402604e-01, -4.14018705e-02,\n",
       "       -1.59412906e-01,  1.02253842e+00,  6.05158135e-02,  1.93815306e-01,\n",
       "       -1.19523622e-01,  9.96414542e-01,  6.34497523e-01, -4.13774163e-01,\n",
       "       -7.20980048e-01,  1.16288888e+00, -6.15275986e-02,  6.55561805e-01,\n",
       "       -2.54904777e-01, -4.22639191e-01,  1.39186311e+00, -9.72653747e-01,\n",
       "        5.47735035e-01, -4.77311224e-01,  2.08471373e-01,  4.77852911e-01,\n",
       "       -5.63002586e-01,  6.42441869e-01,  3.79642814e-01,  5.88210702e-01,\n",
       "        3.03408563e-01,  5.81447959e-01, -4.79361922e-01, -1.00655162e+00,\n",
       "        1.36062041e-01, -9.25097242e-02, -5.69870114e-01, -4.23210561e-01,\n",
       "        7.65432775e-01, -3.50102693e-01,  2.72688359e-01, -3.93466055e-01,\n",
       "       -6.90593541e-01, -3.07724774e-01, -4.37985748e-01, -1.97743878e-01,\n",
       "       -4.07829762e-01,  2.43192315e-01,  1.35024428e-01, -3.85061085e-01,\n",
       "       -3.85504425e-01, -7.76669860e-01,  1.01374649e-01,  5.14718965e-02,\n",
       "        1.90022029e-02, -1.63109452e-01,  1.05654764e+00,  1.22744083e+00,\n",
       "       -1.14322531e+00,  9.07110199e-02,  1.84193537e-01, -8.21523666e-01,\n",
       "        2.97951043e-01, -7.09095716e-01,  9.44962323e-01,  4.65005696e-01,\n",
       "        3.78071845e-01, -7.99524963e-01,  3.43678057e-01, -1.28556773e-01,\n",
       "        7.15575337e-01, -5.75911045e-01,  1.43396825e-01, -2.08464906e-01,\n",
       "        4.13124174e-01,  1.85478479e-01, -1.27978744e-02, -4.81200874e-01,\n",
       "        7.45538533e-01,  1.10445797e+00,  3.05683225e-01,  1.40391797e-01,\n",
       "       -2.58928567e-01,  2.25883126e-01, -2.55637109e-01, -5.25462143e-02,\n",
       "       -3.55025470e-01,  5.83166704e-02,  6.60943538e-02, -1.41963795e-01,\n",
       "       -3.88290942e-01, -4.33348000e-01, -4.67229366e-01, -6.40000403e-01,\n",
       "       -9.36695278e-01,  7.67100692e-01, -2.30469316e-01,  7.30484068e-01,\n",
       "       -5.06463110e-01, -6.89857602e-01, -7.31152236e-01, -1.09945512e+00,\n",
       "       -4.50700462e-01,  8.58846188e-01,  6.58606172e-01,  3.30828577e-01,\n",
       "       -1.42415559e+00, -2.43686270e-02,  6.84909105e-01,  5.98370969e-01,\n",
       "        3.70224625e-01,  2.86229402e-01, -6.22436345e-01,  9.11594987e-01,\n",
       "        3.10422722e-02, -1.23932815e+00, -1.09860674e-01, -8.98648620e-01,\n",
       "        5.16463101e-01, -1.09828258e+00,  7.71087527e-01, -1.32502067e+00,\n",
       "       -2.09375426e-01,  4.32805300e-01,  2.20028251e-01, -1.08739328e+00,\n",
       "       -2.68847853e-01,  1.00273706e-01, -4.52141523e-01,  2.67743506e-02,\n",
       "       -8.87756169e-01,  8.07831585e-01,  3.29296082e-01,  2.75108099e-01,\n",
       "        1.29124391e+00, -9.20321941e-01,  3.86796653e-01, -2.39062548e-01,\n",
       "       -4.14340198e-01, -6.00809515e-01, -1.44205078e-01, -4.00156498e-01,\n",
       "       -1.65542513e-01, -8.05866420e-01, -9.47031975e-01, -1.13223875e+00,\n",
       "       -9.67273533e-01,  8.64736915e-01,  7.21389353e-01, -1.82701945e-02,\n",
       "       -2.10098833e-01, -1.25067592e+00, -1.05486178e+00, -2.00899690e-01,\n",
       "       -3.92199039e-01,  5.95880270e-01, -1.29507080e-01,  6.54678419e-02,\n",
       "        4.79932964e-01,  4.75405216e-01,  5.49190352e-03, -7.48762041e-02,\n",
       "        1.02804616e-01, -7.12933302e-01, -9.73809808e-02, -8.66068751e-02],\n",
       "      dtype=float32)"
      ]
     },
     "execution_count": 88,
     "metadata": {},
     "output_type": "execute_result"
    }
   ],
   "source": [
    "embeddings[0]"
   ]
  },
  {
   "cell_type": "code",
   "execution_count": 68,
   "metadata": {},
   "outputs": [],
   "source": [
    "from gensim.models import LdaModel\n",
    "import numpy as np\n",
    "\n",
    "tokenized_docs_splitted = tokenized_docs.apply(lambda x: x.split())\n",
    "dictionary = Dictionary(tokenized_docs_splitted )\n",
    "corpus = [dictionary.doc2bow(text) for text in tokenized_docs_splitted]\n",
    "lda_model_bert = LdaModel(corpus=corpus, num_topics=num_of_topics, passes=40,\n",
    "                                            iterations=300, \n",
    "                                            chunksize = 50, id2word=dictionary) \n",
    "n_doc = len(corpus)\n",
    "vec_lda = np.zeros((n_doc, num_of_topics))\n",
    "for i in range(len(corpus)):\n",
    "    for topic, prob in lda_model_bert.get_document_topics(corpus[i]):\n",
    "        vec_lda[i, topic] = prob\n",
    "        "
   ]
  },
  {
   "cell_type": "code",
   "execution_count": 70,
   "metadata": {},
   "outputs": [],
   "source": [
    "gamma = 15\n",
    "vec_ldabert = np.c_[vec_lda * gamma, embeddings]"
   ]
  },
  {
   "cell_type": "code",
   "execution_count": null,
   "metadata": {},
   "outputs": [],
   "source": [
    "vec_ldabert"
   ]
  },
  {
   "cell_type": "code",
   "execution_count": 71,
   "metadata": {},
   "outputs": [],
   "source": [
    "from sklearn.cluster import KMeans\n",
    "\n",
    "kmeans = KMeans(n_clusters=num_of_topics)\n",
    "y = kmeans.fit(vec_ldabert)"
   ]
  },
  {
   "cell_type": "code",
   "execution_count": 72,
   "metadata": {},
   "outputs": [
    {
     "data": {
      "text/plain": [
       "array([10,  9, 13, ...,  5,  2,  2])"
      ]
     },
     "execution_count": 72,
     "metadata": {},
     "output_type": "execute_result"
    }
   ],
   "source": [
    "y.labels_"
   ]
  },
  {
   "cell_type": "code",
   "execution_count": 73,
   "metadata": {},
   "outputs": [
    {
     "data": {
      "text/plain": [
       "array([[ 1.07639583e-01,  0.00000000e+00,  4.30871729e-01, ...,\n",
       "        -3.10576473e-01,  6.95355209e-02, -4.62228078e-01],\n",
       "       [ 2.93176026e-01, -4.33680869e-19,  6.05160814e-01, ...,\n",
       "        -3.23680961e-01, -5.25412054e-02,  2.51674595e-01],\n",
       "       [ 2.79118616e-01,  3.81679516e-03,  6.37694252e-01, ...,\n",
       "        -4.09980633e-01, -2.04460787e-01, -1.96540643e-01],\n",
       "       ...,\n",
       "       [ 3.64162871e-01, -4.33680869e-19,  3.88732437e-01, ...,\n",
       "        -4.75232650e-01, -1.15795162e-01, -1.95605967e-01],\n",
       "       [ 4.44086043e-01, -6.50521303e-19,  7.10450380e-01, ...,\n",
       "        -2.60268149e-01, -1.18350501e-01, -5.00777598e-01],\n",
       "       [ 0.00000000e+00,  0.00000000e+00,  1.11022302e-16, ...,\n",
       "        -6.67005062e-01,  7.13689208e-01, -5.61331622e-02]])"
      ]
     },
     "execution_count": 73,
     "metadata": {},
     "output_type": "execute_result"
    }
   ],
   "source": [
    "y.cluster_centers_"
   ]
  },
  {
   "cell_type": "code",
   "execution_count": 74,
   "metadata": {},
   "outputs": [
    {
     "name": "stderr",
     "output_type": "stream",
     "text": [
      "c:\\Users\\Марія\\AppData\\Local\\Programs\\Python\\Python39\\lib\\site-packages\\sklearn\\manifold\\_t_sne.py:805: FutureWarning: The default learning rate in TSNE will change from 200.0 to 'auto' in 1.2.\n",
      "  warnings.warn(\n",
      "c:\\Users\\Марія\\AppData\\Local\\Programs\\Python\\Python39\\lib\\site-packages\\sklearn\\manifold\\_t_sne.py:991: FutureWarning: The PCA initialization in TSNE will change to have the standard deviation of PC1 equal to 1e-4 in 1.2. This will ensure better convergence.\n",
      "  warnings.warn(\n"
     ]
    },
    {
     "name": "stdout",
     "output_type": "stream",
     "text": [
      "[t-SNE] Computing 91 nearest neighbors...\n",
      "[t-SNE] Indexed 1118 samples in 0.002s...\n",
      "[t-SNE] Computed neighbors for 1118 samples in 0.104s...\n",
      "[t-SNE] Computed conditional probabilities for sample 1000 / 1118\n",
      "[t-SNE] Computed conditional probabilities for sample 1118 / 1118\n",
      "[t-SNE] Mean sigma: 4.230733\n",
      "[t-SNE] KL divergence after 250 iterations with early exaggeration: 71.926529\n",
      "[t-SNE] KL divergence after 1000 iterations: 0.892206\n"
     ]
    }
   ],
   "source": [
    "from sklearn.manifold import TSNE\n",
    "\n",
    "tsne_model = TSNE(n_components=2, verbose=1, random_state=0, angle=.99, init='pca')\n",
    "tsne_lda = tsne_model.fit_transform(vec_ldabert)"
   ]
  },
  {
   "cell_type": "code",
   "execution_count": 75,
   "metadata": {},
   "outputs": [
    {
     "name": "stderr",
     "output_type": "stream",
     "text": [
      "c:\\Users\\Марія\\AppData\\Local\\Programs\\Python\\Python39\\lib\\site-packages\\sklearn\\manifold\\_t_sne.py:805: FutureWarning: The default learning rate in TSNE will change from 200.0 to 'auto' in 1.2.\n",
      "  warnings.warn(\n",
      "c:\\Users\\Марія\\AppData\\Local\\Programs\\Python\\Python39\\lib\\site-packages\\sklearn\\manifold\\_t_sne.py:991: FutureWarning: The PCA initialization in TSNE will change to have the standard deviation of PC1 equal to 1e-4 in 1.2. This will ensure better convergence.\n",
      "  warnings.warn(\n"
     ]
    },
    {
     "name": "stdout",
     "output_type": "stream",
     "text": [
      "[t-SNE] Computing 29 nearest neighbors...\n",
      "[t-SNE] Indexed 30 samples in 0.001s...\n",
      "[t-SNE] Computed neighbors for 30 samples in 0.015s...\n",
      "[t-SNE] Computed conditional probabilities for sample 30 / 30\n",
      "[t-SNE] Mean sigma: 1125899906842624.000000\n",
      "[t-SNE] KL divergence after 250 iterations with early exaggeration: 41.902931\n",
      "[t-SNE] KL divergence after 950 iterations: 0.563744\n"
     ]
    }
   ],
   "source": [
    "tsne_lda_centers = tsne_model.fit_transform(y.cluster_centers_)"
   ]
  },
  {
   "cell_type": "code",
   "execution_count": null,
   "metadata": {},
   "outputs": [],
   "source": [
    "tsne_lda_centers"
   ]
  },
  {
   "cell_type": "code",
   "execution_count": null,
   "metadata": {},
   "outputs": [],
   "source": [
    "tsne_lda"
   ]
  },
  {
   "cell_type": "code",
   "execution_count": 78,
   "metadata": {},
   "outputs": [],
   "source": [
    "kmeans_labels = {i: [] for i in range(0, num_of_topics)}\n",
    "kmeans_centers = {i: 0 for i in range(0, num_of_topics)}\n",
    "for i in range(len(y.labels_)):\n",
    "    kmeans_labels[y.labels_[i]].append([tsne_lda[i][0], tsne_lda[i][1]])"
   ]
  },
  {
   "cell_type": "code",
   "execution_count": 79,
   "metadata": {},
   "outputs": [],
   "source": [
    "for i in range(num_of_topics):\n",
    "    kmeans_centers[i] = [tsne_lda_centers[i][0], tsne_lda_centers[i][1]]"
   ]
  },
  {
   "cell_type": "code",
   "execution_count": 80,
   "metadata": {},
   "outputs": [
    {
     "data": {
      "text/plain": [
       "29"
      ]
     },
     "execution_count": 80,
     "metadata": {},
     "output_type": "execute_result"
    }
   ],
   "source": [
    "max(y.labels_)"
   ]
  },
  {
   "cell_type": "code",
   "execution_count": 81,
   "metadata": {},
   "outputs": [
    {
     "data": {
      "text/plain": [
       "30"
      ]
     },
     "execution_count": 81,
     "metadata": {},
     "output_type": "execute_result"
    }
   ],
   "source": [
    "num_of_topics"
   ]
  },
  {
   "cell_type": "code",
   "execution_count": 83,
   "metadata": {},
   "outputs": [
    {
     "data": {
      "text/plain": [
       "str"
      ]
     },
     "execution_count": 83,
     "metadata": {},
     "output_type": "execute_result"
    }
   ],
   "source": [
    "type(tokenized_docs[0])"
   ]
  },
  {
   "cell_type": "code",
   "execution_count": 84,
   "metadata": {},
   "outputs": [],
   "source": [
    "kmeans_texts = {i: [] for i in range(0, num_of_topics)}\n",
    "kmeans_title = {i: [] for i in range(0, num_of_topics)}\n",
    "for i in range(len(y.labels_)):\n",
    "    kmeans_texts[y.labels_[i]].append(tokenized_docs[i])\n",
    "    kmeans_title[y.labels_[i]].append(titles[i])"
   ]
  },
  {
   "cell_type": "code",
   "execution_count": null,
   "metadata": {},
   "outputs": [],
   "source": [
    "kmeans_texts"
   ]
  },
  {
   "cell_type": "code",
   "execution_count": 123,
   "metadata": {},
   "outputs": [],
   "source": [
    "kmeans_text_freqs = {i: {} for i in range(num_of_topics)}\n",
    "for i in kmeans_texts.keys():\n",
    "    for j in range(len(kmeans_texts[i])):\n",
    "        key_words = kmeans_texts[i][j].split()\n",
    "        for c in key_words:\n",
    "            if kmeans_text_freqs[i].get(c) == None:\n",
    "                kmeans_text_freqs[i][c] = 1\n",
    "            else:\n",
    "                kmeans_text_freqs[i][c] += 1\n"
   ]
  },
  {
   "cell_type": "code",
   "execution_count": 124,
   "metadata": {},
   "outputs": [],
   "source": [
    "for i in kmeans_text_freqs:\n",
    "    kmeans_text_freqs[i] = {k: v for k, v in sorted(kmeans_text_freqs[i].items(), key=lambda item: item[1], reverse=True)[:10]}"
   ]
  },
  {
   "cell_type": "code",
   "execution_count": 125,
   "metadata": {},
   "outputs": [
    {
     "data": {
      "text/plain": [
       "{0: {'mobile_app': 18,\n",
       "  'building': 17,\n",
       "  'location': 12,\n",
       "  'app': 11,\n",
       "  'device': 11,\n",
       "  'camera': 8,\n",
       "  'development': 7,\n",
       "  'analysis': 7,\n",
       "  'partner_organization': 7,\n",
       "  'enterprise': 6},\n",
       " 1: {'internet': 75,\n",
       "  'web': 35,\n",
       "  'network': 33,\n",
       "  'tool': 32,\n",
       "  'security': 27,\n",
       "  'device': 18,\n",
       "  'product': 17,\n",
       "  'community': 16,\n",
       "  'app': 16,\n",
       "  'design': 15},\n",
       " 2: {'analysis': 69,\n",
       "  'machinelearning': 44,\n",
       "  'product': 38,\n",
       "  'computer_vision': 34,\n",
       "  'representation': 33,\n",
       "  'healthcare': 33,\n",
       "  'tool': 32,\n",
       "  'network': 30,\n",
       "  'recognition': 30,\n",
       "  'software': 29},\n",
       " 3: {'patient': 59,\n",
       "  'medical': 28,\n",
       "  'treatment': 22,\n",
       "  'healthcare': 17,\n",
       "  'machinelearning': 16,\n",
       "  'cancer': 16,\n",
       "  'image': 14,\n",
       "  'hospital': 13,\n",
       "  'algorithm': 12,\n",
       "  'experiment': 12},\n",
       " 4: {'computer_vision': 70,\n",
       "  'security': 17,\n",
       "  'industrial': 16,\n",
       "  'software': 15,\n",
       "  'algorithm': 14,\n",
       "  'internet': 13,\n",
       "  'product': 12,\n",
       "  'application': 11,\n",
       "  'network': 11,\n",
       "  'device': 11},\n",
       " 5: {'product': 41,\n",
       "  'tool': 36,\n",
       "  'development': 35,\n",
       "  'analysis': 32,\n",
       "  'software': 30,\n",
       "  'internet': 26,\n",
       "  'industrial': 18,\n",
       "  'design': 17,\n",
       "  'service': 16,\n",
       "  'environment': 15},\n",
       " 6: {'customer': 41,\n",
       "  'marketing': 32,\n",
       "  'machinelearning': 19,\n",
       "  'algorithm': 17,\n",
       "  'feature': 15,\n",
       "  'prediction': 14,\n",
       "  'service': 14,\n",
       "  'internet': 14,\n",
       "  'client': 11,\n",
       "  'network': 10},\n",
       " 7: {'internet': 54,\n",
       "  'database': 39,\n",
       "  'management': 30,\n",
       "  'design': 24,\n",
       "  'visualization': 17,\n",
       "  'experiment': 16,\n",
       "  'platform': 16,\n",
       "  'analysis': 15,\n",
       "  'software': 15,\n",
       "  'team': 14},\n",
       " 8: {'software': 80,\n",
       "  'app': 33,\n",
       "  'widget': 30,\n",
       "  'development': 20,\n",
       "  'industrial': 17,\n",
       "  'product': 16,\n",
       "  'customer': 14,\n",
       "  'security': 12,\n",
       "  'program': 12,\n",
       "  'tool': 11},\n",
       " 9: {'image': 112,\n",
       "  'photo': 19,\n",
       "  'neural_network': 16,\n",
       "  'advertising': 14,\n",
       "  'training': 13,\n",
       "  'space': 11,\n",
       "  'network': 10,\n",
       "  'camera': 9,\n",
       "  'display': 9,\n",
       "  'resolution': 8},\n",
       " 10: {'platform': 68,\n",
       "  'algorithm': 65,\n",
       "  'app': 62,\n",
       "  'service': 23,\n",
       "  'application': 21,\n",
       "  'computer_vision': 21,\n",
       "  'machinelearning': 19,\n",
       "  'blockchain': 19,\n",
       "  'security': 17,\n",
       "  'mobile_app': 17},\n",
       " 11: {'safety': 15,\n",
       "  'natural_language': 15,\n",
       "  'machinelearning': 11,\n",
       "  'security': 11,\n",
       "  'computer_vision': 11,\n",
       "  'environment': 9,\n",
       "  'classification': 8,\n",
       "  'development': 8,\n",
       "  'product': 8,\n",
       "  'customer': 7},\n",
       " 12: {'recommendation': 82,\n",
       "  'customer': 54,\n",
       "  'product': 29,\n",
       "  'algorithm': 15,\n",
       "  'collaborative': 14,\n",
       "  'experiment': 14,\n",
       "  'credit': 14,\n",
       "  'website': 13,\n",
       "  'purchase': 12,\n",
       "  'internet': 8},\n",
       " 13: {'game': 57,\n",
       "  'computer_vision': 16,\n",
       "  'player': 12,\n",
       "  'processor': 11,\n",
       "  'internet': 9,\n",
       "  'agent': 9,\n",
       "  'analysis': 9,\n",
       "  'gameplay': 8,\n",
       "  'development': 8,\n",
       "  'reinforcement': 7},\n",
       " 14: {'industrial': 38,\n",
       "  'internet': 19,\n",
       "  'product': 16,\n",
       "  'software': 13,\n",
       "  'algorithm': 12,\n",
       "  'analysis': 12,\n",
       "  'app': 11,\n",
       "  'engineering': 10,\n",
       "  'safety': 9,\n",
       "  'development': 9},\n",
       " 15: {'healthcare': 13,\n",
       "  'canada': 9,\n",
       "  'product': 6,\n",
       "  'internet': 4,\n",
       "  'sector': 4,\n",
       "  'effectiveness': 4,\n",
       "  'innovation': 3,\n",
       "  'treatment': 3,\n",
       "  'line': 3,\n",
       "  'offer': 3},\n",
       " 16: {'energy': 31,\n",
       "  'healthcare': 23,\n",
       "  'product': 19,\n",
       "  'active': 19,\n",
       "  'streaming': 17,\n",
       "  'algorithm': 16,\n",
       "  'advantage': 16,\n",
       "  'analysis': 16,\n",
       "  'environment': 15,\n",
       "  'management': 15},\n",
       " 17: {'network': 115,\n",
       "  'service': 73,\n",
       "  'security': 29,\n",
       "  'traffic': 23,\n",
       "  'internet': 20,\n",
       "  'algorithm': 19,\n",
       "  'operator': 15,\n",
       "  'prototype': 11,\n",
       "  'infrastructure': 11,\n",
       "  'provider': 10},\n",
       " 18: {'education': 19,\n",
       "  'teacher': 14,\n",
       "  'learning': 9,\n",
       "  'tool': 7,\n",
       "  'computer_vision': 6,\n",
       "  'university': 6,\n",
       "  'machinelearning': 6,\n",
       "  'partner_organization': 6,\n",
       "  'analysis': 5,\n",
       "  'product': 5},\n",
       " 19: {'healthcare': 76,\n",
       "  'care': 23,\n",
       "  'patient': 23,\n",
       "  'medical': 20,\n",
       "  'service': 15,\n",
       "  'device': 14,\n",
       "  'internet': 13,\n",
       "  'platform': 13,\n",
       "  'complete': 12,\n",
       "  'analysis': 12},\n",
       " 20: {'supplier': 27,\n",
       "  'program': 26,\n",
       "  'software': 25,\n",
       "  'team': 24,\n",
       "  'management': 23,\n",
       "  'organization': 22,\n",
       "  'tool': 20,\n",
       "  'machinelearning': 17,\n",
       "  'development': 17,\n",
       "  'experiment': 16},\n",
       " 21: {'machinelearning': 103,\n",
       "  'prediction': 35,\n",
       "  'algorithm': 34,\n",
       "  'decision': 22,\n",
       "  'classification': 20,\n",
       "  'sample': 18,\n",
       "  'clustering': 14,\n",
       "  'product': 14,\n",
       "  'tree': 13,\n",
       "  'healthcare': 12},\n",
       " 22: {'effectiveness': 21,\n",
       "  'tool': 13,\n",
       "  'speech': 10,\n",
       "  'game': 10,\n",
       "  'recognition': 9,\n",
       "  'industrial': 8,\n",
       "  'efficient': 7,\n",
       "  'simulation': 6,\n",
       "  'private': 6,\n",
       "  'patient': 6},\n",
       " 23: {'algorithm': 17,\n",
       "  'threat': 16,\n",
       "  'service': 15,\n",
       "  'computer_vision': 15,\n",
       "  'cloud': 15,\n",
       "  'artificial': 14,\n",
       "  'speech': 14,\n",
       "  'tool': 13,\n",
       "  'security': 13,\n",
       "  'machinelearning': 13},\n",
       " 24: {'community': 22,\n",
       "  'population': 14,\n",
       "  'healthcare': 13,\n",
       "  'care': 11,\n",
       "  'management': 9,\n",
       "  'prototype': 9,\n",
       "  'lab': 7,\n",
       "  'program': 6,\n",
       "  'group': 6,\n",
       "  'client': 6},\n",
       " 25: {'detection': 33,\n",
       "  'camera': 28,\n",
       "  'algorithm': 25,\n",
       "  'search': 23,\n",
       "  'processor': 22,\n",
       "  'image': 21,\n",
       "  'sensor': 20,\n",
       "  'training': 19,\n",
       "  'computer_vision': 18,\n",
       "  'internet': 17},\n",
       " 26: {'drug': 20,\n",
       "  'cell': 10,\n",
       "  'discovery': 6,\n",
       "  'image': 6,\n",
       "  'machinelearning': 6,\n",
       "  'motion': 6,\n",
       "  'blood': 6,\n",
       "  'feature': 5,\n",
       "  'signal': 4,\n",
       "  'vision': 4},\n",
       " 27: {'patient': 71,\n",
       "  'document': 41,\n",
       "  'text': 39,\n",
       "  'healthcare': 21,\n",
       "  'asset': 20,\n",
       "  'analysis': 18,\n",
       "  'algorithm': 16,\n",
       "  'disease': 16,\n",
       "  'care': 15,\n",
       "  'image': 14},\n",
       " 28: {'analysis': 18,\n",
       "  'algorithm': 18,\n",
       "  'complete': 15,\n",
       "  'machinelearning': 15,\n",
       "  'intelligence': 15,\n",
       "  'internet': 15,\n",
       "  'tool': 12,\n",
       "  'traditional': 12,\n",
       "  'partner_organization': 11,\n",
       "  'product': 11},\n",
       " 29: {'robot': 30,\n",
       "  'product': 9,\n",
       "  'testing': 6,\n",
       "  'environment': 5,\n",
       "  'operator': 5,\n",
       "  'complete': 5,\n",
       "  'development': 5,\n",
       "  'detection': 4,\n",
       "  'component': 4,\n",
       "  'training': 3}}"
      ]
     },
     "execution_count": 125,
     "metadata": {},
     "output_type": "execute_result"
    }
   ],
   "source": [
    "kmeans_text_freqs"
   ]
  },
  {
   "cell_type": "code",
   "execution_count": 126,
   "metadata": {},
   "outputs": [],
   "source": [
    "def get_words(ind):\n",
    "    s = ' '\n",
    "    count = 0\n",
    "    for k in kmeans_text_freqs[ind].keys():\n",
    "        s += k + \", \"\n",
    "        count += 1\n",
    "        if count == 10:\n",
    "            s.rstrip(', ')\n",
    "            break\n",
    "    return s"
   ]
  },
  {
   "cell_type": "code",
   "execution_count": 127,
   "metadata": {},
   "outputs": [],
   "source": [
    "c1 =  [\"#000000\", \"#FFFF00\", \"#1CE6FF\", \"#FF34FF\", \"#FF4A46\", \"#008941\", \"#006FA6\", \"#A30059\",\n",
    "        \"#FFDBE5\", \"#7A4900\", \"#0000A6\", \"#63FFAC\", \"#B79762\", \"#004D43\", \"#8FB0FF\", \"#997D87\",\n",
    "        \"#5A0007\", \"#809693\", \"#FEFFE6\", \"#1B4400\", \"#4FC601\", \"#3B5DFF\", \"#4A3B53\", \"#FF2F80\",\n",
    "        \"#61615A\", \"#BA0900\", \"#6B7900\", \"#00C2A0\", \"#FFAA92\", \"#FF90C9\", \"#B903AA\", \"#D16100\",\n",
    "        \"#DDEFFF\", \"#000035\", \"#7B4F4B\", \"#A1C299\", \"#300018\", \"#0AA6D8\", \"#013349\", \"#00846F\",\n",
    "        \"#372101\", \"#FFB500\", \"#C2FFED\", \"#A079BF\", \"#CC0744\", \"#C0B9B2\", \"#C2FF99\", \"#001E09\",\n",
    "        \"#00489C\", \"#6F0062\", \"#0CBD66\", \"#EEC3FF\", \"#456D75\", \"#B77B68\", \"#7A87A1\", \"#788D66\",\n",
    "        \"#885578\", \"#FAD09F\", \"#FF8A9A\", \"#D157A0\", \"#BEC459\", \"#456648\", \"#0086ED\", \"#886F4C\",\n",
    "        \n",
    "        \"#34362D\", \"#B4A8BD\", \"#00A6AA\", \"#452C2C\", \"#636375\", \"#A3C8C9\", \"#FF913F\", \"#938A81\",\n",
    "        \"#575329\", \"#00FECF\", \"#B05B6F\", \"#8CD0FF\", \"#3B9700\", \"#04F757\", \"#C8A1A1\", \"#1E6E00\",\n",
    "        \"#7900D7\", \"#A77500\", \"#6367A9\", \"#A05837\", \"#6B002C\", \"#772600\", \"#D790FF\", \"#9B9700\",\n",
    "        \"#549E79\", \"#FFF69F\", \"#201625\", \"#72418F\", \"#BC23FF\", \"#99ADC0\", \"#3A2465\", \"#922329\",\n",
    "        \"#5B4534\", \"#FDE8DC\", \"#404E55\", \"#0089A3\", \"#CB7E98\", \"#A4E804\", \"#324E72\", \"#6A3A4C\",\n",
    "        \"#83AB58\", \"#001C1E\", \"#D1F7CE\", \"#004B28\", \"#C8D0F6\", \"#A3A489\", \"#806C66\", \"#222800\",\n",
    "        \"#BF5650\", \"#E83000\", \"#66796D\", \"#DA007C\", \"#FF1A59\", \"#8ADBB4\", \"#1E0200\", \"#5B4E51\",\n",
    "        \"#C895C5\", \"#320033\", \"#FF6832\", \"#66E1D3\", \"#CFCDAC\", \"#D0AC94\", \"#7ED379\", \"#012C58\"]"
   ]
  },
  {
   "cell_type": "code",
   "execution_count": 91,
   "metadata": {},
   "outputs": [
    {
     "data": {
      "text/plain": [
       "128"
      ]
     },
     "execution_count": 91,
     "metadata": {},
     "output_type": "execute_result"
    }
   ],
   "source": [
    "len(c1)"
   ]
  },
  {
   "cell_type": "code",
   "execution_count": 92,
   "metadata": {},
   "outputs": [
    {
     "data": {
      "text/plain": [
       "17"
      ]
     },
     "execution_count": 92,
     "metadata": {},
     "output_type": "execute_result"
    }
   ],
   "source": [
    "import csv\n",
    "\n",
    "# open the file in the write mode\n",
    "f = open('kmeans_bert_lda_19.csv', 'w')\n",
    "\n",
    "# create the csv writer\n",
    "writer = csv.writer(f)\n",
    "writer.writerow(['Title', 'x', 'y', 'Topic'])"
   ]
  },
  {
   "cell_type": "code",
   "execution_count": 128,
   "metadata": {},
   "outputs": [],
   "source": [
    "doc_topics_initial = []\n",
    "se = set()\n",
    "for i in range(num_of_topics):\n",
    "    topic = get_words(i)\n",
    "    for j in range(len(kmeans_labels[i])):\n",
    "        p = {}\n",
    "        if kmeans_title[i][j] in list(titles[:108]) and (kmeans_title[i][j] not in se):\n",
    "            p['Topic'] = topic\n",
    "            se.add(kmeans_title[i][j])\n",
    "            p['Title'] = kmeans_title[i][j]\n",
    "            p['Doc_keywords'] = kmeans_texts[i][j]\n",
    "            doc_topics_initial.append(p)"
   ]
  },
  {
   "cell_type": "code",
   "execution_count": 129,
   "metadata": {},
   "outputs": [
    {
     "data": {
      "text/html": [
       "<div>\n",
       "<style scoped>\n",
       "    .dataframe tbody tr th:only-of-type {\n",
       "        vertical-align: middle;\n",
       "    }\n",
       "\n",
       "    .dataframe tbody tr th {\n",
       "        vertical-align: top;\n",
       "    }\n",
       "\n",
       "    .dataframe thead th {\n",
       "        text-align: right;\n",
       "    }\n",
       "</style>\n",
       "<table border=\"1\" class=\"dataframe\">\n",
       "  <thead>\n",
       "    <tr style=\"text-align: right;\">\n",
       "      <th></th>\n",
       "      <th>Topic</th>\n",
       "      <th>Title</th>\n",
       "      <th>Doc_keywords</th>\n",
       "    </tr>\n",
       "  </thead>\n",
       "  <tbody>\n",
       "    <tr>\n",
       "      <th>0</th>\n",
       "      <td>mobile_app, building, location, app, device, ...</td>\n",
       "      <td>snap analytics</td>\n",
       "      <td>mobile_app product enterprise development app ...</td>\n",
       "    </tr>\n",
       "    <tr>\n",
       "      <th>1</th>\n",
       "      <td>mobile_app, building, location, app, device, ...</td>\n",
       "      <td>soti snap widget enhancements</td>\n",
       "      <td>mobile_app development maintenance app develop...</td>\n",
       "    </tr>\n",
       "    <tr>\n",
       "      <th>2</th>\n",
       "      <td>mobile_app, building, location, app, device, ...</td>\n",
       "      <td>indoor geofence</td>\n",
       "      <td>mobile_app enterprise job device device locati...</td>\n",
       "    </tr>\n",
       "    <tr>\n",
       "      <th>3</th>\n",
       "      <td>internet, web, network, tool, security, devic...</td>\n",
       "      <td>web page contextual subcomponents recognition ...</td>\n",
       "      <td>web page sentence efficient internet web page ...</td>\n",
       "    </tr>\n",
       "    <tr>\n",
       "      <th>4</th>\n",
       "      <td>analysis, machinelearning, product, computer_...</td>\n",
       "      <td>using a temporal convolutional network for dem...</td>\n",
       "      <td>decision product loss decision product product...</td>\n",
       "    </tr>\n",
       "    <tr>\n",
       "      <th>...</th>\n",
       "      <td>...</td>\n",
       "      <td>...</td>\n",
       "      <td>...</td>\n",
       "    </tr>\n",
       "    <tr>\n",
       "      <th>103</th>\n",
       "      <td>analysis, algorithm, complete, machinelearnin...</td>\n",
       "      <td>natural languagebased live video filtering proxy</td>\n",
       "      <td>intelligence analysis camera cloud processor s...</td>\n",
       "    </tr>\n",
       "    <tr>\n",
       "      <th>104</th>\n",
       "      <td>analysis, algorithm, complete, machinelearnin...</td>\n",
       "      <td>material and lighting estimation based on d im...</td>\n",
       "      <td>deep_learning image training training neural_n...</td>\n",
       "    </tr>\n",
       "    <tr>\n",
       "      <th>105</th>\n",
       "      <td>analysis, algorithm, complete, machinelearnin...</td>\n",
       "      <td>automated diagnostic solution for managing mob...</td>\n",
       "      <td>intelligence device signal analysis applicatio...</td>\n",
       "    </tr>\n",
       "    <tr>\n",
       "      <th>106</th>\n",
       "      <td>robot, product, testing, environment, operato...</td>\n",
       "      <td>dampingbot learning to stabilize objects in ha...</td>\n",
       "      <td>robot speed reinforcement active robot positio...</td>\n",
       "    </tr>\n",
       "    <tr>\n",
       "      <th>107</th>\n",
       "      <td>robot, product, testing, environment, operato...</td>\n",
       "      <td>machine learning techniques to optimize the pe...</td>\n",
       "      <td>robot training detection evaluation realworld ...</td>\n",
       "    </tr>\n",
       "  </tbody>\n",
       "</table>\n",
       "<p>108 rows × 3 columns</p>\n",
       "</div>"
      ],
      "text/plain": [
       "                                                 Topic  \\\n",
       "0     mobile_app, building, location, app, device, ...   \n",
       "1     mobile_app, building, location, app, device, ...   \n",
       "2     mobile_app, building, location, app, device, ...   \n",
       "3     internet, web, network, tool, security, devic...   \n",
       "4     analysis, machinelearning, product, computer_...   \n",
       "..                                                 ...   \n",
       "103   analysis, algorithm, complete, machinelearnin...   \n",
       "104   analysis, algorithm, complete, machinelearnin...   \n",
       "105   analysis, algorithm, complete, machinelearnin...   \n",
       "106   robot, product, testing, environment, operato...   \n",
       "107   robot, product, testing, environment, operato...   \n",
       "\n",
       "                                                 Title  \\\n",
       "0                                       snap analytics   \n",
       "1                        soti snap widget enhancements   \n",
       "2                                      indoor geofence   \n",
       "3    web page contextual subcomponents recognition ...   \n",
       "4    using a temporal convolutional network for dem...   \n",
       "..                                                 ...   \n",
       "103   natural languagebased live video filtering proxy   \n",
       "104  material and lighting estimation based on d im...   \n",
       "105  automated diagnostic solution for managing mob...   \n",
       "106  dampingbot learning to stabilize objects in ha...   \n",
       "107  machine learning techniques to optimize the pe...   \n",
       "\n",
       "                                          Doc_keywords  \n",
       "0    mobile_app product enterprise development app ...  \n",
       "1    mobile_app development maintenance app develop...  \n",
       "2    mobile_app enterprise job device device locati...  \n",
       "3    web page sentence efficient internet web page ...  \n",
       "4    decision product loss decision product product...  \n",
       "..                                                 ...  \n",
       "103  intelligence analysis camera cloud processor s...  \n",
       "104  deep_learning image training training neural_n...  \n",
       "105  intelligence device signal analysis applicatio...  \n",
       "106  robot speed reinforcement active robot positio...  \n",
       "107  robot training detection evaluation realworld ...  \n",
       "\n",
       "[108 rows x 3 columns]"
      ]
     },
     "execution_count": 129,
     "metadata": {},
     "output_type": "execute_result"
    }
   ],
   "source": [
    "df2 = pd.DataFrame(doc_topics_initial)\n",
    "df2"
   ]
  },
  {
   "cell_type": "code",
   "execution_count": 116,
   "metadata": {},
   "outputs": [],
   "source": [
    "doc_topics = []\n",
    "se = set()\n",
    "for i in range(num_of_topics):\n",
    "    topic = get_words(i)\n",
    "    for j in range(len(kmeans_labels[i])):\n",
    "        p = {}\n",
    "        if kmeans_title[i][j] in list(titles) and (kmeans_title[i][j] not in se):\n",
    "            p['Topic'] = topic\n",
    "            se.add(kmeans_title[i][j])\n",
    "            p['Title'] = kmeans_title[i][j]\n",
    "            p['Doc_keywords'] = kmeans_texts[i][j]\n",
    "        doc_topics.append(p)"
   ]
  },
  {
   "cell_type": "code",
   "execution_count": 117,
   "metadata": {},
   "outputs": [
    {
     "data": {
      "text/html": [
       "<div>\n",
       "<style scoped>\n",
       "    .dataframe tbody tr th:only-of-type {\n",
       "        vertical-align: middle;\n",
       "    }\n",
       "\n",
       "    .dataframe tbody tr th {\n",
       "        vertical-align: top;\n",
       "    }\n",
       "\n",
       "    .dataframe thead th {\n",
       "        text-align: right;\n",
       "    }\n",
       "</style>\n",
       "<table border=\"1\" class=\"dataframe\">\n",
       "  <thead>\n",
       "    <tr style=\"text-align: right;\">\n",
       "      <th></th>\n",
       "      <th>Topic</th>\n",
       "      <th>Title</th>\n",
       "      <th>Doc_keywords</th>\n",
       "    </tr>\n",
       "  </thead>\n",
       "  <tbody>\n",
       "    <tr>\n",
       "      <th>0</th>\n",
       "      <td>mobile_app, building, location,</td>\n",
       "      <td>snap analytics</td>\n",
       "      <td>mobile_app product enterprise development app ...</td>\n",
       "    </tr>\n",
       "    <tr>\n",
       "      <th>1</th>\n",
       "      <td>mobile_app, building, location,</td>\n",
       "      <td>soti snap widget enhancements</td>\n",
       "      <td>mobile_app development maintenance app develop...</td>\n",
       "    </tr>\n",
       "    <tr>\n",
       "      <th>2</th>\n",
       "      <td>mobile_app, building, location,</td>\n",
       "      <td>indoor geofence</td>\n",
       "      <td>mobile_app enterprise job device device locati...</td>\n",
       "    </tr>\n",
       "    <tr>\n",
       "      <th>3</th>\n",
       "      <td>mobile_app, building, location,</td>\n",
       "      <td>novaxe novel online system for guitar music sc...</td>\n",
       "      <td>building graphic display position search algor...</td>\n",
       "    </tr>\n",
       "    <tr>\n",
       "      <th>4</th>\n",
       "      <td>mobile_app, building, location,</td>\n",
       "      <td>reconstructing viewing parameters from images ...</td>\n",
       "      <td>aircraft aircraft mobile_app processor power c...</td>\n",
       "    </tr>\n",
       "    <tr>\n",
       "      <th>...</th>\n",
       "      <td>...</td>\n",
       "      <td>...</td>\n",
       "      <td>...</td>\n",
       "    </tr>\n",
       "    <tr>\n",
       "      <th>1113</th>\n",
       "      <td>robot, product, testing,</td>\n",
       "      <td>design and optimization of the product platfor...</td>\n",
       "      <td>robot marketing robot complete component compl...</td>\n",
       "    </tr>\n",
       "    <tr>\n",
       "      <th>1114</th>\n",
       "      <td>robot, product, testing,</td>\n",
       "      <td>study and development of energyefficient colla...</td>\n",
       "      <td>robot robot collaborative robot robot building...</td>\n",
       "    </tr>\n",
       "    <tr>\n",
       "      <th>1115</th>\n",
       "      <td>robot, product, testing,</td>\n",
       "      <td>riskaware decision support systems for critica...</td>\n",
       "      <td>robot sensor network infrastructure app infras...</td>\n",
       "    </tr>\n",
       "    <tr>\n",
       "      <th>1116</th>\n",
       "      <td>robot, product, testing,</td>\n",
       "      <td>acceptance testing framework for robotic softw...</td>\n",
       "      <td>robot hardware device internet natural_languag...</td>\n",
       "    </tr>\n",
       "    <tr>\n",
       "      <th>1117</th>\n",
       "      <td>robot, product, testing,</td>\n",
       "      <td>advanced control and data analysis in support ...</td>\n",
       "      <td>robot detection material robot operator camera...</td>\n",
       "    </tr>\n",
       "  </tbody>\n",
       "</table>\n",
       "<p>1118 rows × 3 columns</p>\n",
       "</div>"
      ],
      "text/plain": [
       "                                  Topic  \\\n",
       "0      mobile_app, building, location,    \n",
       "1      mobile_app, building, location,    \n",
       "2      mobile_app, building, location,    \n",
       "3      mobile_app, building, location,    \n",
       "4      mobile_app, building, location,    \n",
       "...                                 ...   \n",
       "1113          robot, product, testing,    \n",
       "1114          robot, product, testing,    \n",
       "1115          robot, product, testing,    \n",
       "1116          robot, product, testing,    \n",
       "1117          robot, product, testing,    \n",
       "\n",
       "                                                  Title  \\\n",
       "0                                        snap analytics   \n",
       "1                         soti snap widget enhancements   \n",
       "2                                       indoor geofence   \n",
       "3     novaxe novel online system for guitar music sc...   \n",
       "4     reconstructing viewing parameters from images ...   \n",
       "...                                                 ...   \n",
       "1113  design and optimization of the product platfor...   \n",
       "1114  study and development of energyefficient colla...   \n",
       "1115  riskaware decision support systems for critica...   \n",
       "1116  acceptance testing framework for robotic softw...   \n",
       "1117  advanced control and data analysis in support ...   \n",
       "\n",
       "                                           Doc_keywords  \n",
       "0     mobile_app product enterprise development app ...  \n",
       "1     mobile_app development maintenance app develop...  \n",
       "2     mobile_app enterprise job device device locati...  \n",
       "3     building graphic display position search algor...  \n",
       "4     aircraft aircraft mobile_app processor power c...  \n",
       "...                                                 ...  \n",
       "1113  robot marketing robot complete component compl...  \n",
       "1114  robot robot collaborative robot robot building...  \n",
       "1115  robot sensor network infrastructure app infras...  \n",
       "1116  robot hardware device internet natural_languag...  \n",
       "1117  robot detection material robot operator camera...  \n",
       "\n",
       "[1118 rows x 3 columns]"
      ]
     },
     "execution_count": 117,
     "metadata": {},
     "output_type": "execute_result"
    }
   ],
   "source": [
    "df1 = pd.DataFrame(doc_topics)\n",
    "df1"
   ]
  },
  {
   "cell_type": "code",
   "execution_count": 118,
   "metadata": {},
   "outputs": [],
   "source": [
    "excel_file = 'sheet_kmeans_bert_lda_19.xlsx'\n",
    "df1.to_excel(excel_file) "
   ]
  },
  {
   "cell_type": "code",
   "execution_count": 119,
   "metadata": {},
   "outputs": [],
   "source": [
    "excel_file = 'sheet_kmeans_initial_bert_lda_19.xlsx'\n",
    "df2.to_excel(excel_file) "
   ]
  },
  {
   "cell_type": "code",
   "execution_count": 96,
   "metadata": {},
   "outputs": [
    {
     "data": {
      "image/png": "[encoded data removed]",
      "text/plain": [
       "<Figure size 1440x1440 with 1 Axes>"
      ]
     },
     "metadata": {
      "needs_background": "light"
     },
     "output_type": "display_data"
    }
   ],
   "source": [
    "import matplotlib.patches as mpatches\n",
    "fig, ax = plt.subplots(figsize = (20,20))\n",
    "patches = []\n",
    "for i in range(num_of_topics):\n",
    "    topic = get_words(i)\n",
    "    patch = mpatches.Patch(color=c1[i], label=topic)\n",
    "    patches.append(patch)\n",
    "    for j in range(len(kmeans_labels[i])):\n",
    "        if kmeans_title[i][j] in list(titles):\n",
    "            ax.scatter(kmeans_labels[i][j][0], kmeans_labels[i][j][1], color=c1[i])\n",
    "            writer.writerow([kmeans_title[i][j], kmeans_labels[i][j][0], kmeans_labels[i][j][1], topic])\n",
    "    ax.legend(handles=patches, loc=4)\n",
    "f.close()\n"
   ]
  },
  {
   "cell_type": "markdown",
   "metadata": {},
   "source": [
    "<iframe title=\"25 topics\" aria-label=\"Scatter Plot\" id=\"datawrapper-chart-LVQsE\" src=\"https://datawrapper.dwcdn.net/LVQsE/1/\" scrolling=\"no\" frameborder=\"0\" style=\"width: 0; min-width: 100% !important; border: none;\" height=\"628\"></iframe><script type=\"text/javascript\">!function(){\"use strict\";window.addEventListener(\"message\",(function(e){if(void 0!==e.data[\"datawrapper-height\"]){var t=document.querySelectorAll(\"iframe\");for(var a in e.data[\"datawrapper-height\"])for(var r=0;r<t.length;r++){if(t[r].contentWindow===e.source)t[r].style.height=e.data[\"datawrapper-height\"][a]+\"px\"}}}))}();\n",
    "</script>"
   ]
  },
  {
   "cell_type": "markdown",
   "metadata": {},
   "source": [
    "<iframe title=\"30 topics\" aria-label=\"Scatter Plot\" id=\"datawrapper-chart-0ca6G\" src=\"https://datawrapper.dwcdn.net/0ca6G/1/\" scrolling=\"no\" frameborder=\"0\" style=\"width: 0; min-width: 100% !important; border: none;\" height=\"755\"></iframe><script type=\"text/javascript\">!function(){\"use strict\";window.addEventListener(\"message\",(function(e){if(void 0!==e.data[\"datawrapper-height\"]){var t=document.querySelectorAll(\"iframe\");for(var a in e.data[\"datawrapper-height\"])for(var r=0;r<t.length;r++){if(t[r].contentWindow===e.source)t[r].style.height=e.data[\"datawrapper-height\"][a]+\"px\"}}}))}();\n",
    "</script>"
   ]
  },
  {
   "cell_type": "markdown",
   "metadata": {},
   "source": [
    "<h3> Prediction </h3>"
   ]
  },
  {
   "cell_type": "code",
   "execution_count": 3,
   "metadata": {},
   "outputs": [],
   "source": [
    "def predict(model_lda, new_text):\n",
    "    tc = TextCleaner()\n",
    "    new_text = tc.text_cleaning(new_text).split()\n",
    "    new_text_corpus =  dictionary.doc2bow(new_text)\n",
    "    vec_lda_predict = np.zeros((1, num_of_topics))\n",
    "    for topic, prob in model_lda.get_document_topics(new_text_corpus):\n",
    "        vec_lda_predict[0, topic] = prob\n",
    "    tokenizer_bert = BertTokenizer.from_pretrained('bert-base-uncased')\n",
    "    bert_text_to_predict = \"[CLS] \" + \" \".join(new_text) + \" [SEP]\"\n",
    "    hah_predict = tokenizer_bert.tokenize(bert_text_to_predict)\n",
    "    hah_predict = pd.Series([hah_predict])\n",
    "\n",
    "    bert_model = SentenceTransformer('distilbert-base-nli-mean-tokens')\n",
    "    embeddings_predict = bert_model.encode(hah_predict, show_progress_bar=True)\n",
    "    \n",
    "    vec_ldabert_predict = np.c_[vec_lda_predict * gamma, embeddings_predict]\n",
    "    kmeans_model = pickle.load(open(\"lda_bert_kmeans_tsne/model19/kmeans_model.pkl\", \"rb\"))\n",
    "    predict_cluster = kmeans_model.predict(vec_ldabert_predict)\n",
    "    return predict_cluster"
   ]
  },
  {
   "cell_type": "code",
   "execution_count": 2,
   "metadata": {},
   "outputs": [],
   "source": [
    "new_text = '''The aim of the project is to create a model that generates a latent semantic representation for query and retrieved passages.\n",
    " The results are then ranked by the similarity scores of the passage representations to the query representation. The experimental \n",
    " architectures were built using Recurrent Neural Networks (Bi-LSTMs), attention, and legal embeddings. They were then trained with \n",
    " a custom loss function, which pushes the most semantically similar passages as the top-K results. These architectures and loss \n",
    " function can be generalised for Learning to Rank objective in any Information Retrieval (IR) domain.'''"
   ]
  },
  {
   "cell_type": "code",
   "execution_count": 1,
   "metadata": {},
   "outputs": [],
   "source": [
    "saved_directory_path = 'lda_bert_kmeans_tsne/model19/'"
   ]
  },
  {
   "cell_type": "code",
   "execution_count": 100,
   "metadata": {},
   "outputs": [],
   "source": [
    "import uuid\n",
    "import os \n",
    "import pickle\n",
    "\n",
    "lda_model_bert.save(f'{saved_directory_path}lda_model/lda.model')\n",
    "pickle.dump(kmeans, open(saved_directory_path + \"kmeans_model.pkl\", \"wb\"))"
   ]
  },
  {
   "cell_type": "code",
   "execution_count": 4,
   "metadata": {},
   "outputs": [
    {
     "ename": "NameError",
     "evalue": "name 'lda_model_bert' is not defined",
     "output_type": "error",
     "traceback": [
      "\u001b[1;31m---------------------------------------------------------------------------\u001b[0m",
      "\u001b[1;31mNameError\u001b[0m                                 Traceback (most recent call last)",
      "\u001b[1;32m~\\AppData\\Local\\Temp\\ipykernel_13668\\2436204112.py\u001b[0m in \u001b[0;36m<cell line: 1>\u001b[1;34m()\u001b[0m\n\u001b[1;32m----> 1\u001b[1;33m \u001b[0mresult\u001b[0m \u001b[1;33m=\u001b[0m \u001b[0mpredict\u001b[0m\u001b[1;33m(\u001b[0m\u001b[0mlda_model_bert\u001b[0m\u001b[1;33m,\u001b[0m \u001b[0mnew_text\u001b[0m\u001b[1;33m)\u001b[0m\u001b[1;33m\u001b[0m\u001b[1;33m\u001b[0m\u001b[0m\n\u001b[0m\u001b[0;32m      2\u001b[0m \u001b[0mresult\u001b[0m\u001b[1;33m\u001b[0m\u001b[1;33m\u001b[0m\u001b[0m\n",
      "\u001b[1;31mNameError\u001b[0m: name 'lda_model_bert' is not defined"
     ]
    }
   ],
   "source": [
    "result = predict(lda_model_bert, new_text)\n",
    "result"
   ]
  },
  {
   "cell_type": "code",
   "execution_count": null,
   "metadata": {},
   "outputs": [],
   "source": [
    "#!pip install sentence_transformers"
   ]
  },
  {
   "cell_type": "markdown",
   "metadata": {},
   "source": [
    "<h3> Trying pure LDA </h3>"
   ]
  },
  {
   "cell_type": "code",
   "execution_count": null,
   "metadata": {},
   "outputs": [],
   "source": [
    "num_of_topics = 15\n",
    "file_name_doc_top = 'document-topic_15_topics_3.xlsx'\n",
    "file_name_top_repr = 'topic_representation_of_docs_15_topics_3.xlsx'"
   ]
  },
  {
   "cell_type": "code",
   "execution_count": null,
   "metadata": {},
   "outputs": [],
   "source": [
    "from gensim.corpora import Dictionary\n",
    "from gensim.models import LdaModel, TfidfModel\n",
    "from gensim.models.coherencemodel import CoherenceModel\n",
    "#use tf-idf\n",
    "dictionary = Dictionary(tokenized_docs)\n",
    "corpus = [dictionary.doc2bow(text) for text in tokenized_docs]"
   ]
  },
  {
   "cell_type": "code",
   "execution_count": null,
   "metadata": {},
   "outputs": [],
   "source": [
    "def calculate_coherence_score(n, coh_score):\n",
    "    lda_model = LdaModel(corpus=corpus, num_topics=n, passes=20,\n",
    "                                            iterations=300, \n",
    "                                            chunksize = 50, id2word=dictionary) \n",
    "    coherence_model_lda = CoherenceModel(model=lda_model, texts=tokenized_docs, dictionary=dictionary, coherence=coh_score)\n",
    "    coherence_lda = coherence_model_lda.get_coherence()\n",
    "    return (coherence_lda, lda_model)"
   ]
  },
  {
   "cell_type": "code",
   "execution_count": null,
   "metadata": {},
   "outputs": [],
   "source": [
    "n = [20, 25, 30]\n",
    "alpha = ['asymmetric', 'symmetric', 'auto', 0.1, 0.4, 0.6, 0.7]\n",
    "betta = ['symmetric', 'auto', 0.1, 0.4, 0.6, 0.7]\n",
    "x = []\n",
    "for i in n:\n",
    "    for a in alpha:\n",
    "        for b in betta:\n",
    "            x.append(i)"
   ]
  },
  {
   "cell_type": "code",
   "execution_count": null,
   "metadata": {},
   "outputs": [],
   "source": [
    "n = [i for i in range(10, 40)]\n",
    "coherence_values_lda = {}\n",
    "y = []\n",
    "alpha = ['asymmetric', 'symmetric', 'auto', 0.1, 0.4, 0.6, 0.7]\n",
    "betta = ['symmetric', 'auto', 0.1, 0.4, 0.6, 0.7]\n",
    "min = 15\n",
    "x = []\n",
    "for i in n:\n",
    "    coh = calculate_coherence_score(i, 'u_mass')\n",
    "    coherence_values_lda[coh[0]] = coh[1]\n",
    "    y.append(coh[0])\n",
    "    if coh[0] < min:\n",
    "        min = coh[0]\n",
    "    print(i, coh)"
   ]
  },
  {
   "cell_type": "code",
   "execution_count": null,
   "metadata": {},
   "outputs": [
    {
     "data": {
      "image/png": "[encoded data removed]",
      "text/plain": [
       "<Figure size 432x288 with 1 Axes>"
      ]
     },
     "metadata": {
      "needs_background": "light"
     },
     "output_type": "display_data"
    }
   ],
   "source": [
    "plt.plot(n, y)\n",
    "plt.xlabel(\"Num Topics\")\n",
    "plt.ylabel(\"Coherence score\")\n",
    "plt.legend((\"coherence_values\"), loc='best')\n",
    "plt.show()"
   ]
  },
  {
   "cell_type": "code",
   "execution_count": null,
   "metadata": {},
   "outputs": [
    {
     "data": {
      "text/plain": [
       "-11.08620347841254"
      ]
     },
     "execution_count": 257,
     "metadata": {},
     "output_type": "execute_result"
    }
   ],
   "source": [
    "min"
   ]
  },
  {
   "cell_type": "code",
   "execution_count": null,
   "metadata": {},
   "outputs": [],
   "source": [
    "lda_model = coherence_values_lda[min]"
   ]
  },
  {
   "cell_type": "code",
   "execution_count": null,
   "metadata": {},
   "outputs": [
    {
     "data": {
      "image/png": "[encoded data removed]",
      "text/plain": [
       "<Figure size 432x288 with 1 Axes>"
      ]
     },
     "metadata": {
      "needs_background": "light"
     },
     "output_type": "display_data"
    }
   ],
   "source": [
    "y = [x[0] for x in coherence_values]\n",
    "plt.plot(n, y)\n",
    "plt.xlabel(\"Num Topics\")\n",
    "plt.ylabel(\"Coherence score\")\n",
    "plt.legend((\"coherence_values\"), loc='best')\n",
    "plt.show()"
   ]
  },
  {
   "cell_type": "code",
   "execution_count": null,
   "metadata": {},
   "outputs": [],
   "source": [
    "n = [i for i in range(10, 40)]\n",
    "coherence_values = []\n",
    "for i in n:\n",
    "    coh = calculate_coherence_score(i, 'c_v')\n",
    "    coherence_values.append(coh)\n",
    "    print(i, coh)\n",
    "plt.plot(n, coherence_values)\n",
    "plt.xlabel(\"Num Topics\")\n",
    "plt.ylabel(\"Coherence score\")\n",
    "plt.legend((\"coherence_values\"), loc='best')\n",
    "plt.show()"
   ]
  },
  {
   "cell_type": "code",
   "execution_count": null,
   "metadata": {},
   "outputs": [],
   "source": [
    "def get_coh(model, coh_score):\n",
    "    coherence_model_lda = CoherenceModel(model=model, texts=tokenized_docs, dictionary=dictionary, coherence=coh_score)\n",
    "    coherence_lda = coherence_model_lda.get_coherence()\n",
    "    return coherence_lda"
   ]
  },
  {
   "cell_type": "code",
   "execution_count": 402,
   "metadata": {},
   "outputs": [],
   "source": [
    "lda_model = LdaModel(corpus=corpus, num_topics=num_of_topics, passes=40,\n",
    "                                            iterations=300, \n",
    "                                            chunksize = 50, id2word=dictionary) "
   ]
  },
  {
   "cell_type": "code",
   "execution_count": null,
   "metadata": {},
   "outputs": [
    {
     "data": {
      "text/plain": [
       "-9.296459247152711"
      ]
     },
     "execution_count": 270,
     "metadata": {},
     "output_type": "execute_result"
    }
   ],
   "source": [
    "get_coh(lda_model, 'u_mass')"
   ]
  },
  {
   "cell_type": "code",
   "execution_count": 96,
   "metadata": {},
   "outputs": [
    {
     "data": {
      "text/plain": [
       "[(0,\n",
       "  '0.192*\"image\" + 0.119*\"database\" + 0.099*\"camera\" + 0.081*\"information\" + 0.062*\"processing\" + 0.057*\"volume\" + 0.055*\"website\" + 0.048*\"opportunity\" + 0.047*\"deep_learning\" + 0.041*\"user_experience\"'),\n",
       " (1,\n",
       "  '0.276*\"product\" + 0.224*\"customer\" + 0.186*\"recommendation\" + 0.072*\"component\" + 0.041*\"information\" + 0.039*\"experiment\" + 0.038*\"purchase\" + 0.038*\"storage\" + 0.034*\"email\" + 0.016*\"estimation\"'),\n",
       " (2,\n",
       "  '0.098*\"application\" + 0.079*\"security\" + 0.071*\"platform\" + 0.058*\"infrastructure\" + 0.058*\"computer_vision\" + 0.051*\"mobile_device\" + 0.050*\"developer\" + 0.048*\"robotic\" + 0.043*\"location\" + 0.042*\"information\"'),\n",
       " (3,\n",
       "  '0.221*\"healthcare\" + 0.096*\"information\" + 0.071*\"decision\" + 0.054*\"analysis\" + 0.052*\"privacy\" + 0.041*\"service\" + 0.033*\"representation\" + 0.030*\"imaging\" + 0.030*\"store\" + 0.029*\"group\"'),\n",
       " (4,\n",
       "  '0.294*\"natural_language\" + 0.285*\"text\" + 0.144*\"disease\" + 0.106*\"classification\" + 0.061*\"diagnosis\" + 0.039*\"graph\" + 0.031*\"label\" + 0.011*\"bert\" + 0.000*\"quantum\" + 0.000*\"nlp\"'),\n",
       " (5,\n",
       "  '0.147*\"marketing\" + 0.132*\"game\" + 0.095*\"prediction\" + 0.090*\"programming\" + 0.065*\"monitoring\" + 0.062*\"agent\" + 0.047*\"computer_vision\" + 0.046*\"analysis\" + 0.042*\"trend\" + 0.042*\"player\"'),\n",
       " (6,\n",
       "  '0.910*\"algorithm\" + 0.064*\"evaluation\" + 0.000*\"message\" + 0.000*\"sensor\" + 0.000*\"condition\" + 0.000*\"survey\" + 0.000*\"constraint\" + 0.000*\"device\" + 0.000*\"body\" + 0.000*\"attack\"'),\n",
       " (7,\n",
       "  '0.004*\"phone\" + 0.004*\"implementation\" + 0.004*\"disease\" + 0.004*\"diagnosis\" + 0.004*\"web\" + 0.004*\"page\" + 0.004*\"location\" + 0.004*\"line\" + 0.004*\"transport\" + 0.004*\"mobile_device\"'),\n",
       " (8,\n",
       "  '0.426*\"machinelearning\" + 0.148*\"artificial_intelligence\" + 0.086*\"training\" + 0.066*\"dataset\" + 0.059*\"feature\" + 0.044*\"collaboration\" + 0.042*\"signal\" + 0.036*\"cell\" + 0.030*\"discovery\" + 0.024*\"drug\"'),\n",
       " (9,\n",
       "  '0.004*\"phone\" + 0.004*\"implementation\" + 0.004*\"disease\" + 0.004*\"diagnosis\" + 0.004*\"web\" + 0.004*\"page\" + 0.004*\"location\" + 0.004*\"line\" + 0.004*\"transport\" + 0.004*\"mobile_device\"'),\n",
       " (10,\n",
       "  '0.123*\"tool\" + 0.117*\"software\" + 0.094*\"analysis\" + 0.080*\"developer\" + 0.078*\"industrial_partner\" + 0.049*\"information\" + 0.042*\"visualization\" + 0.038*\"organization\" + 0.034*\"integration\" + 0.034*\"care\"'),\n",
       " (11,\n",
       "  '0.217*\"language\" + 0.211*\"test\" + 0.145*\"web\" + 0.108*\"recognition\" + 0.105*\"speech\" + 0.042*\"tracking\" + 0.037*\"rate\" + 0.028*\"noise\" + 0.025*\"sentence\" + 0.023*\"page\"'),\n",
       " (12,\n",
       "  '0.635*\"detector\" + 0.158*\"cancer\" + 0.066*\"reduction\" + 0.036*\"tomography\" + 0.018*\"cnn\" + 0.017*\"analysis\" + 0.000*\"facility\" + 0.000*\"treatment\" + 0.000*\"device\" + 0.000*\"condition\"'),\n",
       " (13,\n",
       "  '0.270*\"document\" + 0.195*\"client\" + 0.127*\"information\" + 0.095*\"asset\" + 0.070*\"intelligence\" + 0.050*\"transaction\" + 0.048*\"vision\" + 0.047*\"proposal\" + 0.043*\"pipeline\" + 0.033*\"credit\"'),\n",
       " (14,\n",
       "  '0.270*\"network\" + 0.250*\"service\" + 0.121*\"operation\" + 0.093*\"prototype\" + 0.072*\"provider\" + 0.048*\"mechanism\" + 0.040*\"traffic\" + 0.037*\"maintenance\" + 0.029*\"environment\" + 0.022*\"flow\"'),\n",
       " (15,\n",
       "  '0.170*\"management\" + 0.128*\"optimization\" + 0.091*\"strategy\" + 0.073*\"cluster\" + 0.066*\"structure\" + 0.061*\"safety\" + 0.058*\"methodology\" + 0.051*\"power\" + 0.050*\"platform\" + 0.047*\"addition\"'),\n",
       " (16,\n",
       "  '0.544*\"app\" + 0.146*\"support\" + 0.104*\"neural_network\" + 0.081*\"space\" + 0.047*\"resolution\" + 0.044*\"setting\" + 0.012*\"convolutional\" + 0.000*\"widget\" + 0.000*\"trading\" + 0.000*\"device\"'),\n",
       " (17,\n",
       "  '0.139*\"search\" + 0.125*\"environment\" + 0.123*\"computer_vision\" + 0.116*\"design\" + 0.106*\"engineering\" + 0.059*\"simulation\" + 0.056*\"reality\" + 0.039*\"position\" + 0.039*\"price\" + 0.038*\"forecast\"'),\n",
       " (18,\n",
       "  '0.004*\"phone\" + 0.004*\"implementation\" + 0.004*\"disease\" + 0.004*\"diagnosis\" + 0.004*\"web\" + 0.004*\"page\" + 0.004*\"location\" + 0.004*\"line\" + 0.004*\"transport\" + 0.004*\"mobile_device\"'),\n",
       " (19,\n",
       "  '0.004*\"phone\" + 0.004*\"implementation\" + 0.004*\"disease\" + 0.004*\"diagnosis\" + 0.004*\"web\" + 0.004*\"page\" + 0.004*\"location\" + 0.004*\"line\" + 0.004*\"transport\" + 0.004*\"mobile_device\"')]"
      ]
     },
     "execution_count": 96,
     "metadata": {},
     "output_type": "execute_result"
    }
   ],
   "source": [
    "lda_model.print_topics()"
   ]
  },
  {
   "cell_type": "code",
   "execution_count": 95,
   "metadata": {},
   "outputs": [],
   "source": [
    "lda_model = LdaModel.load('lda_models/lda_model_20_topics_3/lda.model')"
   ]
  },
  {
   "cell_type": "code",
   "execution_count": null,
   "metadata": {},
   "outputs": [
    {
     "name": "stdout",
     "output_type": "stream",
     "text": [
      "c_v: 0.4203632201749937\n",
      "u_mass: -8.473737993362695\n"
     ]
    }
   ],
   "source": [
    "print('c_v:', get_coh(lda_model, 'c_v'))\n",
    "print('u_mass:', get_coh(lda_model, 'u_mass'))\n"
   ]
  },
  {
   "cell_type": "code",
   "execution_count": null,
   "metadata": {},
   "outputs": [
    {
     "data": {
      "text/plain": [
       "[('change', 0.09515191),\n",
       " ('measurement', 0.054821763),\n",
       " ('loss', 0.04341777),\n",
       " ('network', 0.032722626),\n",
       " ('minibatches', 0.031567056),\n",
       " ('minibatch', 0.031567056),\n",
       " ('reuse', 0.028118046),\n",
       " ('throughput', 0.025966093),\n",
       " ('bottleneck', 0.025965676),\n",
       " ('protocol', 0.023815656)]"
      ]
     },
     "execution_count": 381,
     "metadata": {},
     "output_type": "execute_result"
    }
   ],
   "source": [
    "lda_model.show_topic(1)"
   ]
  },
  {
   "cell_type": "code",
   "execution_count": null,
   "metadata": {},
   "outputs": [],
   "source": [
    "words_of_topics = { tid: [(dictionary[wid], s) for (wid, s) in lda_model.get_topic_terms(tid, topn=20)] for tid in range(num_of_topics) }"
   ]
  },
  {
   "cell_type": "code",
   "execution_count": null,
   "metadata": {},
   "outputs": [],
   "source": [
    "unique_topics = set()\n",
    "for i in lda_model.print_topics():\n",
    "    unique_topics.add(i[1])"
   ]
  },
  {
   "cell_type": "code",
   "execution_count": null,
   "metadata": {},
   "outputs": [
    {
     "name": "stdout",
     "output_type": "stream",
     "text": [
      "0.222*\"product\" + 0.127*\"researcher\" + 0.107*\"decision\" + 0.085*\"engineering\" + 0.076*\"quality\" + 0.071*\"demand\" + 0.058*\"industrial_partner\" + 0.043*\"rate\" + 0.038*\"group\" + 0.029*\"forecast\"\n",
      "\n",
      "0.173*\"app\" + 0.103*\"researcher\" + 0.088*\"platform\" + 0.085*\"communication\" + 0.071*\"management\" + 0.049*\"mobile_device\" + 0.035*\"variety\" + 0.034*\"developer\" + 0.032*\"support\" + 0.029*\"plan\"\n",
      "\n",
      "0.219*\"image\" + 0.144*\"effect\" + 0.083*\"practice\" + 0.071*\"neural_network\" + 0.070*\"reality\" + 0.065*\"space\" + 0.052*\"training\" + 0.050*\"profile\" + 0.050*\"position\" + 0.035*\"parameter\"\n",
      "\n",
      "0.003*\"profile\" + 0.003*\"storage\" + 0.003*\"variety\" + 0.003*\"transport\" + 0.003*\"mobile_device\" + 0.003*\"resolution\" + 0.003*\"person\" + 0.003*\"search\" + 0.003*\"age\" + 0.003*\"privacy\"\n",
      "\n",
      "0.221*\"customer\" + 0.192*\"recommendation\" + 0.096*\"behavior\" + 0.094*\"volume\" + 0.081*\"product\" + 0.070*\"website\" + 0.063*\"information\" + 0.042*\"gain\" + 0.040*\"purchase\" + 0.036*\"email\"\n",
      "\n",
      "0.143*\"artificial_intelligence\" + 0.142*\"industrial_partner\" + 0.081*\"organization\" + 0.070*\"machinelearning\" + 0.064*\"role\" + 0.061*\"objective_project\" + 0.060*\"function\" + 0.055*\"requirement\" + 0.045*\"data_mining\" + 0.044*\"life\"\n",
      "\n",
      "0.173*\"information\" + 0.102*\"tool\" + 0.082*\"researcher\" + 0.072*\"natural_language\" + 0.068*\"text\" + 0.059*\"order\" + 0.046*\"visualization\" + 0.044*\"robotic\" + 0.042*\"developer\" + 0.041*\"integration\"\n",
      "\n",
      "0.325*\"study\" + 0.196*\"activity\" + 0.101*\"collection\" + 0.075*\"core\" + 0.075*\"action\" + 0.074*\"mechanism\" + 0.067*\"variation\" + 0.057*\"cell\" + 0.005*\"understanding\" + 0.000*\"partner\"\n",
      "\n",
      "0.273*\"service\" + 0.266*\"network\" + 0.127*\"operation\" + 0.090*\"pattern\" + 0.076*\"provider\" + 0.039*\"traffic\" + 0.037*\"storage\" + 0.021*\"flow\" + 0.020*\"complexity\" + 0.013*\"reduction\"\n",
      "\n",
      "0.149*\"detector\" + 0.127*\"camera\" + 0.086*\"web\" + 0.081*\"number\" + 0.080*\"prototype\" + 0.071*\"asset\" + 0.067*\"deep_learning\" + 0.041*\"maintenance\" + 0.038*\"computer_vision\" + 0.037*\"cancer\"\n",
      "\n",
      "0.243*\"software\" + 0.159*\"computer_vision\" + 0.147*\"application\" + 0.101*\"design\" + 0.097*\"programming\" + 0.094*\"resource\" + 0.051*\"support\" + 0.039*\"tool\" + 0.017*\"teacher\" + 0.015*\"creation\"\n",
      "\n",
      "0.153*\"document\" + 0.102*\"database\" + 0.058*\"speech\" + 0.057*\"recognition\" + 0.041*\"information\" + 0.038*\"topic\" + 0.038*\"opportunity\" + 0.037*\"today\" + 0.035*\"enterprise\" + 0.035*\"environment\"\n",
      "\n",
      "0.354*\"healthcare\" + 0.153*\"test\" + 0.094*\"monitoring\" + 0.059*\"hospital\" + 0.053*\"error\" + 0.050*\"safety\" + 0.049*\"assessment\" + 0.036*\"pipeline\" + 0.032*\"testing\" + 0.026*\"setting\"\n",
      "\n",
      "0.414*\"domain\" + 0.291*\"feedback\" + 0.103*\"education\" + 0.093*\"sentence\" + 0.025*\"bert\" + 0.000*\"partner\" + 0.000*\"skill\" + 0.000*\"attack\" + 0.000*\"forum\" + 0.000*\"supplier\"\n",
      "\n",
      "0.221*\"addition\" + 0.179*\"structure\" + 0.178*\"vehicle\" + 0.139*\"power\" + 0.138*\"classification\" + 0.087*\"speed\" + 0.019*\"safety\" + 0.000*\"modelling\" + 0.000*\"device\" + 0.000*\"partner\"\n",
      "\n",
      "0.358*\"disease\" + 0.273*\"relationship\" + 0.143*\"diagnosis\" + 0.084*\"graph\" + 0.063*\"label\" + 0.010*\"training\" + 0.000*\"body\" + 0.000*\"partner\" + 0.000*\"treatment\" + 0.000*\"lab\"\n",
      "\n",
      "0.296*\"analysis\" + 0.145*\"researcher\" + 0.143*\"language\" + 0.080*\"scale\" + 0.043*\"representation\" + 0.043*\"combination\" + 0.042*\"machinelearning\" + 0.037*\"stream\" + 0.031*\"dataset\" + 0.029*\"learning\"\n",
      "\n",
      "0.267*\"machinelearning\" + 0.205*\"business\" + 0.156*\"prediction\" + 0.088*\"care\" + 0.077*\"feature\" + 0.071*\"trend\" + 0.046*\"sale\" + 0.033*\"age\" + 0.021*\"thing\" + 0.021*\"edge\"\n",
      "\n"
     ]
    }
   ],
   "source": [
    "for i in unique_topics:\n",
    "    print(i)\n",
    "    print()"
   ]
  },
  {
   "cell_type": "code",
   "execution_count": null,
   "metadata": {},
   "outputs": [],
   "source": [
    "import uuid\n",
    "import os \n",
    "\n",
    "lda_model.save(f'lda_models/lda_model_20_topics_3/lda.model')"
   ]
  },
  {
   "cell_type": "code",
   "execution_count": null,
   "metadata": {},
   "outputs": [
    {
     "data": {
      "text/plain": [
       "<gensim.interfaces.TransformedCorpus at 0x176e0a03f70>"
      ]
     },
     "execution_count": 200,
     "metadata": {},
     "output_type": "execute_result"
    }
   ],
   "source": [
    "docTopicProbMat = lda_model[corpus]\n",
    "for topic in docTopicProbMat:\n",
    "    for i in topic:\n",
    "        if i[0] == 15:\n",
    "            print(topic)"
   ]
  },
  {
   "cell_type": "code",
   "execution_count": null,
   "metadata": {},
   "outputs": [
    {
     "name": "stderr",
     "output_type": "stream",
     "text": [
      "ERROR: Invalid requirement: \"'pyLDAvis==3.2.1'\"\n",
      "WARNING: You are using pip version 21.1.3; however, version 22.1.2 is available.\n",
      "You should consider upgrading via the 'c:\\users\\марія\\appdata\\local\\programs\\python\\python39\\python.exe -m pip install --upgrade pip' command.\n"
     ]
    }
   ],
   "source": [
    "!pip install 'pyLDAvis==3.2.1'"
   ]
  },
  {
   "cell_type": "code",
   "execution_count": 93,
   "metadata": {},
   "outputs": [
    {
     "ename": "ModuleNotFoundError",
     "evalue": "No module named 'pyLDAvis.gensim_models'",
     "output_type": "error",
     "traceback": [
      "\u001b[1;31m---------------------------------------------------------------------------\u001b[0m",
      "\u001b[1;31mModuleNotFoundError\u001b[0m                       Traceback (most recent call last)",
      "\u001b[1;32mc:\\canada\\document_matching\\documetnt-matching.ipynb Cell 102'\u001b[0m in \u001b[0;36m<cell line: 2>\u001b[1;34m()\u001b[0m\n\u001b[0;32m      <a href='vscode-notebook-cell:/c%3A/canada/document_matching/documetnt-matching.ipynb#ch0000097?line=0'>1</a>\u001b[0m \u001b[39mimport\u001b[39;00m \u001b[39mpyLDAvis\u001b[39;00m\n\u001b[1;32m----> <a href='vscode-notebook-cell:/c%3A/canada/document_matching/documetnt-matching.ipynb#ch0000097?line=1'>2</a>\u001b[0m \u001b[39mimport\u001b[39;00m \u001b[39mpyLDAvis\u001b[39;00m\u001b[39m.\u001b[39;00m\u001b[39mgensim_models\u001b[39;00m \u001b[39mas\u001b[39;00m \u001b[39mgensimvis\u001b[39;00m\n\u001b[0;32m      <a href='vscode-notebook-cell:/c%3A/canada/document_matching/documetnt-matching.ipynb#ch0000097?line=3'>4</a>\u001b[0m pyLDAvis\u001b[39m.\u001b[39menable_notebook()\n\u001b[0;32m      <a href='vscode-notebook-cell:/c%3A/canada/document_matching/documetnt-matching.ipynb#ch0000097?line=4'>5</a>\u001b[0m vis \u001b[39m=\u001b[39m gensimvis\u001b[39m.\u001b[39mprepare(lda_model, corpus, dictionary, mds\u001b[39m=\u001b[39m\u001b[39m'\u001b[39m\u001b[39mmmds\u001b[39m\u001b[39m'\u001b[39m)\n",
      "\u001b[1;31mModuleNotFoundError\u001b[0m: No module named 'pyLDAvis.gensim_models'"
     ]
    }
   ],
   "source": [
    "import pyLDAvis\n",
    "import pyLDAvis.gensim_models as gensimvis\n",
    "\n",
    "pyLDAvis.enable_notebook()\n",
    "vis = gensimvis.prepare(lda_model, corpus, dictionary, mds='mmds')\n",
    "vis"
   ]
  },
  {
   "cell_type": "markdown",
   "metadata": {},
   "source": []
  },
  {
   "cell_type": "code",
   "execution_count": null,
   "metadata": {},
   "outputs": [],
   "source": [
    "def format_topics_sentences():\n",
    "    sent_topics_df = pd.DataFrame()\n",
    "    for i, row in enumerate(lda_model[corpus]):\n",
    "        row = sorted(row, key=lambda x: (x[1]), reverse=True)\n",
    "        for j, (topic_num, prop_topic) in enumerate(row):\n",
    "            if j == 0:\n",
    "                topic_keywords = \", \".join([word + \":\" + str(round(prop,4)) for word, prop in words_of_topics[topic_num]])\n",
    "                sent_topics_df = sent_topics_df.append(pd.Series([int(topic_num), round(prop_topic,4), topic_keywords]), ignore_index=True)\n",
    "            else:\n",
    "                break\n",
    "    sent_topics_df.columns = ['Dominant_Topic', 'Perc_Contribution', 'Topic_Keywords']\n",
    "\n",
    "    contents = pd.Series(tokenized_docs)\n",
    "    sent_topics_df['Keywords'] = contents\n",
    "    sent_topics_df['Title'] = df['title']\n",
    "    sent_topics_df['company'] = df['company']\n",
    "    return(sent_topics_df)"
   ]
  },
  {
   "cell_type": "code",
   "execution_count": null,
   "metadata": {},
   "outputs": [],
   "source": [
    "def top_docs(n):\n",
    "    top_docs_for_topic1 = {i : [] for i in range(0, n)}\n",
    "    for i, row in enumerate(lda_model[corpus]):\n",
    "        row = sorted(row, key=lambda x: (x[1]), reverse=True)\n",
    "        for j, (topic_num, prop_topic) in enumerate(row):\n",
    "            topic_keywords = \", \".join([word + \":\" + str(round(prop,4)) for word, prop in words_of_topics[topic_num]])\n",
    "            top_docs_for_topic1[int(topic_num)].append((topic_keywords, round(prop_topic,4), i, data[i]))\n",
    "    return top_docs_for_topic1\n"
   ]
  },
  {
   "cell_type": "code",
   "execution_count": null,
   "metadata": {},
   "outputs": [
    {
     "data": {
      "text/plain": [
       "0      [bandit, algorithm, gain, reward, distribution...\n",
       "1      [neural_network, security, application, car, d...\n",
       "2      [gameplay, testing, computer, game, cost, rein...\n",
       "3      [training, machine, datasets, minibatches, tra...\n",
       "4      [recommender_system, feedback, recommender_sys...\n",
       "                             ...                        \n",
       "103    [position, personalization, body, activity, re...\n",
       "104    [customer, paper, business, building, mobile_a...\n",
       "105    [automation, asr, system, text, language, lm, ...\n",
       "106    [tool, company, support, integration, service,...\n",
       "107    [framework, representation, learning, training...\n",
       "Name: abstract, Length: 108, dtype: object"
      ]
     },
     "execution_count": 66,
     "metadata": {},
     "output_type": "execute_result"
    }
   ],
   "source": [
    "tokenized_docs"
   ]
  },
  {
   "cell_type": "code",
   "execution_count": null,
   "metadata": {},
   "outputs": [
    {
     "data": {
      "text/html": [
       "<div>\n",
       "<style scoped>\n",
       "    .dataframe tbody tr th:only-of-type {\n",
       "        vertical-align: middle;\n",
       "    }\n",
       "\n",
       "    .dataframe tbody tr th {\n",
       "        vertical-align: top;\n",
       "    }\n",
       "\n",
       "    .dataframe thead th {\n",
       "        text-align: right;\n",
       "    }\n",
       "</style>\n",
       "<table border=\"1\" class=\"dataframe\">\n",
       "  <thead>\n",
       "    <tr style=\"text-align: right;\">\n",
       "      <th></th>\n",
       "      <th>Topic_No</th>\n",
       "      <th>Topic_Perc_Contrib</th>\n",
       "      <th>Dominant_Topic</th>\n",
       "      <th>Keywords</th>\n",
       "      <th>Title</th>\n",
       "      <th>company</th>\n",
       "    </tr>\n",
       "  </thead>\n",
       "  <tbody>\n",
       "    <tr>\n",
       "      <th>0</th>\n",
       "      <td>6.0</td>\n",
       "      <td>0.5525</td>\n",
       "      <td>algorithm:0.9104, evaluation:0.0637, message:1...</td>\n",
       "      <td>[algorithm, distribution, information, algorit...</td>\n",
       "      <td>adapting contextual bandit algorithms to adser...</td>\n",
       "      <td>[24]7.ai</td>\n",
       "    </tr>\n",
       "    <tr>\n",
       "      <th>1</th>\n",
       "      <td>8.0</td>\n",
       "      <td>0.2643</td>\n",
       "      <td>machinelearning:0.426, artificial_intelligence...</td>\n",
       "      <td>[neural_network, security, application, detect...</td>\n",
       "      <td>defending white box adversarial examples with ...</td>\n",
       "      <td>AMD</td>\n",
       "    </tr>\n",
       "    <tr>\n",
       "      <th>2</th>\n",
       "      <td>5.0</td>\n",
       "      <td>0.6344</td>\n",
       "      <td>marketing:0.1471, game:0.1323, prediction:0.09...</td>\n",
       "      <td>[gameplay, testing, computer_vision, game, rei...</td>\n",
       "      <td>modern gameplay test automation with reinforce...</td>\n",
       "      <td>AMD</td>\n",
       "    </tr>\n",
       "    <tr>\n",
       "      <th>3</th>\n",
       "      <td>8.0</td>\n",
       "      <td>0.4172</td>\n",
       "      <td>machinelearning:0.426, artificial_intelligence...</td>\n",
       "      <td>[training, machinelearning, dataset, training,...</td>\n",
       "      <td>reducing data loading time in machine learning...</td>\n",
       "      <td>AMD</td>\n",
       "    </tr>\n",
       "    <tr>\n",
       "      <th>4</th>\n",
       "      <td>1.0</td>\n",
       "      <td>0.3874</td>\n",
       "      <td>product:0.2762, customer:0.2235, recommendatio...</td>\n",
       "      <td>[recommendation, recommendation, app, informat...</td>\n",
       "      <td>hybrid recommender system for applications bas...</td>\n",
       "      <td>AppDirect</td>\n",
       "    </tr>\n",
       "    <tr>\n",
       "      <th>5</th>\n",
       "      <td>5.0</td>\n",
       "      <td>0.3793</td>\n",
       "      <td>marketing:0.1471, game:0.1323, prediction:0.09...</td>\n",
       "      <td>[application, analysis, security, testing, pro...</td>\n",
       "      <td>apifuzz introspection assisted fuzzer for qnx ...</td>\n",
       "      <td>BlackBerry</td>\n",
       "    </tr>\n",
       "    <tr>\n",
       "      <th>6</th>\n",
       "      <td>2.0</td>\n",
       "      <td>0.6849</td>\n",
       "      <td>application:0.0981, security:0.0794, platform:...</td>\n",
       "      <td>[software, complexity, component, developer, s...</td>\n",
       "      <td>taking the first steps towards building a hard...</td>\n",
       "      <td>BlackBerry</td>\n",
       "    </tr>\n",
       "    <tr>\n",
       "      <th>7</th>\n",
       "      <td>10.0</td>\n",
       "      <td>0.2461</td>\n",
       "      <td>tool:0.1229, software:0.1174, analysis:0.0936,...</td>\n",
       "      <td>[experiment, education, software, platform, ma...</td>\n",
       "      <td>automated domain specific essay scoring</td>\n",
       "      <td>Blees</td>\n",
       "    </tr>\n",
       "    <tr>\n",
       "      <th>8</th>\n",
       "      <td>3.0</td>\n",
       "      <td>0.6994</td>\n",
       "      <td>healthcare:0.2213, information:0.0959, decisio...</td>\n",
       "      <td>[healthcare, imaging, analysis, healthcare, st...</td>\n",
       "      <td>secure crossservice genomic data federated ana...</td>\n",
       "      <td>CanDIG</td>\n",
       "    </tr>\n",
       "    <tr>\n",
       "      <th>9</th>\n",
       "      <td>8.0</td>\n",
       "      <td>0.2785</td>\n",
       "      <td>machinelearning:0.426, artificial_intelligence...</td>\n",
       "      <td>[management, report, deep_learning, dataset, n...</td>\n",
       "      <td>forecasting future fundamental metrics from ea...</td>\n",
       "      <td>CPP</td>\n",
       "    </tr>\n",
       "  </tbody>\n",
       "</table>\n",
       "</div>"
      ],
      "text/plain": [
       "   Topic_No  Topic_Perc_Contrib  \\\n",
       "0       6.0              0.5525   \n",
       "1       8.0              0.2643   \n",
       "2       5.0              0.6344   \n",
       "3       8.0              0.4172   \n",
       "4       1.0              0.3874   \n",
       "5       5.0              0.3793   \n",
       "6       2.0              0.6849   \n",
       "7      10.0              0.2461   \n",
       "8       3.0              0.6994   \n",
       "9       8.0              0.2785   \n",
       "\n",
       "                                      Dominant_Topic  \\\n",
       "0  algorithm:0.9104, evaluation:0.0637, message:1...   \n",
       "1  machinelearning:0.426, artificial_intelligence...   \n",
       "2  marketing:0.1471, game:0.1323, prediction:0.09...   \n",
       "3  machinelearning:0.426, artificial_intelligence...   \n",
       "4  product:0.2762, customer:0.2235, recommendatio...   \n",
       "5  marketing:0.1471, game:0.1323, prediction:0.09...   \n",
       "6  application:0.0981, security:0.0794, platform:...   \n",
       "7  tool:0.1229, software:0.1174, analysis:0.0936,...   \n",
       "8  healthcare:0.2213, information:0.0959, decisio...   \n",
       "9  machinelearning:0.426, artificial_intelligence...   \n",
       "\n",
       "                                            Keywords  \\\n",
       "0  [algorithm, distribution, information, algorit...   \n",
       "1  [neural_network, security, application, detect...   \n",
       "2  [gameplay, testing, computer_vision, game, rei...   \n",
       "3  [training, machinelearning, dataset, training,...   \n",
       "4  [recommendation, recommendation, app, informat...   \n",
       "5  [application, analysis, security, testing, pro...   \n",
       "6  [software, complexity, component, developer, s...   \n",
       "7  [experiment, education, software, platform, ma...   \n",
       "8  [healthcare, imaging, analysis, healthcare, st...   \n",
       "9  [management, report, deep_learning, dataset, n...   \n",
       "\n",
       "                                               Title     company  \n",
       "0  adapting contextual bandit algorithms to adser...    [24]7.ai  \n",
       "1  defending white box adversarial examples with ...         AMD  \n",
       "2  modern gameplay test automation with reinforce...         AMD  \n",
       "3  reducing data loading time in machine learning...         AMD  \n",
       "4  hybrid recommender system for applications bas...   AppDirect  \n",
       "5  apifuzz introspection assisted fuzzer for qnx ...  BlackBerry  \n",
       "6  taking the first steps towards building a hard...  BlackBerry  \n",
       "7            automated domain specific essay scoring       Blees  \n",
       "8  secure crossservice genomic data federated ana...      CanDIG  \n",
       "9  forecasting future fundamental metrics from ea...         CPP  "
      ]
     },
     "execution_count": 413,
     "metadata": {},
     "output_type": "execute_result"
    }
   ],
   "source": [
    "df_topic_sents_keywords = format_topics_sentences()\n",
    "\n",
    "# Format\n",
    "df_dominant_topic = df_topic_sents_keywords.reset_index()\n",
    "df_dominant_topic.columns = ['index', 'Topic_No',  'Topic_Perc_Contrib', 'Dominant_Topic', 'Keywords', 'Title', 'company']\n",
    "df_dominant_topic = df_dominant_topic.drop('index', 1)\n",
    "\n",
    "df_dominant_topic.to_excel(file_name_doc_top)\n",
    "\n",
    "df_dominant_topic.head(10)"
   ]
  },
  {
   "cell_type": "code",
   "execution_count": null,
   "metadata": {},
   "outputs": [],
   "source": [
    "top_docs_topic = top_docs(num_of_topics)"
   ]
  },
  {
   "cell_type": "code",
   "execution_count": null,
   "metadata": {},
   "outputs": [
    {
     "data": {
      "text/plain": [
       "'speech enhancement and recognition with generative adversarial network'"
      ]
     },
     "execution_count": 58,
     "metadata": {},
     "output_type": "execute_result"
    }
   ],
   "source": [
    "df.iloc[39, 1]"
   ]
  },
  {
   "cell_type": "code",
   "execution_count": null,
   "metadata": {},
   "outputs": [
    {
     "data": {
      "text/plain": [
       "'defending white box adversarial examples with a guided denoiser'"
      ]
     },
     "execution_count": 237,
     "metadata": {},
     "output_type": "execute_result"
    }
   ],
   "source": [
    "df.iloc[1, 0]"
   ]
  },
  {
   "cell_type": "code",
   "execution_count": null,
   "metadata": {},
   "outputs": [
    {
     "data": {
      "text/plain": [
       "'using social network analysis in marketing'"
      ]
     },
     "execution_count": 97,
     "metadata": {},
     "output_type": "execute_result"
    }
   ],
   "source": [
    "df.iloc[doc[2], 1]"
   ]
  },
  {
   "cell_type": "code",
   "execution_count": null,
   "metadata": {},
   "outputs": [],
   "source": [
    "new_df = pd.DataFrame(columns=['Topic', 'topic_words', 'topic_impact', 'doc_title', 'doc_key_words'])\n",
    "for topic in top_docs_topic.keys():\n",
    "    top_docs_topic[topic] = sorted(top_docs_topic[topic], reverse=True)[:5]\n",
    "    first = True\n",
    "    for doc in top_docs_topic[topic]:\n",
    "        if first:\n",
    "            new_df = new_df.append({'Topic': topic, 'topic_words': doc[0], 'topic_impact': doc[1], 'doc_title': df.iloc[doc[2], 1], 'doc_key_words': \", \".join(tokenized_docs[doc[2]][:15])}, ignore_index=True)\n",
    "            first = False\n",
    "        else:\n",
    "            new_df = new_df.append({'Topic': '', 'topic_words': '', 'topic_impact': doc[1], 'doc_title': df.iloc[doc[2], 1], 'doc_key_words': \", \".join(tokenized_docs[doc[2]][:15])}, ignore_index=True)"
   ]
  },
  {
   "cell_type": "code",
   "execution_count": null,
   "metadata": {},
   "outputs": [
    {
     "data": {
      "text/html": [
       "<div>\n",
       "<style scoped>\n",
       "    .dataframe tbody tr th:only-of-type {\n",
       "        vertical-align: middle;\n",
       "    }\n",
       "\n",
       "    .dataframe tbody tr th {\n",
       "        vertical-align: top;\n",
       "    }\n",
       "\n",
       "    .dataframe thead th {\n",
       "        text-align: right;\n",
       "    }\n",
       "</style>\n",
       "<table border=\"1\" class=\"dataframe\">\n",
       "  <thead>\n",
       "    <tr style=\"text-align: right;\">\n",
       "      <th></th>\n",
       "      <th>Topic</th>\n",
       "      <th>topic_words</th>\n",
       "      <th>topic_impact</th>\n",
       "      <th>doc_title</th>\n",
       "      <th>doc_key_words</th>\n",
       "    </tr>\n",
       "  </thead>\n",
       "  <tbody>\n",
       "    <tr>\n",
       "      <th>0</th>\n",
       "      <td>0</td>\n",
       "      <td>image:0.1917, database:0.1191, camera:0.0987, ...</td>\n",
       "      <td>0.8265</td>\n",
       "      <td>learning tone curves for local image enhancement</td>\n",
       "      <td>image, image, image, image, image, camera, ima...</td>\n",
       "    </tr>\n",
       "    <tr>\n",
       "      <th>1</th>\n",
       "      <td></td>\n",
       "      <td></td>\n",
       "      <td>0.7893</td>\n",
       "      <td>design choices for fast and accurate d face re...</td>\n",
       "      <td>image, parameter, image, parameter, image, spa...</td>\n",
       "    </tr>\n",
       "    <tr>\n",
       "      <th>2</th>\n",
       "      <td></td>\n",
       "      <td></td>\n",
       "      <td>0.7474</td>\n",
       "      <td>coregistration of nuclear medicine images with...</td>\n",
       "      <td>image, image, medicine, image, image, informat...</td>\n",
       "    </tr>\n",
       "    <tr>\n",
       "      <th>3</th>\n",
       "      <td></td>\n",
       "      <td></td>\n",
       "      <td>0.6962</td>\n",
       "      <td>natural language interface for ad hoc queries ...</td>\n",
       "      <td>database, information, database, database, nat...</td>\n",
       "    </tr>\n",
       "    <tr>\n",
       "      <th>4</th>\n",
       "      <td></td>\n",
       "      <td></td>\n",
       "      <td>0.6915</td>\n",
       "      <td>learning depth from transmissive diffraction m...</td>\n",
       "      <td>camera, information, representation, camera, i...</td>\n",
       "    </tr>\n",
       "    <tr>\n",
       "      <th>...</th>\n",
       "      <td>...</td>\n",
       "      <td>...</td>\n",
       "      <td>...</td>\n",
       "      <td>...</td>\n",
       "      <td>...</td>\n",
       "    </tr>\n",
       "    <tr>\n",
       "      <th>95</th>\n",
       "      <td>19</td>\n",
       "      <td>line:0.0039, statistic:0.0039, integration:0.0...</td>\n",
       "      <td>0.0250</td>\n",
       "      <td>measured and perceived differences between wri...</td>\n",
       "      <td>device, device, device, device, understanding,...</td>\n",
       "    </tr>\n",
       "    <tr>\n",
       "      <th>96</th>\n",
       "      <td></td>\n",
       "      <td></td>\n",
       "      <td>0.0250</td>\n",
       "      <td>isobody leisure codes creating a new standard ...</td>\n",
       "      <td>logistics, body, body, body, algorithm</td>\n",
       "    </tr>\n",
       "    <tr>\n",
       "      <th>97</th>\n",
       "      <td></td>\n",
       "      <td></td>\n",
       "      <td>0.0250</td>\n",
       "      <td>multihost firmware for tci controller</td>\n",
       "      <td>computer_vision, andor</td>\n",
       "    </tr>\n",
       "    <tr>\n",
       "      <th>98</th>\n",
       "      <td></td>\n",
       "      <td></td>\n",
       "      <td>0.0250</td>\n",
       "      <td>from data cleaning design and migration to por...</td>\n",
       "      <td>environment</td>\n",
       "    </tr>\n",
       "    <tr>\n",
       "      <th>99</th>\n",
       "      <td></td>\n",
       "      <td></td>\n",
       "      <td>0.0250</td>\n",
       "      <td>facilitating knowledge transfer by sharing exp...</td>\n",
       "      <td>employee, employee, job, employee, employee, p...</td>\n",
       "    </tr>\n",
       "  </tbody>\n",
       "</table>\n",
       "<p>100 rows × 5 columns</p>\n",
       "</div>"
      ],
      "text/plain": [
       "   Topic                                        topic_words  topic_impact  \\\n",
       "0      0  image:0.1917, database:0.1191, camera:0.0987, ...        0.8265   \n",
       "1                                                                  0.7893   \n",
       "2                                                                  0.7474   \n",
       "3                                                                  0.6962   \n",
       "4                                                                  0.6915   \n",
       "..   ...                                                ...           ...   \n",
       "95    19  line:0.0039, statistic:0.0039, integration:0.0...        0.0250   \n",
       "96                                                                 0.0250   \n",
       "97                                                                 0.0250   \n",
       "98                                                                 0.0250   \n",
       "99                                                                 0.0250   \n",
       "\n",
       "                                            doc_title  \\\n",
       "0    learning tone curves for local image enhancement   \n",
       "1   design choices for fast and accurate d face re...   \n",
       "2   coregistration of nuclear medicine images with...   \n",
       "3   natural language interface for ad hoc queries ...   \n",
       "4   learning depth from transmissive diffraction m...   \n",
       "..                                                ...   \n",
       "95  measured and perceived differences between wri...   \n",
       "96  isobody leisure codes creating a new standard ...   \n",
       "97              multihost firmware for tci controller   \n",
       "98  from data cleaning design and migration to por...   \n",
       "99  facilitating knowledge transfer by sharing exp...   \n",
       "\n",
       "                                        doc_key_words  \n",
       "0   image, image, image, image, image, camera, ima...  \n",
       "1   image, parameter, image, parameter, image, spa...  \n",
       "2   image, image, medicine, image, image, informat...  \n",
       "3   database, information, database, database, nat...  \n",
       "4   camera, information, representation, camera, i...  \n",
       "..                                                ...  \n",
       "95  device, device, device, device, understanding,...  \n",
       "96             logistics, body, body, body, algorithm  \n",
       "97                             computer_vision, andor  \n",
       "98                                        environment  \n",
       "99  employee, employee, job, employee, employee, p...  \n",
       "\n",
       "[100 rows x 5 columns]"
      ]
     },
     "execution_count": 416,
     "metadata": {},
     "output_type": "execute_result"
    }
   ],
   "source": [
    "new_df"
   ]
  },
  {
   "cell_type": "code",
   "execution_count": null,
   "metadata": {},
   "outputs": [],
   "source": [
    "new_df.to_excel(file_name_top_repr)"
   ]
  },
  {
   "cell_type": "code",
   "execution_count": null,
   "metadata": {},
   "outputs": [
    {
     "name": "stdout",
     "output_type": "stream",
     "text": [
      "[(2, 0.09926986), (3, 0.14138834), (6, 0.5525077), (8, 0.10249946), (15, 0.066834085)]\n",
      "[(0, 0.21231873), (2, 0.12058753), (4, 0.061763387), (8, 0.26415345), (12, 0.0617649), (14, 0.061764486), (16, 0.17941187)]\n",
      "[(0, 0.07493742), (3, 0.11935216), (5, 0.6344105), (10, 0.029480267), (11, 0.025967928), (15, 0.049998727), (16, 0.04999889)]\n",
      "[(0, 0.2550008), (6, 0.058333967), (8, 0.41722605), (15, 0.1390813), (17, 0.08869063)]\n",
      "[(0, 0.06083507), (1, 0.3873371), (2, 0.18141086), (4, 0.040380307), (8, 0.055279236), (10, 0.051108688), (11, 0.040384445), (16, 0.0788467), (17, 0.08326338)]\n",
      "[(2, 0.18235031), (5, 0.37929365), (10, 0.28418913), (11, 0.08749974)]\n",
      "[(1, 0.094626635), (2, 0.6849245), (3, 0.026244529), (10, 0.15478162), (12, 0.023118133)]\n",
      "[(4, 0.18635643), (5, 0.09771837), (8, 0.09545816), (10, 0.24622728), (11, 0.095451005), (15, 0.2151497)]\n",
      "[(3, 0.69937664), (8, 0.20562382), (13, 0.052499294)]\n",
      "[(0, 0.20697986), (2, 0.14135817), (3, 0.080766), (4, 0.08077243), (8, 0.27859008), (10, 0.080759116), (15, 0.08077196)]\n",
      "[(4, 0.08970699), (6, 0.030882685), (8, 0.11911811), (10, 0.030877724), (11, 0.11911884), (13, 0.3838287), (14, 0.06029233), (15, 0.030880772), (17, 0.11911703)]\n",
      "[(1, 0.2536659), (2, 0.053665437), (5, 0.08974364), (8, 0.10319341), (14, 0.055500735), (16, 0.05255203), (17, 0.37501168)]\n",
      "[(0, 0.18834126), (3, 0.041475154), (4, 0.062117778), (8, 0.6232227), (16, 0.06211518)]\n",
      "[(0, 0.09021199), (2, 0.04564601), (3, 0.06779789), (4, 0.13260938), (8, 0.58765006), (14, 0.045649152)]\n",
      "[(2, 0.22500461), (4, 0.058333896), (5, 0.05833369), (6, 0.05833267), (15, 0.5583268)]\n",
      "[(1, 0.045654897), (4, 0.1326167), (6, 0.0456527), (8, 0.13261169), (12, 0.0891372), (15, 0.4804104), (16, 0.04565336)]\n",
      "[(10, 0.121999145), (11, 0.08199986), (14, 0.7620008)]\n",
      "[(3, 0.12199783), (10, 0.56994027), (15, 0.046191268), (17, 0.22987019)]\n",
      "[(1, 0.13122344), (5, 0.28809607), (8, 0.097619005), (10, 0.44496584)]\n",
      "[(0, 0.07492016), (2, 0.12058758), (3, 0.12660202), (8, 0.107429154), (14, 0.065171115), (17, 0.46411267)]\n",
      "[(2, 0.30500287), (3, 0.1049941), (6, 0.10499897), (8, 0.104999736), (11, 0.105001055), (12, 0.10500165), (14, 0.1050004)]\n",
      "[(1, 0.046933558), (2, 0.099494725), (4, 0.10892926), (5, 0.03749865), (6, 0.037497617), (8, 0.037498426), (11, 0.28750113), (12, 0.18036026), (14, 0.10892861), (16, 0.037500333)]\n",
      "[(0, 0.29664776), (2, 0.04864825), (5, 0.05594907), (6, 0.033868507), (8, 0.05902734), (10, 0.3224159), (15, 0.1624751)]\n",
      "[(2, 0.046618506), (3, 0.3325668), (4, 0.043752026), (5, 0.12709308), (8, 0.21043445), (10, 0.043724958), (15, 0.1270545), (16, 0.0437535)]\n",
      "[(3, 0.46355617), (8, 0.1840918), (10, 0.31371504)]\n",
      "[(3, 0.6749985), (6, 0.1750007)]\n",
      "[(0, 0.06787922), (1, 0.056919895), (2, 0.05721768), (3, 0.1608346), (4, 0.621434)]\n",
      "[(1, 0.77496076), (5, 0.05254305), (6, 0.05124933), (11, 0.10124662)]\n",
      "[(0, 0.16052505), (6, 0.055263985), (11, 0.05525487), (12, 0.5289545), (15, 0.1605272)]\n",
      "[(3, 0.49615693), (4, 0.19516103), (5, 0.03418469), (6, 0.06612855), (13, 0.08740156), (16, 0.0983863)]\n",
      "[(0, 0.2073421), (1, 0.14008869), (4, 0.120590635), (11, 0.19080226), (12, 0.061763212), (15, 0.061763305), (16, 0.1205903), (17, 0.061764546)]\n",
      "[(1, 0.19386949), (3, 0.21344012), (8, 0.18918677), (14, 0.060591325), (15, 0.11388894), (17, 0.19013403)]\n",
      "[(2, 0.1312442), (4, 0.6312541), (12, 0.13125083)]\n",
      "[(0, 0.78929317), (15, 0.07499311), (16, 0.07499862)]\n",
      "[(0, 0.13572448), (2, 0.16595782), (8, 0.09686642), (11, 0.16351157), (14, 0.055406295), (16, 0.055399176), (17, 0.30956617)]\n",
      "[(0, 0.15250212), (3, 0.05249086), (6, 0.052497923), (8, 0.15250133), (14, 0.10250135), (16, 0.45250577)]\n",
      "[(2, 0.557852), (6, 0.07068833), (11, 0.070688285), (14, 0.10517246), (15, 0.13525352), (16, 0.036207076)]\n",
      "[(0, 0.5524896), (5, 0.06471068), (8, 0.10793258), (10, 0.02969181), (11, 0.02915799), (14, 0.14101724), (16, 0.056944083)]\n",
      "[(1, 0.2164892), (2, 0.089723244), (3, 0.023863185), (5, 0.23988526), (8, 0.34481806), (10, 0.024822028), (16, 0.045626033)]\n",
      "[(0, 0.06551338), (8, 0.1873629), (11, 0.58901477), (14, 0.136487)]\n",
      "[(0, 0.82647556), (8, 0.061760623), (16, 0.06176338)]\n",
      "[(0, 0.37106794), (2, 0.16052812), (8, 0.055260416), (10, 0.05525173), (14, 0.05525711), (15, 0.16053005), (16, 0.10789244)]\n",
      "[(0, 0.107895836), (2, 0.47632128), (8, 0.107895285), (10, 0.16051902), (11, 0.10789419)]\n",
      "[(8, 0.04564951), (10, 0.05791747), (11, 0.6543536), (13, 0.16382271), (15, 0.045647513)]\n",
      "[(0, 0.19062835), (4, 0.5738124), (6, 0.050000302), (11, 0.052226096), (16, 0.0976182)]\n",
      "[(0, 0.035158798), (1, 0.14444737), (2, 0.03414669), (4, 0.031818405), (6, 0.031816006), (8, 0.059384163), (11, 0.031817283), (14, 0.03425321), (15, 0.51378113), (17, 0.068225004)]\n",
      "[(0, 0.28168124), (1, 0.069292516), (4, 0.02333322), (6, 0.06777723), (8, 0.045556314), (10, 0.06990926), (11, 0.15666664), (12, 0.04752013), (13, 0.07275219), (14, 0.090001665), (16, 0.06550938)]\n",
      "[(3, 0.04482616), (4, 0.041998), (5, 0.43917242), (8, 0.08200199), (11, 0.16200401), (13, 0.08199882), (15, 0.04199801), (16, 0.08199989)]\n",
      "[(0, 0.032067284), (3, 0.03296915), (8, 0.058570374), (10, 0.8249666), (15, 0.02999742)]\n",
      "[(0, 0.0808681), (2, 0.0749937), (3, 0.25668725), (8, 0.27171314), (11, 0.26216528)]\n",
      "[(0, 0.29390174), (2, 0.17137228), (3, 0.029530179), (4, 0.025607048), (10, 0.34121913), (14, 0.04812411), (16, 0.07439149)]\n",
      "[(0, 0.119977586), (3, 0.23443492), (4, 0.24047829), (11, 0.09761733), (12, 0.05604153), (13, 0.21811646)]\n",
      "[(0, 0.228992), (2, 0.068150625), (4, 0.25250745), (8, 0.08148316), (12, 0.102498755), (13, 0.08137469), (15, 0.052496485), (16, 0.10249588)]\n",
      "[(0, 0.13471924), (1, 0.058332063), (5, 0.18271986), (6, 0.05833175), (8, 0.06528916), (11, 0.23949371), (14, 0.113891095), (15, 0.11388908)]\n",
      "[(0, 0.12638293), (1, 0.061641365), (4, 0.14464098), (5, 0.03862671), (8, 0.36778334), (10, 0.09306673), (11, 0.07321328), (12, 0.0732157)]\n",
      "[(1, 0.08537299), (3, 0.26310664), (5, 0.059894573), (8, 0.15061067), (10, 0.09804719), (13, 0.21439493), (15, 0.09762)]\n",
      "[(0, 0.07499498), (4, 0.36072573), (10, 0.0847312), (11, 0.07500153), (15, 0.0749955), (16, 0.065257825), (17, 0.21786317)]\n",
      "[(2, 0.057955965), (4, 0.25208995), (8, 0.04374827), (11, 0.12708135), (13, 0.19621551), (15, 0.29374146)]\n",
      "[(0, 0.14947297), (2, 0.08204729), (10, 0.5626013), (13, 0.09337796), (14, 0.06562496)]\n",
      "[(1, 0.15921503), (3, 0.076458804), (4, 0.23816511), (8, 0.16917795), (11, 0.027631773), (12, 0.18110664), (15, 0.13113879)]\n",
      "[(5, 0.057755258), (6, 0.10789558), (10, 0.107327454), (14, 0.05526204), (17, 0.6322857)]\n",
      "[(0, 0.06752133), (2, 0.35154304), (3, 0.046451155), (4, 0.081997894), (6, 0.042000625), (10, 0.18248495), (15, 0.08199934), (16, 0.1220012)]\n",
      "[(0, 0.22546013), (2, 0.1138868), (5, 0.16944718), (6, 0.058331884), (8, 0.16898765), (10, 0.058330063), (14, 0.05833409), (15, 0.058331486), (16, 0.058334533)]\n",
      "[(0, 0.03747744), (2, 0.1136863), (12, 0.13499865), (14, 0.035000063), (15, 0.088774815), (16, 0.1349988), (17, 0.4333968)]\n",
      "[(3, 0.30910483), (4, 0.11389212), (6, 0.16944915), (8, 0.0618347), (10, 0.113881536), (13, 0.058330655), (17, 0.13739483)]\n",
      "[(1, 0.20060474), (3, 0.13022259), (8, 0.06562262), (16, 0.0656235), (17, 0.4910509)]\n",
      "[(0, 0.04541233), (2, 0.23820211), (3, 0.113349386), (4, 0.121997), (10, 0.366362), (16, 0.04200041), (17, 0.04667633)]\n",
      "[(1, 0.29375246), (3, 0.3273799), (8, 0.08541513), (14, 0.051790617), (15, 0.16874874), (16, 0.04374608)]\n",
      "[(0, 0.08698559), (3, 0.054750014), (4, 0.08541828), (8, 0.3755205), (10, 0.07211474), (11, 0.12708537), (12, 0.04604076), (13, 0.085416324), (16, 0.04375105)]\n",
      "[(2, 0.06904541), (3, 0.028189145), (4, 0.18721367), (5, 0.10820391), (8, 0.0709308), (10, 0.05086095), (11, 0.18547468), (12, 0.024949409), (13, 0.18721385), (14, 0.024417652), (15, 0.024418117), (17, 0.029779848)]\n",
      "[(0, 0.2427972), (1, 0.0519947), (3, 0.1165549), (4, 0.19285929), (8, 0.07584178), (10, 0.06221992), (11, 0.09762251), (15, 0.13153724)]\n",
      "[(3, 0.08722641), (4, 0.12200286), (5, 0.08200001), (8, 0.12200128), (10, 0.044420008), (11, 0.4020108), (14, 0.041995972), (15, 0.07434191)]\n",
      "[(2, 0.18317519), (3, 0.14067948), (4, 0.0388889), (8, 0.1654332), (11, 0.28999016), (13, 0.04479747), (15, 0.07592582), (16, 0.038887173)]\n",
      "[(0, 0.20099646), (1, 0.049042802), (2, 0.1424968), (5, 0.04565146), (10, 0.053660486), (11, 0.13261108), (12, 0.08913403), (14, 0.10129808), (17, 0.16119511)]\n",
      "[(4, 0.0874861), (8, 0.17084263), (10, 0.10899186), (11, 0.5041964), (15, 0.06597885)]\n",
      "[(2, 0.08271691), (8, 0.3212166), (11, 0.058333118), (15, 0.22500095), (16, 0.05833269), (17, 0.21551041)]\n",
      "[(2, 0.21105455), (4, 0.043749377), (5, 0.13739863), (8, 0.11613621), (12, 0.16875452), (13, 0.04374659), (14, 0.12708427), (15, 0.043747257), (16, 0.08541144)]\n",
      "[(0, 0.09045627), (1, 0.20975116), (3, 0.42610472), (4, 0.040385474), (10, 0.042877745), (11, 0.040378317), (13, 0.048125166), (15, 0.04038224), (17, 0.040384263)]\n",
      "[(3, 0.27727047), (4, 0.09545101), (15, 0.5500052)]\n",
      "[(1, 0.14553495), (4, 0.2892856), (5, 0.07589061), (6, 0.075000696), (8, 0.14642903), (11, 0.21785851)]\n",
      "[(1, 0.065629534), (2, 0.06900141), (4, 0.12813433), (8, 0.12813129), (10, 0.18441114), (12, 0.068064176), (13, 0.12813215), (15, 0.12807906), (17, 0.06603913)]\n",
      "[(0, 0.055848796), (3, 0.14096467), (4, 0.103843294), (6, 0.026923545), (10, 0.05855684), (11, 0.052562077), (13, 0.08697948), (15, 0.12948883), (17, 0.3307296)]\n",
      "[(1, 0.09318254), (3, 0.047727127), (4, 0.093182996), (5, 0.09317777), (8, 0.22954781), (10, 0.093179464), (13, 0.047727067), (14, 0.047727313), (15, 0.22954752)]\n",
      "[(0, 0.2699968), (15, 0.40333536), (16, 0.27000073)]\n",
      "[(2, 0.2971042), (5, 0.052498635), (10, 0.16571048), (11, 0.10250007), (14, 0.052496564), (15, 0.055958204), (16, 0.10250351), (17, 0.14122741)]\n",
      "[(0, 0.67323023), (8, 0.121509805), (15, 0.055262055), (16, 0.107892275)]\n",
      "[(0, 0.061817523), (3, 0.13298398), (5, 0.290405), (8, 0.1324705), (10, 0.03497275), (13, 0.05532411), (14, 0.09191009), (16, 0.035001427), (17, 0.14678034)]\n",
      "[(8, 0.3351917), (10, 0.15000084), (11, 0.07592725), (15, 0.18702699), (16, 0.038888045), (17, 0.18703862)]\n",
      "[(0, 0.054243974), (1, 0.044688646), (2, 0.09179953), (5, 0.038887646), (6, 0.038890418), (8, 0.37223616), (11, 0.18704073), (12, 0.038878303), (16, 0.11296329)]\n",
      "[(2, 0.35250008), (10, 0.102496915), (11, 0.052499365), (14, 0.30250353), (15, 0.102499306), (16, 0.052500337)]\n",
      "[(0, 0.20153826), (1, 0.065210015), (2, 0.08829647), (3, 0.041991662), (8, 0.15931879), (10, 0.046269402), (11, 0.25137782), (16, 0.12199656)]\n",
      "[(1, 0.3305922), (5, 0.058700245), (8, 0.030000176), (11, 0.029991193), (12, 0.030000351), (13, 0.30071583), (14, 0.058571767), (15, 0.11571486), (16, 0.029998757)]\n",
      "[(1, 0.21956877), (2, 0.21956366), (5, 0.04565065), (11, 0.21956415), (15, 0.04564759), (16, 0.21957009)]\n",
      "[(0, 0.06854783), (3, 0.17649224), (6, 0.06562543), (8, 0.20182477), (12, 0.4406345)]\n",
      "[(0, 0.108075194), (2, 0.29581735), (3, 0.09164824), (4, 0.13666879), (6, 0.06999821), (10, 0.1141524), (12, 0.07364035), (16, 0.06999885)]\n",
      "[(0, 0.043741226), (2, 0.18564521), (3, 0.046517372), (4, 0.0437506), (5, 0.21042131), (10, 0.17090204), (14, 0.047912907), (15, 0.04375013), (16, 0.043750912), (17, 0.14277436)]\n",
      "[(1, 0.05250022), (2, 0.45250627), (3, 0.13296092), (5, 0.0524957), (6, 0.10250216), (11, 0.052500196), (14, 0.07203418), (16, 0.0524998)]\n",
      "[(4, 0.15769528), (5, 0.28172278), (10, 0.110580504), (11, 0.15769044), (13, 0.15769495), (14, 0.080769084)]\n",
      "[(0, 0.55752325), (1, 0.07390917), (2, 0.107970096), (3, 0.039850052), (5, 0.034151882), (14, 0.09950117), (15, 0.03386896), (16, 0.033870015)]\n",
      "[(0, 0.033605833), (1, 0.0620634), (2, 0.101032436), (3, 0.25421512), (8, 0.09531401), (10, 0.077682264), (13, 0.032811046), (14, 0.22032037), (15, 0.03281114), (17, 0.0745188)]\n",
      "[(0, 0.14999366), (4, 0.15000132), (11, 0.43571624), (16, 0.1500016)]\n",
      "[(1, 0.2178529), (3, 0.3130041), (5, 0.07499934), (6, 0.14643328), (8, 0.07500021), (17, 0.122708514)]\n",
      "[(1, 0.50085753), (2, 0.06789161), (4, 0.06562476), (6, 0.065625206), (11, 0.12812479), (12, 0.12812585)]\n",
      "[(0, 0.056644615), (1, 0.2024959), (5, 0.060098767), (8, 0.102500066), (11, 0.10250131), (12, 0.052500956), (14, 0.05250047), (15, 0.19684198), (16, 0.05249881), (17, 0.09641656)]\n",
      "[(1, 0.06562464), (2, 0.25312403), (5, 0.31562427), (16, 0.2531281), (17, 0.06562381)]\n",
      "[(4, 0.26579), (8, 0.1078937), (11, 0.5289502), (12, 0.055260662)]\n",
      "[(2, 0.38431588), (3, 0.052544653), (5, 0.09318099), (10, 0.22217447), (14, 0.13455571), (16, 0.08140956)]\n",
      "[(0, 0.091270804), (3, 0.57099515), (8, 0.17428108), (14, 0.09678545)]\n",
      "[(5, 0.20499814), (8, 0.10499928), (10, 0.6050021)]\n",
      "[(0, 0.012500034), (1, 0.012500034), (2, 0.51250315), (3, 0.26249623), (4, 0.012500034), (5, 0.012500034), (6, 0.012500034), (7, 0.012500034), (8, 0.012500034), (9, 0.012500034), (10, 0.012500034), (11, 0.012500034), (12, 0.012500034), (13, 0.012500034), (14, 0.012500034), (15, 0.012500034), (16, 0.012500034), (17, 0.012500034), (18, 0.012500034), (19, 0.012500034)]\n",
      "[(0, 0.27210772), (3, 0.2657413), (4, 0.13124998), (8, 0.23090123)]\n",
      "[(4, 0.10500071), (6, 0.104998246), (8, 0.10499952), (15, 0.104996756), (17, 0.5050046)]\n",
      "[(3, 0.3234411), (5, 0.06862962), (8, 0.06562471), (10, 0.2559235), (11, 0.065624215), (16, 0.11451021), (17, 0.06562103)]\n",
      "[(2, 0.08748974), (3, 0.25417113), (5, 0.42083967), (11, 0.08749729), (14, 0.087501094)]\n",
      "[(2, 0.11563758), (5, 0.30500153), (8, 0.10499992), (10, 0.19435963), (17, 0.20500045)]\n",
      "[(0, 0.17083162), (4, 0.4208382), (5, 0.08749971), (14, 0.087501), (16, 0.17082821)]\n",
      "[(1, 0.13125019), (2, 0.38124773), (8, 0.38125172)]\n",
      "[(0, 0.2277783), (2, 0.11666528), (6, 0.22777931), (8, 0.116666846), (11, 0.116665624), (14, 0.11666659)]\n",
      "[(2, 0.05552693), (3, 0.10774422), (8, 0.23461704), (17, 0.54057276)]\n",
      "[(2, 0.12692462), (3, 0.29585764), (5, 0.061842147), (6, 0.06562594), (8, 0.1281214), (10, 0.27787757)]\n",
      "[(5, 0.27235246), (6, 0.1906267), (8, 0.12812206), (10, 0.2963986), (11, 0.0656248)]\n",
      "[(0, 0.04932344), (1, 0.04419615), (3, 0.1582775), (4, 0.04038499), (5, 0.04038104), (8, 0.040385187), (11, 0.040384326), (13, 0.058137175), (14, 0.06651506), (17, 0.4427839)]\n",
      "[(2, 0.09649561), (3, 0.225576), (5, 0.3279294), (6, 0.09545527), (14, 0.09545474), (17, 0.09545203)]\n",
      "[(1, 0.136453), (2, 0.10766718), (3, 0.026148964), (4, 0.025609795), (5, 0.101479754), (8, 0.11032727), (10, 0.35450938), (13, 0.074389525), (14, 0.050000165)]\n",
      "[(1, 0.47000405), (2, 0.1406058), (5, 0.13272299), (8, 0.06999935), (14, 0.13666746)]\n",
      "[(3, 0.22307731), (5, 0.5488667), (8, 0.18331861)]\n",
      "[(0, 0.26249865), (1, 0.01250007), (2, 0.012500071), (3, 0.01250007), (4, 0.26250085), (5, 0.01250007), (6, 0.01250007), (7, 0.01250007), (8, 0.01250007), (9, 0.01250007), (10, 0.2624993), (11, 0.01250007), (12, 0.01250007), (13, 0.01250007), (14, 0.01250007), (15, 0.01250007), (16, 0.01250007), (17, 0.01250007), (18, 0.01250007), (19, 0.01250007)]\n",
      "[(1, 0.16088274), (2, 0.090702705), (4, 0.07500005), (10, 0.4019857), (11, 0.14642857), (14, 0.07499988)]\n",
      "[(0, 0.16450715), (1, 0.071585715), (4, 0.12812497), (10, 0.36877218), (12, 0.067884535), (13, 0.09287728), (15, 0.065622434)]\n",
      "[(1, 0.32251874), (2, 0.53667414), (8, 0.033867102), (15, 0.045177076), (17, 0.037568968)]\n",
      "[(0, 0.355388), (2, 0.24988832), (5, 0.11004662), (8, 0.07499786), (10, 0.15610743)]\n",
      "[(3, 0.20333426), (8, 0.2700018), (10, 0.069998875), (12, 0.20333524), (15, 0.06999725), (16, 0.070000194), (17, 0.06999873)]\n",
      "[(1, 0.08749989), (2, 0.18665774), (5, 0.07167185), (14, 0.58750343)]\n",
      "[(2, 0.28345427), (10, 0.30457968), (11, 0.05526273), (12, 0.21825887), (15, 0.09897053)]\n",
      "[(0, 0.11666852), (3, 0.2277799), (4, 0.22777909), (8, 0.11666668), (10, 0.13188003), (16, 0.10144619)]\n",
      "[(0, 0.04999647), (2, 0.33571622), (3, 0.10376455), (14, 0.42480925), (17, 0.049998887)]\n",
      "[(2, 0.5423096), (5, 0.0807651), (14, 0.23461682), (16, 0.080769636)]\n",
      "[(6, 0.06562536), (8, 0.06562334), (10, 0.12812358), (14, 0.12812449), (15, 0.5656279)]\n",
      "[(0, 0.09031041), (2, 0.075489335), (4, 0.12812585), (6, 0.065625474), (10, 0.07750968), (13, 0.45668888), (14, 0.06562498)]\n",
      "[(0, 0.087495245), (2, 0.25416893), (8, 0.087497346), (10, 0.17082782), (14, 0.2541744), (15, 0.08750124)]\n",
      "[(1, 0.2224924), (10, 0.5841751), (15, 0.0699974), (16, 0.070000894)]\n",
      "[(2, 0.87708336), (14, 0.08541648)]\n",
      "[(2, 0.35587952), (14, 0.5911791)]\n",
      "[(8, 0.45909023), (15, 0.45909137)]\n",
      "[(8, 0.2050011), (10, 0.50499856), (14, 0.20500022)]\n",
      "[(2, 0.18483627), (5, 0.23460285), (6, 0.080768615), (10, 0.20747736), (14, 0.23462105)]\n",
      "[(1, 0.13125098), (2, 0.13124487), (3, 0.2562486), (17, 0.38125414)]\n",
      "[(0, 0.2216396), (14, 0.10821773), (15, 0.1049974), (17, 0.4851447)]\n",
      "[(3, 0.15509298), (5, 0.08413962), (10, 0.6184579), (11, 0.08076978)]\n",
      "[(3, 0.04999493), (4, 0.05000012), (8, 0.38333747), (11, 0.28809658), (14, 0.097620025), (16, 0.049998924), (17, 0.04999912)]\n",
      "[(0, 0.49758226), (1, 0.07216478), (12, 0.1708343), (17, 0.19275174)]\n",
      "[(0, 0.14438488), (2, 0.18349005), (3, 0.12074516), (4, 0.045649577), (8, 0.1326093), (10, 0.15869753), (12, 0.1861623)]\n",
      "[(11, 0.17499796), (12, 0.1749995), (14, 0.17500083), (17, 0.3416666)]\n",
      "[(0, 0.21269023), (2, 0.17753124), (13, 0.13125226), (15, 0.3785252)]\n",
      "[(0, 0.1602337), (1, 0.102500305), (2, 0.23492782), (3, 0.05386277), (5, 0.21097443), (8, 0.05249998), (16, 0.15250078)]\n",
      "[(1, 0.08076906), (5, 0.15769015), (8, 0.0807693), (11, 0.54231054), (15, 0.080768265)]\n",
      "[(0, 0.108829714), (2, 0.12486832), (8, 0.10500172), (12, 0.105000645), (13, 0.104999065), (17, 0.3812986)]\n",
      "[(0, 0.27398), (1, 0.010000018), (2, 0.010000018), (3, 0.010000018), (4, 0.010000018), (5, 0.010000018), (6, 0.010000018), (7, 0.010000018), (8, 0.010000018), (9, 0.010000018), (10, 0.010000018), (11, 0.010000018), (12, 0.010000018), (13, 0.34601972), (14, 0.010000018), (15, 0.010000018), (16, 0.21000004), (17, 0.010000018), (18, 0.010000018), (19, 0.010000018)]\n",
      "[(1, 0.16099595), (2, 0.19903117), (5, 0.1626299), (10, 0.3573479), (15, 0.06999431)]\n",
      "[(0, 0.19062781), (8, 0.12811829), (10, 0.3781357), (14, 0.065626), (15, 0.19061537)]\n",
      "[(2, 0.167241), (3, 0.44275945), (13, 0.10499725), (14, 0.20500156)]\n",
      "[(0, 0.5844688), (2, 0.11007049), (10, 0.22046034)]\n",
      "[(0, 0.24863593), (1, 0.08750061), (8, 0.3375022), (11, 0.09302731), (13, 0.17083324)]\n",
      "[(0, 0.2700022), (5, 0.07000011), (8, 0.13666873), (10, 0.33666366), (13, 0.0699974), (15, 0.07000028)]\n",
      "[(0, 0.10490292), (1, 0.080765404), (6, 0.080771014), (8, 0.4412601), (10, 0.15768239), (16, 0.08077084)]\n",
      "[(0, 0.15350868), (3, 0.1122395), (4, 0.17083529), (5, 0.13670816), (8, 0.17083517), (10, 0.19753921)]\n",
      "[(0, 0.0749969), (5, 0.2178559), (10, 0.21785744), (13, 0.28928816), (14, 0.14642952)]\n",
      "[(0, 0.14225127), (3, 0.3133028), (4, 0.116663635), (6, 0.116669625), (11, 0.1166684), (14, 0.11666482)]\n",
      "[(1, 0.37909845), (5, 0.22678299), (10, 0.13604958), (15, 0.21362388)]\n",
      "[(10, 0.43570787), (13, 0.29286054), (17, 0.15000103)]\n",
      "[(0, 0.10195481), (1, 0.06596711), (5, 0.08075798), (10, 0.10999743), (11, 0.080770284), (14, 0.05958226), (15, 0.38846937), (16, 0.06634576)]\n",
      "[(2, 0.33750156), (3, 0.10337988), (4, 0.08750018), (14, 0.33750266), (15, 0.07161513)]\n",
      "[(2, 0.46237266), (5, 0.2126319), (8, 0.087500684), (11, 0.08750027), (15, 0.08749368)]\n",
      "[(0, 0.06561862), (2, 0.6281318), (3, 0.19062573), (15, 0.06562301)]\n",
      "[(10, 0.4562104), (13, 0.095452), (14, 0.09545399), (17, 0.28015524)]\n",
      "[(10, 0.721428), (16, 0.15000015)]\n",
      "[(5, 0.5217366), (13, 0.09545211), (14, 0.09545395), (15, 0.0954492), (17, 0.12372541)]\n",
      "[(1, 0.07323879), (10, 0.31953105), (17, 0.5541049)]\n",
      "[(5, 0.4500018), (8, 0.116662934), (15, 0.2277788), (17, 0.11666644)]\n",
      "[(1, 0.15823074), (6, 0.075000614), (10, 0.4025011), (13, 0.09283733), (14, 0.21785834)]\n",
      "[(1, 0.17830615), (3, 0.2772726), (6, 0.095455974), (14, 0.095451355), (15, 0.09545239), (17, 0.19442411)]\n",
      "[(2, 0.42171738), (10, 0.16173992), (13, 0.07523636), (14, 0.3065235)]\n",
      "[(1, 0.051117048), (3, 0.1844819), (5, 0.13863589), (6, 0.047727726), (11, 0.09318097), (14, 0.3166762), (15, 0.0931796), (16, 0.047727577)]\n",
      "[(2, 0.41509405), (3, 0.16347773), (14, 0.2892877), (17, 0.0749972)]\n",
      "[(3, 0.6312491), (8, 0.25625062)]\n",
      "[(1, 0.043750048), (2, 0.06332475), (3, 0.10600429), (4, 0.04375029), (5, 0.10205679), (10, 0.13153948), (14, 0.08541466), (15, 0.3991592)]\n",
      "[(2, 0.16052377), (5, 0.055253725), (6, 0.21316223), (8, 0.05526207), (14, 0.42369252), (15, 0.05526281)]\n",
      "[(0, 0.049997214), (1, 0.09762082), (2, 0.04999438), (3, 0.13986094), (5, 0.14523925), (8, 0.1928615), (10, 0.097615674), (13, 0.097620785), (14, 0.102998264)]\n",
      "[(2, 0.11388694), (5, 0.05832387), (6, 0.22500417), (8, 0.058332212), (14, 0.44723022), (15, 0.05833296)]\n",
      "[(5, 0.1892173), (10, 0.4991689), (17, 0.23434067)]\n",
      "[(2, 0.27806762), (5, 0.074996464), (6, 0.07499813), (10, 0.37193602), (13, 0.075000405), (16, 0.07500077)]\n",
      "[(0, 0.12812245), (1, 0.06562341), (2, 0.06562023), (11, 0.065625176), (13, 0.0656251), (14, 0.56563294)]\n",
      "[(1, 0.16399793), (4, 0.116664216), (6, 0.1166688), (10, 0.18044075), (17, 0.3388937)]\n",
      "[(0, 0.12058479), (1, 0.120587416), (11, 0.061764445), (13, 0.061764367), (14, 0.5323571), (16, 0.061764996)]\n",
      "[(5, 0.17499252), (10, 0.5083381), (15, 0.1750017)]\n",
      "[(5, 0.22777575), (10, 0.6722237)]\n",
      "[(2, 0.3575206), (5, 0.48414505), (8, 0.08750039)]\n",
      "[(2, 0.11388753), (3, 0.55834204), (13, 0.05833022), (15, 0.05832673), (16, 0.16944617)]\n",
      "[(0, 0.025000041), (1, 0.025000041), (2, 0.025000041), (3, 0.025000045), (4, 0.025000041), (5, 0.025000041), (6, 0.025000041), (7, 0.025000041), (8, 0.025000041), (9, 0.025000041), (10, 0.5249992), (11, 0.025000041), (12, 0.025000041), (13, 0.025000041), (14, 0.025000041), (15, 0.025000041), (16, 0.025000041), (17, 0.025000041), (18, 0.025000041), (19, 0.025000041)]\n",
      "[(2, 0.29285577), (6, 0.2928602), (11, 0.1500005), (16, 0.14999713)]\n",
      "[(4, 0.34166583), (8, 0.5083338)]\n",
      "[(2, 0.15447728), (3, 0.042454857), (4, 0.040380534), (5, 0.04038255), (8, 0.15577237), (14, 0.42422536), (16, 0.04038368), (17, 0.07884597)]\n",
      "[(5, 0.31563985), (6, 0.2531389), (15, 0.37809327)]\n",
      "[(0, 0.02500004), (1, 0.02500004), (2, 0.02500004), (3, 0.02500004), (4, 0.02500004), (5, 0.02500004), (6, 0.02500004), (7, 0.02500004), (8, 0.02500004), (9, 0.02500004), (10, 0.52499926), (11, 0.02500004), (12, 0.02500004), (13, 0.02500004), (14, 0.02500004), (15, 0.02500004), (16, 0.02500004), (17, 0.02500004), (18, 0.02500004), (19, 0.02500004)]\n",
      "[(0, 0.010000048), (1, 0.010000048), (2, 0.20999722), (3, 0.010000048), (4, 0.010000048), (5, 0.4100017), (6, 0.010000048), (7, 0.010000048), (8, 0.010000048), (9, 0.010000048), (10, 0.010000048), (11, 0.010000048), (12, 0.010000048), (13, 0.010000048), (14, 0.010000048), (15, 0.010000048), (16, 0.010000048), (17, 0.21000028), (18, 0.010000048), (19, 0.010000048)]\n",
      "[(0, 0.1686766), (2, 0.11145909), (3, 0.11506974), (6, 0.08750246), (8, 0.1552273), (10, 0.12929696), (11, 0.095272064), (15, 0.087494604)]\n",
      "[(3, 0.17499276), (5, 0.34166533), (12, 0.17501034), (16, 0.17499985)]\n",
      "[(0, 0.012499812), (1, 0.235916), (2, 0.012499812), (3, 0.012499812), (4, 0.012499812), (5, 0.012499812), (6, 0.012499812), (7, 0.012499812), (8, 0.012499812), (9, 0.012499812), (10, 0.012499812), (11, 0.012499812), (12, 0.012499812), (13, 0.012499812), (14, 0.012499812), (15, 0.26249924), (16, 0.012499812), (17, 0.28908792), (18, 0.012499812), (19, 0.012499812)]\n",
      "[(2, 0.23129088), (3, 0.052493703), (10, 0.223709), (12, 0.052501112), (14, 0.35250494), (15, 0.052499793)]\n",
      "[(0, 0.29285946), (2, 0.14999539), (14, 0.29285848), (16, 0.1499998)]\n",
      "[(1, 0.08076728), (5, 0.08809267), (8, 0.08076947), (10, 0.56348157), (16, 0.1291962)]\n",
      "[(3, 0.23985839), (8, 0.18636131), (10, 0.3146898), (14, 0.09545396), (15, 0.095454045)]\n",
      "[(2, 0.21785152), (3, 0.14507535), (4, 0.15250309), (6, 0.102502316), (12, 0.05597493), (14, 0.091095686), (15, 0.052497864), (16, 0.15249857)]\n",
      "[(1, 0.29286662), (2, 0.29284438), (14, 0.14999968), (15, 0.15000097)]\n",
      "[(10, 0.8416666)]\n",
      "[(0, 0.13125002), (10, 0.25488085), (13, 0.13124919), (15, 0.25625217), (17, 0.13261576)]\n",
      "[(2, 0.11666396), (4, 0.11666696), (5, 0.27605036), (10, 0.19288205), (15, 0.2144023)]\n",
      "[(2, 0.11296258), (8, 0.038888864), (10, 0.075920165), (14, 0.6314869), (15, 0.11296339)]\n",
      "[(4, 0.17500065), (8, 0.1749998), (10, 0.34166652), (12, 0.17499904)]\n",
      "[(1, 0.15769066), (3, 0.09161782), (4, 0.15769516), (5, 0.08963531), (10, 0.44566795)]\n",
      "[(0, 0.010000052), (1, 0.010000052), (2, 0.20999692), (3, 0.010000052), (4, 0.010000052), (5, 0.010000052), (6, 0.010000052), (7, 0.010000052), (8, 0.4100018), (9, 0.010000052), (10, 0.010000052), (11, 0.010000052), (12, 0.010000052), (13, 0.010000052), (14, 0.21000038), (15, 0.010000052), (16, 0.010000052), (17, 0.010000052), (18, 0.010000052), (19, 0.010000052)]\n",
      "[(1, 0.052499596), (3, 0.30249885), (6, 0.1025013), (10, 0.21384338), (13, 0.15250166), (15, 0.05249949), (16, 0.09115541)]\n",
      "[(1, 0.14217556), (4, 0.22777885), (8, 0.22777693), (10, 0.31337938)]\n",
      "[(0, 0.10253385), (1, 0.039761942), (3, 0.046138126), (5, 0.092672326), (10, 0.19012673), (13, 0.5028403)]\n",
      "[(3, 0.33666855), (5, 0.20332825), (6, 0.070000805), (15, 0.270002), (16, 0.06999971)]\n",
      "[(0, 0.13628778), (1, 0.040384814), (2, 0.06802226), (3, 0.078842886), (5, 0.26299226), (11, 0.38654634)]\n",
      "[(1, 0.084557824), (3, 0.31200176), (10, 0.30728522), (15, 0.15769283), (16, 0.08076959)]\n",
      "[(0, 0.13258788), (10, 0.41685033), (13, 0.33159176), (14, 0.07896933)]\n",
      "[(0, 0.07499498), (1, 0.07499725), (3, 0.36072236), (5, 0.14642444), (8, 0.14643292), (16, 0.07500059), (17, 0.07499742)]\n",
      "[(1, 0.06170894), (2, 0.101543106), (3, 0.11321542), (5, 0.089362815), (8, 0.18636768), (14, 0.095455125), (15, 0.0776877), (17, 0.2201128)]\n",
      "[(3, 0.16740583), (8, 0.13125013), (10, 0.1312512), (14, 0.09509836), (15, 0.25625035), (17, 0.13124247)]\n",
      "[(0, 0.40546793), (2, 0.3328187), (15, 0.08749704), (17, 0.107549176)]\n",
      "[(0, 0.08768949), (2, 0.069995806), (5, 0.4700105), (8, 0.07000132), (10, 0.069994316), (11, 0.13666806), (14, 0.052306272)]\n",
      "[(0, 0.05686137), (1, 0.12597162), (5, 0.40383655), (10, 0.123337), (11, 0.052499313), (13, 0.10249922), (14, 0.05250027), (15, 0.052494127)]\n",
      "[(3, 0.12831594), (5, 0.20499822), (10, 0.58168525)]\n",
      "[(5, 0.088035494), (8, 0.5350393), (12, 0.080769986), (16, 0.23461625)]\n",
      "[(2, 0.45072758), (3, 0.1095333), (6, 0.04038501), (10, 0.1378149), (12, 0.11730939), (14, 0.040384497), (15, 0.078844965)]\n",
      "[(0, 0.012499995), (1, 0.012499995), (2, 0.012499995), (3, 0.012499995), (4, 0.012499995), (5, 0.012499995), (6, 0.012499995), (7, 0.012499995), (8, 0.012499995), (9, 0.012499995), (10, 0.5124998), (11, 0.012499995), (12, 0.012499995), (13, 0.012499995), (14, 0.26250032), (15, 0.012499995), (16, 0.012499995), (17, 0.012499995), (18, 0.012499995), (19, 0.012499995)]\n",
      "[(4, 0.1166671), (5, 0.11666244), (13, 0.45000324), (15, 0.22777769)]\n",
      "[(2, 0.06561926), (3, 0.06562526), (4, 0.06562488), (6, 0.12812723), (8, 0.12812598), (10, 0.12812234), (11, 0.19062743), (14, 0.19062696)]\n",
      "[(3, 0.2478083), (5, 0.068194345), (8, 0.17941307), (14, 0.24321134), (16, 0.06176397), (17, 0.1584322)]\n",
      "[(2, 0.11291542), (3, 0.22133614), (8, 0.093469605), (10, 0.25560957), (14, 0.25416872)]\n",
      "[(5, 0.08749998), (6, 0.08750189), (8, 0.25417086), (10, 0.08748365), (12, 0.1708372), (14, 0.25417173)]\n",
      "[(0, 0.36106202), (4, 0.25625756), (5, 0.13123566), (10, 0.15144272)]\n",
      "[(2, 0.27187273), (6, 0.043750495), (8, 0.055536933), (10, 0.22480653), (14, 0.16875133), (16, 0.20611486)]\n",
      "[(1, 0.13666566), (2, 0.26658738), (10, 0.40674764), (11, 0.06999921), (14, 0.06999976)]\n",
      "[(1, 0.125617), (3, 0.42284223), (5, 0.13487013), (6, 0.11666848), (11, 0.11666772)]\n",
      "[(0, 0.12586711), (2, 0.21316063), (3, 0.055258192), (5, 0.15192857), (11, 0.10789547), (12, 0.055264514), (14, 0.098520786), (16, 0.16052504)]\n",
      "[(3, 0.13124418), (6, 0.13125126), (10, 0.50625116), (12, 0.13125335)]\n",
      "[(2, 0.30267394), (3, 0.20628184), (8, 0.08912802), (10, 0.24748826), (14, 0.073235124), (15, 0.05075744)]\n",
      "[(0, 0.2425862), (3, 0.09122554), (8, 0.22291853), (10, 0.08200987), (11, 0.3076878)]\n",
      "[(2, 0.29640737), (3, 0.11678504), (5, 0.08749893), (10, 0.09930347), (12, 0.08750242), (15, 0.2541683)]\n",
      "[(0, 0.06575173), (1, 0.36728916), (4, 0.05832944), (10, 0.18141885), (17, 0.2855435)]\n",
      "[(2, 0.20086925), (10, 0.32188466), (11, 0.04772703), (14, 0.047725853), (15, 0.047726426), (17, 0.30224818)]\n",
      "[(0, 0.15769216), (6, 0.08077002), (8, 0.23461623), (12, 0.31154177), (16, 0.15768678)]\n",
      "[(0, 0.01666635), (1, 0.01666635), (2, 0.01666635), (3, 0.01666635), (4, 0.01666635), (5, 0.01666635), (6, 0.01666635), (7, 0.01666635), (8, 0.01666635), (9, 0.01666635), (10, 0.01666635), (11, 0.01666635), (12, 0.01666635), (13, 0.01666635), (14, 0.01666635), (15, 0.01666635), (16, 0.6833393), (17, 0.01666635), (18, 0.01666635), (19, 0.01666635)]\n",
      "[(1, 0.1517077), (5, 0.3416698), (10, 0.19829191), (15, 0.17499565)]\n",
      "[(0, 0.016666599), (1, 0.016666599), (2, 0.0166666), (3, 0.016666599), (4, 0.016666599), (5, 0.016666599), (6, 0.016666599), (7, 0.016666599), (8, 0.016666599), (9, 0.016666599), (10, 0.34999833), (11, 0.016666599), (12, 0.016666599), (13, 0.016666599), (14, 0.016666599), (15, 0.016666599), (16, 0.3500029), (17, 0.016666599), (18, 0.016666599), (19, 0.016666599)]\n",
      "[(2, 0.29611027), (3, 0.116664656), (13, 0.11666443), (14, 0.11666622), (15, 0.27055994)]\n",
      "[(0, 0.09545473), (2, 0.09545203), (3, 0.2772742), (8, 0.18636377), (11, 0.18636507), (14, 0.0954531)]\n",
      "[(0, 0.14980713), (14, 0.33290768), (15, 0.116664045), (17, 0.3117319)]\n",
      "[(3, 0.40333578), (8, 0.13666773), (13, 0.06999703), (15, 0.20333457), (17, 0.13666438)]\n",
      "[(3, 0.13124973), (8, 0.25624964), (10, 0.50625044)]\n",
      "[(0, 0.31841844), (2, 0.16843264), (6, 0.10789465), (14, 0.055262707), (15, 0.07497453), (17, 0.23817416)]\n",
      "[(0, 0.14999793), (10, 0.29285643), (15, 0.4357165)]\n",
      "[(1, 0.1297364), (3, 0.08749467), (6, 0.08750201), (10, 0.2181278), (14, 0.17083357), (15, 0.0874989), (17, 0.16463889)]\n",
      "[(0, 0.19922675), (1, 0.13125104), (8, 0.21775953), (14, 0.22676702), (15, 0.13124502)]\n",
      "[(0, 0.27229467), (3, 0.26558757), (4, 0.13124998), (8, 0.230868)]\n",
      "[(0, 0.26080367), (1, 0.061753258), (2, 0.17626654), (5, 0.06862694), (6, 0.297065), (8, 0.09430728)]\n",
      "[(1, 0.1641391), (2, 0.05368553), (3, 0.070835836), (11, 0.0862405), (14, 0.5875984)]\n",
      "[(2, 0.37449166), (8, 0.21785843), (14, 0.07499977), (17, 0.27550715)]\n",
      "[(0, 0.53855777), (2, 0.17144303), (14, 0.20499898)]\n",
      "[(5, 0.2469412), (6, 0.10500146), (8, 0.10499695), (15, 0.104996115), (17, 0.36306378)]\n",
      "[(0, 0.10620901), (2, 0.100592576), (3, 0.33344835), (5, 0.09545287), (6, 0.09545583), (8, 0.0954554), (13, 0.11429443)]\n",
      "[(2, 0.12305825), (3, 0.5472039), (5, 0.11666275), (10, 0.124184966)]\n",
      "[(0, 0.08474646), (1, 0.7368489), (3, 0.06266875), (6, 0.038886204), (10, 0.049071714)]\n",
      "[(2, 0.41065323), (4, 0.06562528), (5, 0.065622926), (6, 0.065625705), (8, 0.15809608), (12, 0.065625794), (17, 0.1281255)]\n",
      "[(0, 0.0125000505), (1, 0.0125000505), (2, 0.2624983), (3, 0.0125000505), (4, 0.0125000505), (5, 0.0125000505), (6, 0.26250365), (7, 0.0125000505), (8, 0.0125000505), (9, 0.0125000505), (10, 0.0125000505), (11, 0.0125000505), (12, 0.0125000505), (13, 0.0125000505), (14, 0.0125000505), (15, 0.0125000505), (16, 0.0125000505), (17, 0.26249722), (18, 0.0125000505), (19, 0.0125000505)]\n",
      "[(0, 0.38125494), (2, 0.25624752), (11, 0.13124768), (13, 0.13124819)]\n",
      "[(0, 0.07131919), (2, 0.5195636), (5, 0.11388368), (11, 0.058333095), (13, 0.08412319), (14, 0.11388731)]\n",
      "[(0, 0.6914011), (3, 0.1358712), (8, 0.09545456)]\n",
      "[(3, 0.09544925), (5, 0.095450886), (6, 0.27727813), (10, 0.45909387)]\n",
      "[(0, 0.071339116), (2, 0.51945406), (5, 0.1138837), (11, 0.058333103), (13, 0.08421286), (14, 0.11388731)]\n",
      "[(0, 0.2931636), (1, 0.055968314), (2, 0.12864617), (5, 0.17605929), (11, 0.2086596), (12, 0.102502234)]\n",
      "[(0, 0.15040615), (1, 0.20332913), (2, 0.25626493), (11, 0.203337), (13, 0.069997646), (15, 0.06999751)]\n",
      "[(0, 0.054591782), (2, 0.28541583), (3, 0.21167442), (5, 0.0661185), (6, 0.11389194), (10, 0.08044221), (14, 0.058326095), (17, 0.096205086)]\n",
      "[(1, 0.21979974), (2, 0.2230545), (14, 0.1500003), (15, 0.15000074), (16, 0.15000065)]\n",
      "[(0, 0.23042992), (2, 0.16338038), (4, 0.07499597), (6, 0.0750007), (11, 0.07500002), (13, 0.0749989), (14, 0.07986472), (17, 0.18347168)]\n",
      "[(1, 0.14139582), (2, 0.09705977), (3, 0.080765665), (4, 0.15769297), (13, 0.08077051), (14, 0.15769488), (15, 0.15769514), (16, 0.080770165)]\n",
      "[(0, 0.4237486), (3, 0.087599166), (8, 0.25128812), (11, 0.0595981), (13, 0.08054497), (14, 0.058331568)]\n",
      "[(2, 0.1708324), (3, 0.14347507), (4, 0.25417107), (5, 0.09483052), (8, 0.19085611), (11, 0.087500624)]\n",
      "[(0, 0.15890725), (1, 0.24352229), (2, 0.15586664), (8, 0.14999865), (10, 0.18456072)]\n",
      "[(2, 0.097188525), (3, 0.25246), (4, 0.038887728), (5, 0.08627597), (8, 0.25291637), (10, 0.20931265), (14, 0.038884282)]\n",
      "[(0, 0.16088286), (2, 0.24411398), (4, 0.10250029), (6, 0.052500628), (12, 0.25250486), (13, 0.05249671), (16, 0.10250023)]\n",
      "[(3, 0.15768686), (4, 0.23461862), (8, 0.15769435), (10, 0.31153652), (12, 0.08077063)]\n",
      "[(5, 0.06562426), (6, 0.12812603), (8, 0.25312692), (10, 0.13877597), (13, 0.17676193), (16, 0.065625235), (17, 0.13133429)]\n",
      "[(2, 0.14147787), (5, 0.116662435), (10, 0.5363025), (16, 0.116667815)]\n",
      "[(3, 0.17069826), (8, 0.08076616), (10, 0.098774694), (14, 0.14468813), (15, 0.15769348), (17, 0.29353258)]\n",
      "[(0, 0.06881442), (3, 0.12812099), (4, 0.3781363), (6, 0.06562679), (8, 0.18743962), (10, 0.06561669), (15, 0.06561903)]\n",
      "[(0, 0.1269203), (3, 0.3066428), (5, 0.1259716), (8, 0.10499748), (14, 0.08887341), (17, 0.17659312)]\n",
      "[(0, 0.17500266), (5, 0.17499918), (10, 0.34166244), (16, 0.17499995)]\n",
      "[(0, 0.030733058), (2, 0.11487707), (6, 0.036207575), (10, 0.16443391), (11, 0.03620688), (13, 0.13965458), (14, 0.04167067), (15, 0.41552612)]\n",
      "[(1, 0.21785828), (5, 0.0749993), (6, 0.07500039), (10, 0.28928477), (13, 0.07499962), (15, 0.21785723)]\n",
      "[(0, 0.02500001), (1, 0.02500001), (2, 0.02500001), (3, 0.02500001), (4, 0.02500001), (5, 0.02500001), (6, 0.02500001), (7, 0.02500001), (8, 0.5249998), (9, 0.02500001), (10, 0.02500001), (11, 0.02500001), (12, 0.02500001), (13, 0.02500001), (14, 0.02500001), (15, 0.02500001), (16, 0.02500001), (17, 0.02500001), (18, 0.02500001), (19, 0.02500001)]\n",
      "[(4, 0.14999998), (14, 0.57857585), (15, 0.14999461)]\n",
      "[(0, 0.077239685), (3, 0.33982915), (8, 0.12812534), (10, 0.21730739), (14, 0.065623246), (15, 0.12812456)]\n",
      "[(0, 0.18751158), (4, 0.10499973), (8, 0.12248969), (10, 0.2050016), (13, 0.205), (15, 0.10499637)]\n",
      "[(0, 0.13124426), (8, 0.1312522), (10, 0.25624934), (13, 0.2562515), (16, 0.13125084)]\n",
      "[(2, 0.1423511), (3, 0.06530548), (5, 0.21292824), (6, 0.12058955), (8, 0.17941353), (12, 0.06176522), (13, 0.17941114)]\n",
      "[(0, 0.43571466), (6, 0.1499989), (15, 0.14999878), (16, 0.15000054)]\n",
      "[(2, 0.3147951), (10, 0.29520738), (14, 0.10499898), (17, 0.20499793)]\n",
      "[(2, 0.4627946), (3, 0.27357337), (4, 0.09545311), (5, 0.09545051)]\n",
      "[(0, 0.18096301), (1, 0.052515168), (2, 0.10953362), (5, 0.04957773), (6, 0.16944762), (10, 0.065735795), (11, 0.16944642), (16, 0.16944677)]\n",
      "[(1, 0.4500028), (2, 0.22777493), (11, 0.22777715)]\n",
      "[(5, 0.63125324), (15, 0.13125025), (17, 0.13124543)]\n",
      "[(3, 0.22676481), (4, 0.17941429), (5, 0.070785895), (8, 0.120591186), (12, 0.06422097), (14, 0.12059169), (15, 0.12058688), (16, 0.06174905)]\n",
      "[(0, 0.11040972), (8, 0.1863637), (10, 0.41656804), (12, 0.095455855), (13, 0.12302014)]\n",
      "[(0, 0.08763502), (2, 0.1366674), (3, 0.06999581), (5, 0.0699992), (8, 0.069995716), (10, 0.07000058), (13, 0.33667555), (14, 0.05236607), (15, 0.0699969)]\n",
      "[(2, 0.11388487), (6, 0.058333945), (10, 0.058326785), (14, 0.6694533), (16, 0.0583338)]\n",
      "[(2, 0.3019007), (3, 0.09557107), (5, 0.07884623), (8, 0.0403808), (11, 0.15577075), (14, 0.22368468), (17, 0.07884538)]\n",
      "[(3, 0.080767415), (10, 0.31153888), (14, 0.08076503), (15, 0.46538973)]\n",
      "[(0, 0.14238894), (3, 0.35298625), (4, 0.05526326), (5, 0.07811168), (8, 0.060959786), (10, 0.16818324), (16, 0.10789593)]\n",
      "[(8, 0.08749457), (10, 0.28880763), (14, 0.08750025), (17, 0.46953028)]\n",
      "[(0, 0.14960942), (2, 0.5024306), (3, 0.15881303), (8, 0.049174793), (15, 0.060590684), (17, 0.0489461)]\n",
      "[(2, 0.09247401), (3, 0.09275177), (6, 0.08077053), (8, 0.23461923), (10, 0.21092497), (11, 0.08076976), (14, 0.08076853), (15, 0.08076679)]\n",
      "[(0, 0.13872845), (2, 0.08904586), (3, 0.15769204), (5, 0.09144943), (10, 0.38846555), (16, 0.08077116)]\n",
      "[(0, 0.07500003), (1, 0.07499899), (3, 0.57500815), (8, 0.07499874), (10, 0.14642158)]\n",
      "[(0, 0.08409189), (2, 0.07942638), (3, 0.27270022), (4, 0.032810163), (5, 0.036228124), (6, 0.032813154), (8, 0.12656264), (10, 0.14772528), (11, 0.04545107), (16, 0.1265657)]\n",
      "[(0, 0.3681863), (3, 0.1863611), (5, 0.18636483), (6, 0.09545603), (10, 0.09544886)]\n",
      "[(0, 0.15868384), (3, 0.27083865), (4, 0.18636535), (10, 0.21971141), (13, 0.09621831)]\n",
      "[(2, 0.11666249), (4, 0.22778016), (5, 0.22777744), (6, 0.116668105), (8, 0.2277774)]\n",
      "[(2, 0.09902322), (3, 0.09318913), (10, 0.15930012), (11, 0.42084265), (14, 0.16514334)]\n",
      "[(3, 0.25625125), (5, 0.13124691), (8, 0.1312509), (10, 0.38124996)]\n",
      "[(0, 0.252196), (1, 0.11946233), (2, 0.049665213), (4, 0.041997984), (5, 0.09188309), (11, 0.04298205), (12, 0.20200582), (14, 0.041999552), (15, 0.081998326), (17, 0.055809066)]\n",
      "[(0, 0.14105812), (2, 0.15400897), (4, 0.13124971), (5, 0.14915867), (6, 0.13125245), (17, 0.20577092)]\n",
      "[(0, 0.051936436), (1, 0.047726993), (3, 0.23359147), (5, 0.15500054), (6, 0.047727656), (10, 0.19616885), (14, 0.07015743), (15, 0.047726724), (16, 0.12496364)]\n",
      "[(0, 0.051914677), (1, 0.047726993), (3, 0.23350905), (5, 0.15500896), (6, 0.047727656), (10, 0.19618517), (14, 0.07023654), (15, 0.047726724), (16, 0.12496397)]\n",
      "[(0, 0.07499769), (2, 0.28927994), (14, 0.5750074)]\n",
      "[(0, 0.047723), (10, 0.63863945), (11, 0.09318189), (14, 0.047726944), (16, 0.13863756)]\n",
      "[(0, 0.1500007), (3, 0.29285023), (8, 0.2928585), (14, 0.1500022)]\n",
      "[(0, 0.012499941), (1, 0.012499941), (2, 0.0124999415), (3, 0.012499941), (4, 0.012499941), (5, 0.012499941), (6, 0.012499941), (7, 0.012499941), (8, 0.26250076), (9, 0.012499941), (10, 0.26249784), (11, 0.26250237), (12, 0.012499941), (13, 0.012499941), (14, 0.012499941), (15, 0.012499941), (16, 0.012499941), (17, 0.012499941), (18, 0.012499941), (19, 0.012499941)]\n",
      "[(1, 0.7579895), (5, 0.061945237), (6, 0.061765052), (13, 0.071240984)]\n",
      "[(1, 0.118096545), (2, 0.15243626), (3, 0.1677799), (10, 0.12136787), (14, 0.19304222), (17, 0.17727621)]\n",
      "[(0, 0.08401112), (2, 0.098367706), (5, 0.07492563), (10, 0.5273095), (13, 0.0807695), (14, 0.080769666)]\n",
      "[(2, 0.37267503), (10, 0.29240394), (11, 0.09761906), (15, 0.065883614), (16, 0.13570371)]\n",
      "[(5, 0.33889124), (10, 0.11665774), (14, 0.45000586)]\n",
      "[(1, 0.04999768), (2, 0.19285695), (13, 0.3357143), (14, 0.38333556)]\n",
      "[(3, 0.35247064), (8, 0.17083399), (10, 0.15195587), (13, 0.087498605), (15, 0.087496065), (17, 0.09141078)]\n",
      "[(2, 0.08749959), (5, 0.25416395), (8, 0.170836), (15, 0.087498374), (16, 0.1708367), (17, 0.17083111)]\n",
      "[(0, 0.11504948), (2, 0.07499902), (5, 0.23412585), (8, 0.090111785), (15, 0.146429), (16, 0.14643067), (17, 0.14642508)]\n",
      "[(1, 0.11006279), (3, 0.073304616), (4, 0.058333855), (5, 0.13287956), (6, 0.058334317), (8, 0.11389087), (10, 0.083315745), (12, 0.119161755), (14, 0.109050155), (16, 0.11388801)]\n",
      "[(0, 0.010000143), (1, 0.2100031), (2, 0.010000143), (3, 0.010000145), (4, 0.010000143), (5, 0.20999901), (6, 0.010000143), (7, 0.010000143), (8, 0.010000143), (9, 0.010000143), (10, 0.010000143), (11, 0.20999894), (12, 0.010000143), (13, 0.010000143), (14, 0.010000143), (15, 0.20999667), (16, 0.010000143), (17, 0.010000143), (18, 0.010000143), (19, 0.010000143)]\n",
      "[(1, 0.06176473), (2, 0.06491281), (5, 0.12058699), (8, 0.17941287), (10, 0.17626272), (12, 0.06176271), (14, 0.17941344), (15, 0.12058912)]\n",
      "[(0, 0.2033339), (3, 0.32509446), (8, 0.07000076), (10, 0.08156602), (14, 0.27000418)]\n",
      "[(3, 0.39167085), (8, 0.05832686), (10, 0.113885514), (11, 0.16944608), (13, 0.058333997), (14, 0.113890864), (15, 0.058333814)]\n",
      "[(2, 0.09544969), (3, 0.09545571), (4, 0.09545506), (8, 0.0954562), (10, 0.1863618), (12, 0.095457055), (13, 0.095454045), (15, 0.18636386)]\n",
      "[(0, 0.38125324), (3, 0.13124396), (4, 0.13125119), (10, 0.25625098)]\n",
      "[(2, 0.089610875), (5, 0.07499585), (8, 0.074999556), (13, 0.20324631), (14, 0.28928787), (15, 0.21785942)]\n",
      "[(1, 0.116665445), (3, 0.2954427), (10, 0.33889166), (14, 0.16011028)]\n",
      "[(1, 0.085427165), (3, 0.08832404), (4, 0.06176504), (5, 0.07325302), (10, 0.3320104), (15, 0.120586835), (16, 0.06176535), (17, 0.14157352)]\n",
      "[(0, 0.14415886), (5, 0.32507467), (8, 0.15769379), (15, 0.08076703), (16, 0.08077), (17, 0.15768887)]\n",
      "[(0, 0.131454), (2, 0.2733219), (5, 0.21077554), (8, 0.09447359), (11, 0.03888516), (14, 0.07592369), (16, 0.07592555), (17, 0.077017866)]\n",
      "[(1, 0.20500144), (8, 0.105000615), (10, 0.118402906), (15, 0.30500206), (16, 0.09159618), (17, 0.10499612)]\n",
      "[(0, 0.08476405), (1, 0.23103169), (2, 0.40754777), (3, 0.07499458), (5, 0.076660044), (11, 0.07500079)]\n",
      "[(0, 0.27082098), (2, 0.10571562), (6, 0.095455386), (10, 0.36437294), (15, 0.09545266)]\n",
      "[(3, 0.09913218), (5, 0.18636309), (11, 0.09545384), (14, 0.27359548), (15, 0.18636395), (16, 0.09545483)]\n",
      "[(5, 0.17083287), (10, 0.5925298), (15, 0.16580357)]\n",
      "[(1, 0.17499985), (2, 0.17499837), (11, 0.1750018), (14, 0.17500165), (15, 0.17499734)]\n",
      "[(1, 0.17499985), (2, 0.17499834), (11, 0.1750018), (14, 0.17500164), (15, 0.17499734)]\n",
      "[(0, 0.016666725), (1, 0.016666725), (2, 0.016666738), (3, 0.016666725), (4, 0.016666725), (5, 0.016666725), (6, 0.016666725), (7, 0.016666725), (8, 0.016666725), (9, 0.016666725), (10, 0.6833322), (11, 0.016666725), (12, 0.016666725), (13, 0.016666725), (14, 0.016666725), (15, 0.016666725), (16, 0.016666725), (17, 0.016666725), (18, 0.016666725), (19, 0.016666725)]\n",
      "[(1, 0.055261433), (3, 0.23057114), (5, 0.05526115), (8, 0.10789382), (10, 0.10789094), (11, 0.10789569), (13, 0.107895985), (14, 0.19575037)]\n",
      "[(2, 0.05645309), (3, 0.19501638), (5, 0.055262078), (10, 0.22137226), (13, 0.29504737), (14, 0.140006)]\n",
      "[(0, 0.16589296), (2, 0.38124868), (6, 0.13125122), (11, 0.13124965), (14, 0.09660662)]\n",
      "[(0, 0.16692038), (2, 0.35567075), (3, 0.08077009), (6, 0.08077083), (11, 0.15769377), (17, 0.10432689)]\n",
      "[(0, 0.09406556), (1, 0.124719284), (2, 0.3144732), (8, 0.2277812), (10, 0.15562628)]\n",
      "[(3, 0.142201), (5, 0.2799474), (10, 0.4716003)]\n",
      "[(5, 0.18636367), (10, 0.45908785), (15, 0.18636486), (16, 0.09545563)]\n",
      "[(1, 0.25626945), (3, 0.108180605), (5, 0.08123842), (8, 0.23462193), (10, 0.108145595), (16, 0.15769628)]\n",
      "[(2, 0.06562269), (3, 0.2327176), (6, 0.06562586), (8, 0.06860344), (13, 0.06562196), (14, 0.08305346), (15, 0.3781294)]\n",
      "[(1, 0.11822977), (5, 0.079440676), (8, 0.0699969), (10, 0.34305996), (12, 0.0726083), (14, 0.0699963), (15, 0.20333391)]\n",
      "[(1, 0.1464299), (2, 0.160629), (5, 0.14185081), (8, 0.21785873), (10, 0.14642546), (15, 0.1368054)]\n",
      "[(2, 0.18999416), (8, 0.06355226), (10, 0.66602314), (11, 0.04564744)]\n",
      "[(2, 0.1366643), (5, 0.069996424), (6, 0.20333852), (10, 0.218151), (11, 0.07000085), (16, 0.070001416), (17, 0.18851313)]\n",
      "[(4, 0.38125598), (8, 0.13124909), (10, 0.25624558), (13, 0.13124807)]\n",
      "[(0, 0.010000045), (1, 0.010000045), (2, 0.5724056), (3, 0.010000045), (4, 0.010000045), (5, 0.010000045), (6, 0.010000045), (7, 0.010000045), (8, 0.010000045), (9, 0.010000045), (10, 0.010000045), (11, 0.010000045), (12, 0.010000045), (13, 0.010000045), (14, 0.010000045), (15, 0.24759361), (16, 0.010000045), (17, 0.010000045), (18, 0.010000045), (19, 0.010000045)]\n",
      "[(0, 0.25416273), (3, 0.33750105), (4, 0.17083518), (15, 0.08749983), (16, 0.08750078)]\n",
      "[(0, 0.209997), (6, 0.2100006), (12, 0.21000732), (17, 0.20999762)]\n",
      "[(5, 0.3416658), (8, 0.50833446)]\n",
      "[(3, 0.28797558), (4, 0.06176114), (5, 0.12503591), (8, 0.12522964), (14, 0.06176536), (15, 0.12058713), (16, 0.120589375), (17, 0.061761014)]\n",
      "[(2, 0.28279692), (6, 0.17083502), (8, 0.0874996), (10, 0.30887088), (13, 0.08749694)]\n",
      "[(4, 0.08749952), (8, 0.3375), (11, 0.2541678), (15, 0.15579171), (17, 0.10254016)]\n",
      "[(5, 0.10498903), (13, 0.20500295), (14, 0.105000146), (15, 0.30500412), (16, 0.10500194), (17, 0.10500055)]\n",
      "[(1, 0.051167328), (2, 0.21788278), (3, 0.2623719), (8, 0.049997833), (13, 0.16197969), (15, 0.17564724), (16, 0.05000043)]\n",
      "[(5, 0.3416658), (8, 0.5083344)]\n",
      "[(3, 0.16713353), (5, 0.15768647), (8, 0.08076997), (10, 0.23756416), (15, 0.15769257), (16, 0.14530665)]\n",
      "[(2, 0.13892993), (6, 0.07000033), (8, 0.20333447), (15, 0.46773487), (16, 0.070000164)]\n",
      "[(1, 0.05378828), (2, 0.16450159), (3, 0.27673814), (8, 0.05249783), (13, 0.17106678), (15, 0.19640651), (16, 0.052500412)]\n",
      "[(10, 0.7178562), (15, 0.14642884), (16, 0.07500023)]\n",
      "[(0, 0.09420083), (2, 0.12817411), (3, 0.11388777), (8, 0.058334168), (11, 0.063735485), (13, 0.28056127), (15, 0.058331724), (16, 0.11388997), (17, 0.05832849)]\n",
      "[(0, 0.16133074), (2, 0.15936844), (14, 0.48930293), (15, 0.13666391)]\n",
      "[(1, 0.18636361), (2, 0.5500006), (8, 0.18636274)]\n",
      "[(10, 0.7178562), (15, 0.14642887), (16, 0.075000234)]\n",
      "[(2, 0.6409096), (6, 0.095454834), (8, 0.18636256)]\n",
      "[(5, 0.11389675), (8, 0.1050014), (10, 0.3961027), (15, 0.104998104), (17, 0.20499995)]\n",
      "[(1, 0.13936979), (5, 0.5246744), (8, 0.043747447), (10, 0.2588747)]\n",
      "[(3, 0.22224534), (4, 0.047726635), (5, 0.04772248), (10, 0.50227416), (14, 0.14594018)]\n",
      "[(3, 0.11666658), (4, 0.11666641), (10, 0.33738223), (12, 0.116667025), (16, 0.116667256), (17, 0.118172355)]\n",
      "[(2, 0.34166303), (3, 0.34166873), (11, 0.17500092)]\n",
      "[(2, 0.13282874), (5, 0.4106022), (10, 0.13323444), (13, 0.07000002), (14, 0.20333415)]\n",
      "[(3, 0.47078684), (5, 0.14037785), (10, 0.27321246), (15, 0.06562243)]\n",
      "[(0, 0.0749975), (5, 0.16767474), (10, 0.40992394), (14, 0.0750002), (17, 0.2188316)]\n",
      "[(0, 0.12062536), (1, 0.19071977), (2, 0.28945294), (10, 0.24920188), (14, 0.08749936)]\n",
      "[(0, 0.23461528), (6, 0.15769364), (8, 0.23461467), (14, 0.31153765)]\n",
      "[(0, 0.15007305), (1, 0.14302711), (2, 0.16101648), (3, 0.24826984), (4, 0.07000036), (10, 0.18094584)]\n",
      "[(5, 0.099553704), (10, 0.6335788), (12, 0.18959458)]\n",
      "[(0, 0.06176142), (3, 0.29904228), (5, 0.08178285), (10, 0.51035404)]\n",
      "[(3, 0.068537764), (5, 0.13448142), (6, 0.065626115), (10, 0.45941523), (14, 0.12812635), (15, 0.100062534)]\n",
      "[(1, 0.32576367), (3, 0.07217276), (5, 0.29706013), (6, 0.061765514), (10, 0.06641552), (13, 0.07682317), (15, 0.061763518)]\n",
      "[(2, 0.43571088), (15, 0.435718)]\n",
      "[(0, 0.012500091), (1, 0.012500091), (2, 0.26249784), (3, 0.2624948), (4, 0.012500091), (5, 0.012500091), (6, 0.012500091), (7, 0.012500091), (8, 0.012500091), (9, 0.012500091), (10, 0.012500091), (11, 0.012500091), (12, 0.012500091), (13, 0.012500091), (14, 0.26250586), (15, 0.012500091), (16, 0.012500091), (17, 0.012500091), (18, 0.012500091), (19, 0.012500091)]\n",
      "[(1, 0.3050036), (3, 0.30500135), (6, 0.10499884), (14, 0.10499978), (15, 0.10499507)]\n",
      "[(0, 0.15577255), (5, 0.41014984), (10, 0.29176953), (14, 0.08076916)]\n",
      "[(0, 0.3607184), (3, 0.1464256), (4, 0.074997894), (10, 0.14642724), (15, 0.07499989), (16, 0.14643034)]\n",
      "[(0, 0.29285684), (6, 0.15000024), (10, 0.43571398)]\n",
      "[(1, 0.120588385), (4, 0.12058922), (5, 0.09688719), (6, 0.06176527), (10, 0.073663905), (11, 0.08546349), (14, 0.17941253), (15, 0.108688034), (17, 0.12058867)]\n",
      "[(0, 0.15753876), (1, 0.18608926), (3, 0.21240395), (10, 0.30397278), (14, 0.10249475)]\n",
      "[(0, 0.17499961), (4, 0.3416655), (10, 0.17499985), (14, 0.1750008)]\n",
      "[(2, 0.35695973), (10, 0.37940365), (14, 0.1863631)]\n",
      "[(0, 0.15769258), (1, 0.14070934), (2, 0.08076603), (10, 0.15813412), (12, 0.2511584), (16, 0.15769315)]\n",
      "[(0, 0.26654726), (5, 0.14345245), (10, 0.3049996), (15, 0.104999706), (16, 0.10500059)]\n",
      "[(0, 0.15576269), (5, 0.41015807), (10, 0.2917712), (14, 0.080769174)]\n",
      "[(0, 0.52499926), (1, 0.025000038), (2, 0.025000038), (3, 0.025000038), (4, 0.025000038), (5, 0.025000038), (6, 0.025000038), (7, 0.025000038), (8, 0.025000038), (9, 0.025000038), (10, 0.025000038), (11, 0.025000038), (12, 0.025000038), (13, 0.025000038), (14, 0.025000038), (15, 0.025000038), (16, 0.025000038), (17, 0.025000038), (18, 0.025000038), (19, 0.025000038)]\n",
      "[(0, 0.15572254), (5, 0.41019282), (10, 0.29177663), (14, 0.08076916)]\n",
      "[(0, 0.064019814), (1, 0.103846006), (2, 0.24840479), (3, 0.14110176), (5, 0.038745116), (8, 0.07820681), (10, 0.103778794), (11, 0.026922425), (14, 0.1541543), (15, 0.027999373)]\n",
      "[(0, 0.10499548), (2, 0.30499431), (5, 0.30500713), (6, 0.105002694), (16, 0.10499851)]\n",
      "[(1, 0.32629263), (2, 0.094870694), (5, 0.08216733), (6, 0.17083712), (10, 0.09666394), (13, 0.087501235), (14, 0.087499246)]\n",
      "[(0, 0.57736826), (10, 0.10789485), (11, 0.11210815), (12, 0.10789365), (15, 0.05526095)]\n",
      "[(1, 0.08983352), (2, 0.05673323), (3, 0.056473937), (6, 0.043750867), (8, 0.0437466), (10, 0.20218067), (11, 0.043750145), (14, 0.14685842), (15, 0.29375547)]\n",
      "[(2, 0.49146003), (5, 0.29742822), (16, 0.116667)]\n",
      "[(0, 0.24860188), (2, 0.30775476), (3, 0.08360169), (5, 0.0440323), (6, 0.04200031), (8, 0.08600825), (11, 0.08199963), (12, 0.08200089)]\n",
      "[(2, 0.27653146), (3, 0.08076972), (5, 0.08849493), (6, 0.23461965), (10, 0.08076392), (12, 0.08077064), (17, 0.108048916)]\n",
      "[(2, 0.25357533), (4, 0.05249444), (6, 0.05250069), (8, 0.07061117), (10, 0.3330092), (16, 0.102499954), (17, 0.102808714)]\n",
      "[(0, 0.1499995), (2, 0.19017123), (4, 0.15000077), (5, 0.14999895), (10, 0.25268614)]\n",
      "[(3, 0.17083116), (10, 0.50416964), (11, 0.0875), (14, 0.087498836), (15, 0.087499775)]\n",
      "[(1, 0.08076484), (5, 0.24631359), (10, 0.6075364)]\n",
      "[(0, 0.19793129), (6, 0.08076963), (10, 0.08076804), (15, 0.15769136), (17, 0.42514715)]\n",
      "[(1, 0.14252122), (2, 0.28680772), (3, 0.16421336), (6, 0.13125093), (13, 0.18145598)]\n",
      "[(0, 0.29285654), (11, 0.5785714)]\n",
      "[(2, 0.21737297), (6, 0.17500101), (10, 0.29929358), (14, 0.17499854)]\n",
      "[(0, 0.016666684), (1, 0.016666684), (2, 0.016666684), (3, 0.016666684), (4, 0.016666684), (5, 0.016666684), (6, 0.016666684), (7, 0.016666684), (8, 0.016666684), (9, 0.016666684), (10, 0.683333), (11, 0.016666684), (12, 0.016666684), (13, 0.016666684), (14, 0.016666684), (15, 0.016666684), (16, 0.016666684), (17, 0.016666684), (18, 0.016666684), (19, 0.016666684)]\n",
      "[(3, 0.0861094), (5, 0.085997164), (6, 0.08077106), (8, 0.080768), (10, 0.41277167), (15, 0.10334108), (17, 0.10024039)]\n",
      "[(0, 0.11666538), (1, 0.11665695), (2, 0.24202968), (4, 0.1166688), (5, 0.21353054), (6, 0.11666921)]\n",
      "[(0, 0.016666748), (1, 0.016666746), (2, 0.016666746), (3, 0.016666746), (4, 0.016666746), (5, 0.016666746), (6, 0.016666746), (7, 0.016666746), (8, 0.016666746), (9, 0.016666746), (10, 0.3499919), (11, 0.016666746), (12, 0.016666746), (13, 0.35000667), (14, 0.016666746), (15, 0.016666746), (16, 0.016666746), (17, 0.016666746), (18, 0.016666746), (19, 0.016666746)]\n",
      "[(2, 0.3428673), (5, 0.1562029), (8, 0.13125141), (17, 0.26967707)]\n",
      "[(0, 0.12812373), (8, 0.12812424), (11, 0.37812582), (14, 0.19062598), (17, 0.12812492)]\n",
      "[(2, 0.1166638), (4, 0.11666927), (5, 0.11665298), (8, 0.22778034), (14, 0.11666989), (16, 0.22778337)]\n",
      "[(2, 0.09004149), (3, 0.1475282), (4, 0.203336), (5, 0.20333488), (10, 0.11662206), (11, 0.070000045), (17, 0.12580352)]\n",
      "[(0, 0.2657989), (3, 0.055258892), (4, 0.055262074), (5, 0.10788484), (6, 0.16053225), (8, 0.055262323), (10, 0.21316065), (15, 0.055259988)]\n",
      "[(0, 0.39541999), (2, 0.25003487), (4, 0.09545222), (12, 0.18636514)]\n",
      "[(2, 0.1637569), (5, 0.335714), (8, 0.049996413), (12, 0.2880998), (17, 0.12671803)]\n",
      "[(1, 0.29602587), (5, 0.17083578), (10, 0.37897018), (14, 0.08750019)]\n",
      "[(2, 0.116662905), (4, 0.33889073), (8, 0.11666684), (11, 0.3388903)]\n",
      "[(0, 0.20135616), (1, 0.07197761), (4, 0.07000081), (6, 0.07000122), (8, 0.07000093), (10, 0.27000332), (15, 0.0699981), (17, 0.1366611)]\n",
      "[(10, 0.50499976), (11, 0.10499945), (14, 0.30500048)]\n",
      "[(2, 0.26822835), (5, 0.37605476), (17, 0.2784441)]\n",
      "[(0, 0.3767408), (3, 0.15242918), (4, 0.04200047), (5, 0.053529), (6, 0.042001583), (10, 0.22460362), (11, 0.042695567), (15, 0.041998826)]\n",
      "[(0, 0.55963975), (5, 0.16893163), (15, 0.14999953)]\n",
      "[(2, 0.17082098), (3, 0.17921016), (5, 0.08750054), (10, 0.09898065), (14, 0.24580026), (15, 0.087501235), (16, 0.07601787)]\n",
      "[(0, 0.4147114), (6, 0.12059), (10, 0.29705337), (12, 0.061762776), (15, 0.061764173)]\n",
      "[(3, 0.54036033), (10, 0.12597784), (11, 0.053689882), (13, 0.04200007), (14, 0.057304613), (15, 0.10168098), (17, 0.052985594)]\n",
      "[(3, 0.22493488), (13, 0.10789527), (14, 0.28806582), (15, 0.26578856), (17, 0.073841356)]\n",
      "[(4, 0.15250158), (5, 0.054700926), (6, 0.052500445), (8, 0.10249841), (10, 0.36891392), (11, 0.05249973), (13, 0.08388654), (15, 0.1024981)]\n",
      "[(0, 0.016666692), (1, 0.016666692), (2, 0.016666692), (3, 0.016666692), (4, 0.016666692), (5, 0.68333286), (6, 0.016666692), (7, 0.016666692), (8, 0.016666692), (9, 0.016666692), (10, 0.016666695), (11, 0.016666692), (12, 0.016666692), (13, 0.016666692), (14, 0.016666692), (15, 0.016666692), (16, 0.016666692), (17, 0.016666692), (18, 0.016666692), (19, 0.016666692)]\n",
      "[(0, 0.74738985), (5, 0.071360156), (12, 0.12812394)]\n",
      "[(0, 0.09545437), (3, 0.25928202), (6, 0.0954552), (10, 0.38617352), (15, 0.095452525)]\n",
      "[(0, 0.4591024), (1, 0.09544442), (3, 0.18636328), (8, 0.095453694), (12, 0.09545305)]\n",
      "[(2, 0.5311321), (4, 0.2295452), (6, 0.093182795), (10, 0.0643224), (15, 0.047726266)]\n",
      "[(0, 0.05259012), (2, 0.25862044), (3, 0.16255134), (5, 0.059138875), (8, 0.05000063), (10, 0.14566647), (14, 0.14524055), (15, 0.0976196)]\n",
      "[(0, 0.104999766), (1, 0.10499603), (4, 0.20500304), (8, 0.10500042), (10, 0.104999155), (11, 0.20500003), (15, 0.105000585)]\n",
      "[(0, 0.104999766), (1, 0.10499603), (4, 0.20500304), (8, 0.10500042), (10, 0.10499917), (11, 0.20500006), (15, 0.105000585)]\n",
      "[(1, 0.15769309), (8, 0.08076866), (10, 0.57836264), (15, 0.12163664)]\n",
      "[(1, 0.27787927), (2, 0.077434644), (5, 0.1446428), (8, 0.18035862), (10, 0.1143288), (13, 0.14464134), (16, 0.037500016)]\n",
      "[(0, 0.11277977), (2, 0.12305294), (3, 0.09113628), (6, 0.05000093), (8, 0.17770049), (10, 0.12628035), (11, 0.19286041), (13, 0.04999701), (16, 0.05000078)]\n",
      "[(0, 0.016666682), (1, 0.016666682), (2, 0.016666682), (3, 0.016666682), (4, 0.34999976), (5, 0.016666682), (6, 0.016666682), (7, 0.016666682), (8, 0.34999993), (9, 0.016666682), (10, 0.016666682), (11, 0.016666682), (12, 0.016666682), (13, 0.016666682), (14, 0.016666682), (15, 0.016666682), (16, 0.016666682), (17, 0.016666682), (18, 0.016666682), (19, 0.016666682)]\n",
      "[(2, 0.24877274), (5, 0.30023304), (15, 0.052493542), (16, 0.10250168), (17, 0.25849822)]\n",
      "[(0, 0.13304126), (1, 0.20707244), (2, 0.046553172), (3, 0.1804743), (4, 0.04200009), (6, 0.08200129), (8, 0.04538082), (12, 0.16200274), (15, 0.07947352)]\n",
      "[(0, 0.012500083), (1, 0.012500083), (2, 0.012500083), (3, 0.012500083), (4, 0.012500083), (5, 0.26249665), (6, 0.012500083), (7, 0.012500083), (8, 0.51250184), (9, 0.012500083), (10, 0.012500083), (11, 0.012500083), (12, 0.012500083), (13, 0.012500083), (14, 0.012500083), (15, 0.012500083), (16, 0.012500083), (17, 0.012500083), (18, 0.012500083), (19, 0.012500083)]\n",
      "[(3, 0.116661765), (5, 0.338894), (10, 0.22777751), (11, 0.11666815), (17, 0.11666394)]\n",
      "[(1, 0.16052873), (5, 0.3184256), (6, 0.21316195), (8, 0.05526125), (10, 0.055254657), (11, 0.10789286), (16, 0.05526385)]\n",
      "[(4, 0.18409221), (6, 0.13863793), (8, 0.27499872), (10, 0.04888024), (11, 0.09318035), (13, 0.093182385), (16, 0.13748239)]\n",
      "[(0, 0.21785666), (5, 0.11336609), (6, 0.0750006), (12, 0.25092462), (14, 0.2178563), (15, 0.07499544)]\n",
      "[(5, 0.17815886), (6, 0.070001915), (10, 0.18928726), (11, 0.13666706), (15, 0.07000061), (17, 0.30921626)]\n",
      "[(0, 0.012500007), (1, 0.012500007), (2, 0.012500007), (3, 0.012500007), (4, 0.012500007), (5, 0.26249677), (6, 0.012500007), (7, 0.012500007), (8, 0.012500007), (9, 0.012500007), (10, 0.012500007), (11, 0.26250228), (12, 0.012500007), (13, 0.012500007), (14, 0.012500007), (15, 0.012500007), (16, 0.012500007), (17, 0.26250088), (18, 0.012500007), (19, 0.012500007)]\n",
      "[(2, 0.10318243), (5, 0.09974818), (8, 0.095454894), (10, 0.62888676)]\n",
      "[(2, 0.069915526), (5, 0.07042319), (6, 0.06562576), (8, 0.065625474), (10, 0.28043452), (13, 0.12812309), (16, 0.065625615), (17, 0.21672632)]\n",
      "[(3, 0.15569735), (5, 0.3388864), (8, 0.227779), (14, 0.18874657)]\n",
      "[(1, 0.09545404), (5, 0.18636355), (6, 0.095455006), (8, 0.095454566), (11, 0.095453836), (17, 0.3681825)]\n",
      "[(1, 0.07499685), (2, 0.21231753), (3, 0.1464304), (5, 0.36072493), (10, 0.080530584), (11, 0.074998066)]\n",
      "[(4, 0.30500174), (6, 0.10500073), (10, 0.104998924), (14, 0.3050022), (15, 0.1049958)]\n",
      "[(0, 0.21000016), (1, 0.010000053), (2, 0.2099974), (3, 0.010000053), (4, 0.010000053), (5, 0.010000053), (6, 0.2100009), (7, 0.010000053), (8, 0.2100007), (9, 0.010000053), (10, 0.010000053), (11, 0.010000053), (12, 0.010000053), (13, 0.010000053), (14, 0.010000053), (15, 0.010000053), (16, 0.010000053), (17, 0.010000053), (18, 0.010000053), (19, 0.010000053)]\n",
      "[(3, 0.12086171), (6, 0.30500302), (8, 0.30500132), (17, 0.18913338)]\n",
      "[(5, 0.3388886), (6, 0.11666747), (8, 0.22777542), (14, 0.22777908)]\n",
      "[(0, 0.1862174), (2, 0.06649947), (5, 0.18974939), (14, 0.13253118), (15, 0.12812635), (17, 0.25312546)]\n",
      "[(0, 0.1749977), (11, 0.67500097)]\n",
      "[(0, 0.22777851), (1, 0.11666715), (5, 0.11666664), (10, 0.13171713), (16, 0.10161544), (17, 0.22777663)]\n",
      "[(3, 0.16103858), (4, 0.06562536), (5, 0.068028554), (8, 0.4678081), (10, 0.06562362), (15, 0.12812513)]\n",
      "[(0, 0.010000009), (1, 0.01000001), (2, 0.010000009), (3, 0.010000009), (4, 0.010000009), (5, 0.010000009), (6, 0.010000009), (7, 0.010000009), (8, 0.010000009), (9, 0.010000009), (10, 0.010000009), (11, 0.21000037), (12, 0.010000009), (13, 0.010000009), (14, 0.010000009), (15, 0.20999862), (16, 0.010000009), (17, 0.41000086), (18, 0.010000009), (19, 0.010000009)]\n",
      "[(3, 0.20946313), (5, 0.27488562), (6, 0.06562575), (8, 0.12812185), (10, 0.15002823), (14, 0.1281248)]\n",
      "[(3, 0.13559957), (10, 0.6256453), (13, 0.1443104)]\n",
      "[(0, 0.11666702), (1, 0.11666538), (4, 0.11666491), (10, 0.116666), (16, 0.45000237)]\n",
      "[(2, 0.2376629), (3, 0.21785536), (5, 0.07873089), (8, 0.07500062), (13, 0.07500017), (17, 0.26574942)]\n",
      "[(2, 0.1312444), (3, 0.25624758), (4, 0.25625366), (11, 0.25625277)]\n",
      "[(3, 0.22777902), (8, 0.11666721), (10, 0.4499992), (13, 0.116665035)]\n",
      "[(0, 0.1968534), (3, 0.13666564), (4, 0.13666438), (8, 0.0764805), (10, 0.4033352)]\n",
      "[(1, 0.11388695), (2, 0.17703706), (8, 0.16944589), (14, 0.28055975), (15, 0.16184881), (16, 0.058332015)]\n",
      "[(0, 0.01666672), (1, 0.01666672), (2, 0.01666672), (3, 0.34999672), (4, 0.01666672), (5, 0.01666672), (6, 0.01666672), (7, 0.01666672), (8, 0.01666672), (9, 0.01666672), (10, 0.01666672), (11, 0.01666672), (12, 0.01666672), (13, 0.01666672), (14, 0.01666672), (15, 0.01666672), (16, 0.35000232), (17, 0.01666672), (18, 0.01666672), (19, 0.01666672)]\n",
      "[(0, 0.14474027), (2, 0.08273034), (5, 0.24222697), (6, 0.061765082), (15, 0.06176261), (17, 0.365598)]\n",
      "[(4, 0.17499992), (6, 0.17500143), (8, 0.17499729), (15, 0.1749989), (16, 0.1750013)]\n",
      "[(1, 0.13433462), (2, 0.13666506), (4, 0.06999944), (8, 0.40333772), (15, 0.13666685), (17, 0.07232884)]\n",
      "[(1, 0.09099235), (2, 0.44732302), (3, 0.052498054), (5, 0.109605715), (10, 0.21208031), (14, 0.052500054)]\n",
      "[(0, 0.08597496), (2, 0.1163476), (10, 0.4535595), (11, 0.17941271), (15, 0.1205872)]\n",
      "[(1, 0.09078374), (2, 0.4011822), (6, 0.08076961), (8, 0.21188031), (15, 0.15769142)]\n",
      "[(1, 0.33433387), (6, 0.052500114), (8, 0.052499846), (10, 0.36777878), (14, 0.102499396), (17, 0.055387836)]\n",
      "[(2, 0.3812478), (4, 0.13125043), (5, 0.38125092)]\n",
      "[(3, 0.19159105), (4, 0.23461702), (10, 0.35456115), (11, 0.080769084), (13, 0.08076819)]\n",
      "[(2, 0.1499241), (4, 0.20500228), (10, 0.36007625), (11, 0.10499947), (16, 0.10499716)]\n",
      "[(0, 0.08076882), (3, 0.08076465), (8, 0.080767535), (10, 0.46538913), (14, 0.0807697), (15, 0.0807693), (16, 0.080770075)]\n",
      "[(5, 0.30499977), (10, 0.10499942), (14, 0.40500182), (15, 0.10499818)]\n",
      "[(0, 0.06999698), (4, 0.07000036), (10, 0.4700042), (14, 0.1366645), (15, 0.20333327)]\n",
      "[(1, 0.23701954), (2, 0.1188543), (10, 0.41230798), (17, 0.14292862)]\n",
      "[(5, 0.14999), (10, 0.29285908), (11, 0.15000172), (15, 0.15000178), (16, 0.1500027)]\n",
      "[(2, 0.0962676), (8, 0.4406271), (10, 0.34748182), (15, 0.0656228)]\n",
      "[(2, 0.22938329), (4, 0.06999973), (5, 0.0439476), (8, 0.5366706), (15, 0.069998115)]\n",
      "[(0, 0.061765365), (2, 0.06176285), (3, 0.061766434), (5, 0.06175674), (10, 0.47353086), (14, 0.06176573), (16, 0.061766967), (17, 0.12058951)]\n",
      "[(0, 0.17499754), (10, 0.1749988), (11, 0.34166643), (12, 0.17500392)]\n",
      "[(0, 0.19670074), (3, 0.30606925), (4, 0.17083599), (5, 0.17083274), (10, 0.093060955)]\n",
      "[(0, 0.36369073), (6, 0.075000584), (8, 0.07499746), (10, 0.09371537), (12, 0.07500083), (17, 0.26759464)]\n",
      "[(0, 0.36779857), (1, 0.38934225), (4, 0.058332954), (8, 0.058333177), (17, 0.08452614)]\n",
      "[(0, 0.34999973), (1, 0.016666653), (2, 0.016666653), (3, 0.016666653), (4, 0.35000056), (5, 0.016666653), (6, 0.016666653), (7, 0.016666653), (8, 0.016666653), (9, 0.016666653), (10, 0.016666653), (11, 0.016666653), (12, 0.016666653), (13, 0.016666653), (14, 0.016666653), (15, 0.016666653), (16, 0.016666653), (17, 0.016666653), (18, 0.016666653), (19, 0.016666653)]\n",
      "[(1, 0.2562499), (8, 0.5062538), (13, 0.13124543)]\n",
      "[(2, 0.1762212), (3, 0.39327094), (5, 0.12199913), (13, 0.044986337), (15, 0.07352147), (17, 0.1620007)]\n",
      "[(5, 0.91363573)]\n",
      "[(2, 0.13067), (3, 0.14824557), (4, 0.04772625), (5, 0.073700786), (6, 0.09318324), (8, 0.1746502), (13, 0.047723953), (14, 0.051496256), (15, 0.084842466), (16, 0.04772676), (17, 0.07957963)]\n",
      "[(2, 0.56111157), (5, 0.116665594), (15, 0.22777759)]\n",
      "[(0, 0.104999356), (1, 0.20500144), (3, 0.17392431), (4, 0.2050019), (11, 0.10500013), (14, 0.13607231)]\n",
      "[(0, 0.22723708), (3, 0.2567329), (4, 0.075000875), (5, 0.1590351), (8, 0.08135397), (10, 0.07920982), (16, 0.07500105)]\n",
      "[(3, 0.17335127), (5, 0.16850021), (8, 0.07499983), (10, 0.5260051)]\n",
      "[(0, 0.34166843), (2, 0.34166378), (8, 0.17500095)]\n",
      "[(5, 0.40497994), (13, 0.5050172)]\n",
      "[(1, 0.09884412), (10, 0.17585793), (15, 0.2690747), (16, 0.15000546), (17, 0.1990705)]\n",
      "[(1, 0.14202498), (2, 0.20140341), (4, 0.3416728), (5, 0.18156548)]\n",
      "[(3, 0.32487166), (5, 0.39220014), (6, 0.07500081), (8, 0.07936208), (15, 0.07499315)]\n",
      "[(0, 0.17940803), (3, 0.29705888), (6, 0.06176531), (15, 0.17941305), (16, 0.23823647)]\n",
      "[(3, 0.15325272), (4, 0.22777925), (5, 0.30230305), (8, 0.116664015), (11, 0.1166666)]\n",
      "[(0, 0.26249865), (1, 0.01250011), (2, 0.01250011), (3, 0.01250011), (4, 0.01250011), (5, 0.01250011), (6, 0.01250011), (7, 0.01250011), (8, 0.01250011), (9, 0.01250011), (10, 0.29653043), (11, 0.01250011), (12, 0.01250011), (13, 0.01250011), (14, 0.01250011), (15, 0.01250011), (16, 0.22846904), (17, 0.01250011), (18, 0.01250011), (19, 0.01250011)]\n",
      "[(2, 0.11676643), (3, 0.34167212), (5, 0.080674805), (8, 0.058333907), (10, 0.19421747), (15, 0.1694458)]\n",
      "[(0, 0.010000049), (1, 0.010000049), (2, 0.42007747), (3, 0.010000049), (4, 0.010000049), (5, 0.17527306), (6, 0.010000049), (7, 0.010000049), (8, 0.010000049), (9, 0.010000049), (10, 0.010000049), (11, 0.010000049), (12, 0.010000049), (13, 0.010000049), (14, 0.010000049), (15, 0.23464863), (16, 0.010000049), (17, 0.010000049), (18, 0.010000049), (19, 0.010000049)]\n",
      "[(1, 0.391672), (2, 0.17939767), (5, 0.03934502), (8, 0.05833196), (12, 0.058333978), (13, 0.11388849), (14, 0.05833349), (15, 0.06736364)]\n",
      "[(2, 0.103574246), (3, 0.12346502), (8, 0.08750115), (10, 0.3670304), (12, 0.08926433), (15, 0.17083049)]\n",
      "[(3, 0.25312728), (5, 0.19062486), (8, 0.12812619), (11, 0.06562136), (12, 0.06562339), (15, 0.2531264)]\n",
      "[(0, 0.21739036), (2, 0.28743157), (3, 0.07732639), (6, 0.21786286), (10, 0.07498793), (16, 0.07499961)]\n",
      "[(2, 0.15927275), (6, 0.15000229), (13, 0.1499985), (16, 0.15000014), (17, 0.2835821)]\n",
      "[(0, 0.010000025), (1, 0.010000025), (2, 0.40999904), (3, 0.010000025), (4, 0.010000025), (5, 0.010000025), (6, 0.010000025), (7, 0.010000025), (8, 0.010000025), (9, 0.010000025), (10, 0.010000025), (11, 0.010000025), (12, 0.010000025), (13, 0.010000025), (14, 0.41000053), (15, 0.010000025), (16, 0.010000025), (17, 0.010000025), (18, 0.010000025), (19, 0.010000025)]\n",
      "[(3, 0.42496604), (5, 0.10425727), (6, 0.14524013), (8, 0.05168108), (16, 0.14523895), (17, 0.09528269)]\n",
      "[(3, 0.5062512), (8, 0.13124919), (10, 0.25624818)]\n",
      "[(2, 0.6233324), (5, 0.13956967), (8, 0.12147248), (16, 0.06562512)]\n",
      "[(0, 0.26249948), (1, 0.012499951), (2, 0.012499951), (3, 0.012499951), (4, 0.012499951), (5, 0.012499951), (6, 0.012499951), (7, 0.012499951), (8, 0.012499951), (9, 0.012499951), (10, 0.012499951), (11, 0.012499951), (12, 0.012499951), (13, 0.26250136), (14, 0.012499951), (15, 0.012499951), (16, 0.012499951), (17, 0.26249993), (18, 0.012499951), (19, 0.012499951)]\n",
      "[(0, 0.08541101), (3, 0.335418), (10, 0.37683114), (15, 0.072455645), (17, 0.09863362)]\n",
      "[(5, 0.5062493), (11, 0.13125028), (15, 0.13124998), (17, 0.13124967)]\n",
      "[(2, 0.20500165), (3, 0.13364573), (4, 0.10500143), (8, 0.105001405), (10, 0.10499515), (11, 0.105000645), (13, 0.10500101), (14, 0.07635205)]\n",
      "[(1, 0.11666791), (3, 0.11666214), (5, 0.11666733), (6, 0.2277814), (12, 0.2277813), (15, 0.11666088)]\n",
      "[(0, 0.41404566), (3, 0.23823458), (5, 0.062426813), (10, 0.06425734), (11, 0.061763685), (16, 0.11809495)]\n",
      "[(2, 0.12812348), (8, 0.06561984), (10, 0.37813082), (13, 0.19062717), (15, 0.12812664), (17, 0.065621234)]\n",
      "[(0, 0.034304667), (3, 0.28201988), (10, 0.26862082), (12, 0.031818707), (13, 0.1849759), (15, 0.062119592), (16, 0.11644299)]\n",
      "[(0, 0.3375031), (3, 0.25416687), (5, 0.08749812), (10, 0.09874685), (11, 0.08749925), (16, 0.07625181)]\n",
      "[(2, 0.04592999), (3, 0.043231722), (6, 0.042000525), (8, 0.1592518), (10, 0.47958434), (13, 0.122000605), (15, 0.082000546)]\n",
      "[(5, 0.17486438), (6, 0.25417212), (10, 0.154003), (12, 0.10030593), (14, 0.08749784), (15, 0.17082225)]\n",
      "[(1, 0.66973794), (3, 0.06999468), (5, 0.07026578), (8, 0.07000066), (13, 0.07000015)]\n",
      "[(1, 0.50499964), (4, 0.105000004), (8, 0.105000205), (14, 0.2049997)]\n",
      "[(2, 0.3614932), (5, 0.3881257), (10, 0.06238981), (15, 0.15320835)]\n",
      "[(2, 0.15768929), (5, 0.31154063), (13, 0.2346179), (14, 0.15769006), (15, 0.080769196)]\n",
      "[(0, 0.33889183), (1, 0.11666734), (3, 0.11666572), (13, 0.11666436), (14, 0.11666764), (16, 0.116664276)]\n",
      "[(2, 0.5050029), (13, 0.3050026), (15, 0.10499353)]\n",
      "[(3, 0.12059453), (5, 0.17942074), (6, 0.23824853), (8, 0.297076), (10, 0.0617175), (16, 0.061763875)]\n",
      "[(1, 0.18252331), (4, 0.27000454), (10, 0.2908111), (14, 0.13666569), (15, 0.06999444)]\n",
      "[(0, 0.16290528), (2, 0.0762546), (3, 0.13939351), (4, 0.13064657), (5, 0.067160584), (10, 0.17426494), (12, 0.06711631), (14, 0.033870805), (15, 0.13064522)]\n",
      "[(3, 0.57857203), (15, 0.1499983), (17, 0.14999989)]\n",
      "[(2, 0.17083134), (3, 0.087496035), (5, 0.17083263), (8, 0.08750134), (11, 0.1708361), (15, 0.1708346), (17, 0.08750014)]\n",
      "[(0, 0.14456555), (2, 0.13125011), (5, 0.24292703), (6, 0.38125578)]\n",
      "[(0, 0.16998088), (2, 0.12260231), (8, 0.356907), (10, 0.24786925), (15, 0.055765063)]\n",
      "[(1, 0.07498964), (2, 0.09174738), (3, 0.40543774), (10, 0.15493886), (12, 0.076455146), (13, 0.07500169), (15, 0.07499969)]\n",
      "[(2, 0.44999927), (8, 0.227778), (16, 0.2277782)]\n",
      "[(8, 0.13124928), (10, 0.14283182), (12, 0.13124855), (17, 0.49466926)]\n",
      "[(0, 0.12487475), (2, 0.37934002), (3, 0.12643597), (6, 0.17941445), (17, 0.14581664)]\n",
      "[(3, 0.16083571), (5, 0.42487523), (10, 0.2928592)]\n",
      "[(0, 0.116667114), (1, 0.08429937), (3, 0.11666068), (5, 0.3388931), (10, 0.1348721), (17, 0.13082887)]\n",
      "[(2, 0.3067027), (3, 0.20980622), (15, 0.24969384), (16, 0.06999666), (17, 0.11379983)]\n",
      "[(0, 0.057958838), (2, 0.058024045), (3, 0.07781206), (5, 0.11279616), (8, 0.15783319), (10, 0.41252214), (14, 0.03621145), (15, 0.05526207)]\n",
      "[(2, 0.17499675), (3, 0.3209477), (8, 0.17500146), (17, 0.195719)]\n",
      "[(0, 0.1648093), (3, 0.11388482), (4, 0.05832819), (5, 0.0629682), (6, 0.113891296), (8, 0.22500394), (10, 0.22500233)]\n",
      "[(6, 0.27727404), (8, 0.4590912), (15, 0.18636249)]\n",
      "[(0, 0.094853766), (5, 0.09212671), (8, 0.16347778), (10, 0.4995406), (14, 0.087500475)]\n",
      "[(1, 0.17083552), (2, 0.09158973), (5, 0.08749939), (8, 0.25416952), (10, 0.17083108), (15, 0.16674048)]\n",
      "[(1, 0.08846942), (3, 0.05039939), (8, 0.04374791), (10, 0.6819644), (15, 0.1041683)]\n",
      "[(2, 0.14697492), (3, 0.23987094), (10, 0.19519295), (13, 0.061762024), (14, 0.21805756), (16, 0.096964344)]\n",
      "[(3, 0.60419977), (15, 0.24579956)]\n",
      "[(3, 0.38124958), (4, 0.13125013), (8, 0.2562511), (15, 0.13124888)]\n",
      "[(1, 0.1312496), (6, 0.2562507), (8, 0.3812498), (11, 0.13124956)]\n",
      "[(2, 0.05436511), (4, 0.08913106), (10, 0.77607214), (14, 0.045648634)]\n",
      "[(3, 0.43972257), (8, 0.11666225), (10, 0.1269471), (11, 0.22777787)]\n",
      "[(8, 0.60500234), (13, 0.20500019), (15, 0.10499742)]\n",
      "[(2, 0.048267838), (10, 0.8813651), (14, 0.038885225)]\n",
      "[(5, 0.23461488), (10, 0.69615406)]\n",
      "[(0, 0.08679419), (3, 0.091195434), (8, 0.069998704), (10, 0.5653491), (11, 0.07000071), (15, 0.069994085)]\n",
      "[(2, 0.18356909), (10, 0.6391687), (13, 0.074489474), (17, 0.05832782)]\n",
      "[(3, 0.57857263), (10, 0.14999942), (16, 0.14999864)]\n",
      "[(0, 0.095024355), (3, 0.18655166), (5, 0.21785897), (8, 0.075001046), (10, 0.16382778), (14, 0.14031206), (15, 0.07499466)]\n",
      "[(0, 0.13685842), (2, 0.10297727), (6, 0.047727402), (8, 0.047727164), (10, 0.2858217), (11, 0.09910053), (14, 0.08274445), (16, 0.16977015)]\n",
      "[(3, 0.21785745), (10, 0.34928566), (15, 0.074994475), (16, 0.074997894), (17, 0.22929174)]\n",
      "[(6, 0.06176223), (10, 0.7676506), (14, 0.06176315), (16, 0.061764907)]\n",
      "[(0, 0.2013429), (3, 0.64865613)]\n",
      "[(0, 0.098588094), (5, 0.20053619), (10, 0.27047905), (17, 0.3576687)]\n",
      "[(0, 0.20999748), (1, 0.010000043), (2, 0.20999889), (3, 0.010000043), (4, 0.010000043), (5, 0.010000043), (6, 0.010000043), (7, 0.010000043), (8, 0.21000148), (9, 0.010000043), (10, 0.010000043), (11, 0.21000144), (12, 0.010000043), (13, 0.010000043), (14, 0.010000043), (15, 0.010000043), (16, 0.010000043), (17, 0.010000043), (18, 0.010000043), (19, 0.010000043)]\n",
      "[(2, 0.25624412), (3, 0.38125426), (8, 0.13125126), (13, 0.13124874)]\n",
      "[(0, 0.14999773), (10, 0.32795346), (15, 0.14999563), (17, 0.25776583)]\n",
      "[(2, 0.37867957), (3, 0.2346139), (8, 0.080770016), (17, 0.24439713)]\n",
      "[(0, 0.098587856), (5, 0.20054142), (10, 0.27047962), (17, 0.35766318)]\n",
      "[(3, 0.22495425), (10, 0.3775667), (11, 0.087499686), (14, 0.24331202)]\n",
      "[(1, 0.561119), (3, 0.11666101), (6, 0.11666823), (15, 0.11666166)]\n",
      "[(6, 0.44063348), (10, 0.2531147), (11, 0.065625325), (15, 0.06562511), (16, 0.06562589), (17, 0.0656247)]\n",
      "[(2, 0.16976602), (3, 0.16447255), (6, 0.14643216), (10, 0.074994564), (11, 0.075000115), (14, 0.08560495), (15, 0.07499666), (17, 0.1658748)]\n",
      "[(1, 0.45000482), (2, 0.11666131), (8, 0.11666519), (10, 0.22777882)]\n",
      "[(8, 0.105000116), (10, 0.10499799), (11, 0.40500072), (17, 0.30500105)]\n",
      "[(2, 0.23508011), (3, 0.1978054), (8, 0.12812594), (10, 0.21116108), (14, 0.18095198)]\n",
      "[(0, 0.09852667), (3, 0.44637114), (6, 0.047727846), (8, 0.09317955), (10, 0.14374328), (12, 0.09317898), (15, 0.047726557)]\n",
      "[(3, 0.4932743), (5, 0.269226), (10, 0.1312488)]\n",
      "[(5, 0.19764407), (10, 0.44924036), (16, 0.11666673), (17, 0.14755963)]\n",
      "[(0, 0.47353947), (3, 0.061760698), (4, 0.0617659), (8, 0.061762143), (10, 0.29705283)]\n",
      "[(0, 0.6312513), (2, 0.13124783), (12, 0.13125092)]\n",
      "[(5, 0.61923003), (15, 0.080768295), (16, 0.15769364), (17, 0.080768734)]\n",
      "[(0, 0.010000053), (1, 0.010000053), (2, 0.010000053), (3, 0.010000053), (4, 0.010000053), (5, 0.010000053), (6, 0.010000053), (7, 0.010000053), (8, 0.010000053), (9, 0.010000053), (10, 0.20999637), (11, 0.010000053), (12, 0.010000053), (13, 0.010000053), (14, 0.61000264), (15, 0.010000053), (16, 0.010000053), (17, 0.010000053), (18, 0.010000053), (19, 0.010000053)]\n",
      "[(0, 0.010000061), (1, 0.010000061), (2, 0.010000061), (3, 0.010000061), (4, 0.010000061), (5, 0.010000061), (6, 0.010000061), (7, 0.010000061), (8, 0.20999789), (9, 0.010000061), (10, 0.22299829), (11, 0.010000061), (12, 0.010000061), (13, 0.010000061), (14, 0.010000061), (15, 0.3970028), (16, 0.010000061), (17, 0.010000061), (18, 0.010000061), (19, 0.010000061)]\n",
      "[(0, 0.33889073), (3, 0.2277759), (10, 0.11666662), (13, 0.22777669)]\n",
      "[(1, 0.045650404), (3, 0.05010361), (4, 0.1760893), (6, 0.13260922), (10, 0.34446996), (11, 0.17608994), (12, 0.046726115)]\n",
      "[(1, 0.13125011), (3, 0.2562515), (10, 0.13124877), (12, 0.1312482), (14, 0.25625062)]\n",
      "[(3, 0.33332932), (10, 0.17381504), (14, 0.14642783), (15, 0.074996814), (16, 0.21785925)]\n",
      "[(1, 0.15979953), (6, 0.14642937), (10, 0.4902014), (14, 0.07499672), (15, 0.07500044)]\n",
      "[(0, 0.2592673), (2, 0.43144822), (10, 0.14110284), (17, 0.0954538)]\n",
      "[(3, 0.5050102), (5, 0.10498547), (10, 0.20500143), (14, 0.10500063)]\n",
      "[(0, 0.08749387), (4, 0.087498195), (5, 0.25416815), (6, 0.0875011), (8, 0.08750077), (10, 0.087498724), (12, 0.25417185)]\n",
      "[(0, 0.19156466), (2, 0.15413456), (13, 0.2980508), (15, 0.13124993), (17, 0.13124941)]\n",
      "[(5, 0.054936353), (8, 0.09318216), (10, 0.21888368), (17, 0.596634)]\n",
      "[(2, 0.15647972), (3, 0.18909287), (5, 0.17561051), (8, 0.052494373), (14, 0.22209406), (15, 0.1192274), (16, 0.052500494)]\n",
      "[(1, 0.34928206), (2, 0.054648284), (8, 0.09761818), (10, 0.2554693), (13, 0.11202799), (14, 0.09762028)]\n",
      "[(2, 0.208417), (3, 0.4461167), (5, 0.17782377), (8, 0.06175911), (16, 0.061765213)]\n",
      "[(0, 0.17083378), (5, 0.087499686), (8, 0.33749965), (15, 0.1708331), (16, 0.08750068), (17, 0.0874992)]\n",
      "[(0, 0.20504642), (5, 0.094150335), (10, 0.37661397), (14, 0.15164816), (15, 0.11896876)]\n",
      "[(2, 0.0954505), (3, 0.09545083), (10, 0.45909727), (11, 0.09545662), (14, 0.095453456), (16, 0.095453165)]\n",
      "[(1, 0.20528147), (2, 0.12928589), (10, 0.1494956), (14, 0.087492965), (17, 0.3659431)]\n",
      "[(5, 0.2871856), (8, 0.16052495), (10, 0.2538394), (14, 0.055263486), (16, 0.05525981), (17, 0.15108398)]\n",
      "[(2, 0.22778074), (5, 0.116668396), (10, 0.11665016), (16, 0.33889678), (17, 0.11666832)]\n",
      "[(2, 0.27903467), (3, 0.107892334), (5, 0.19639438), (6, 0.10789674), (8, 0.0552637), (10, 0.111416444), (13, 0.055261448), (15, 0.05526084)]\n",
      "[(2, 0.06845903), (3, 0.12199603), (8, 0.16200288), (10, 0.47013414), (11, 0.107409485), (15, 0.04199775)]\n",
      "[(0, 0.10249962), (2, 0.26596233), (6, 0.10250128), (8, 0.102500014), (10, 0.079422146), (11, 0.052499358), (14, 0.05249995), (15, 0.1121149), (17, 0.102500096)]\n",
      "[(2, 0.31153792), (10, 0.31154), (15, 0.08076556), (17, 0.23461692)]\n",
      "[(0, 0.024999661), (1, 0.024999661), (2, 0.024999661), (3, 0.024999661), (4, 0.024999661), (5, 0.024999661), (6, 0.024999661), (7, 0.024999661), (8, 0.024999661), (9, 0.024999661), (10, 0.024999661), (11, 0.024999661), (12, 0.024999661), (13, 0.024999661), (14, 0.024999661), (15, 0.5250064), (16, 0.024999661), (17, 0.024999661), (18, 0.024999661), (19, 0.024999661)]\n",
      "[(0, 0.107894875), (3, 0.11489074), (6, 0.055263694), (8, 0.1605281), (10, 0.36405486), (14, 0.055263147), (15, 0.107893676)]\n",
      "[(10, 0.6312486), (16, 0.25625086)]\n",
      "[(0, 0.10499898), (10, 0.605), (14, 0.20500062)]\n",
      "[(1, 0.11311203), (2, 0.3992948), (4, 0.061763607), (10, 0.14347723), (14, 0.12058907), (15, 0.061762508), (16, 0.061765052)]\n",
      "[(0, 0.02500003), (1, 0.02500003), (2, 0.02500003), (3, 0.02500003), (4, 0.02500003), (5, 0.02500003), (6, 0.02500003), (7, 0.02500003), (8, 0.02500003), (9, 0.02500003), (10, 0.02500003), (11, 0.02500003), (12, 0.02500003), (13, 0.02500003), (14, 0.02500003), (15, 0.02500003), (16, 0.02500003), (17, 0.5249994), (18, 0.02500003), (19, 0.02500003)]\n",
      "[(1, 0.15000035), (2, 0.14999919), (5, 0.18310574), (10, 0.2597519), (14, 0.14999938)]\n",
      "[(3, 0.23092772), (4, 0.09762074), (5, 0.0499832), (10, 0.43096063), (17, 0.15479247)]\n",
      "[(0, 0.010000075), (1, 0.21000117), (2, 0.010000075), (3, 0.010000075), (4, 0.010000075), (5, 0.010000075), (6, 0.010000075), (7, 0.010000075), (8, 0.21000071), (9, 0.010000075), (10, 0.20999981), (11, 0.010000075), (12, 0.010000075), (13, 0.010000075), (14, 0.010000075), (15, 0.20999707), (16, 0.010000075), (17, 0.010000075), (18, 0.010000075), (19, 0.010000075)]\n",
      "[(5, 0.11666624), (10, 0.33888635), (13, 0.33889112), (14, 0.116666846)]\n",
      "[(6, 0.1500011), (10, 0.5785687), (14, 0.15000054)]\n",
      "[(2, 0.08894903), (5, 0.14642668), (6, 0.14643058), (10, 0.23659888), (17, 0.32802263)]\n",
      "[(0, 0.28809732), (1, 0.0499838), (6, 0.04999873), (10, 0.19082107), (13, 0.09762199), (17, 0.29014257)]\n",
      "[(2, 0.106615596), (11, 0.095454864), (14, 0.45909622), (17, 0.26610518)]\n",
      "[(2, 0.67736626), (15, 0.21013288)]\n",
      "[(3, 0.30499962), (8, 0.20499994), (12, 0.10500019), (16, 0.10500013), (17, 0.20499976)]\n",
      "[(3, 0.15952362), (10, 0.34880817), (15, 0.42083445)]\n",
      "[(3, 0.19062518), (5, 0.06562307), (8, 0.06562557), (10, 0.19062205), (14, 0.3156289), (15, 0.12812464)]\n",
      "[(1, 0.03499983), (2, 0.5230134), (3, 0.077948496), (5, 0.06833067), (10, 0.079580076), (14, 0.1594601), (16, 0.03500038)]\n",
      "[(1, 0.27726653), (2, 0.095454365), (3, 0.09544944), (4, 0.09545628), (13, 0.36819005)]\n",
      "[(2, 0.7568809), (3, 0.09277684), (5, 0.084957145)]\n",
      "[(1, 0.047726814), (2, 0.41894528), (3, 0.059812874), (6, 0.09318253), (8, 0.09318227), (14, 0.10240774), (17, 0.15519677)]\n",
      "[(2, 0.6409109), (10, 0.2772705)]\n",
      "[(2, 0.17413682), (3, 0.10499572), (4, 0.10499795), (5, 0.10499238), (10, 0.3358735), (11, 0.10500188)]\n",
      "[(2, 0.15248999), (3, 0.05743626), (6, 0.15250316), (8, 0.10250118), (11, 0.05250023), (12, 0.15250307), (13, 0.05250015), (14, 0.24756536)]\n",
      "[(2, 0.33888894), (8, 0.11666346), (12, 0.22778161), (15, 0.11666474), (16, 0.116666436)]\n",
      "[(2, 0.40431416), (14, 0.33611456), (15, 0.1012393), (16, 0.058333848), (17, 0.0583309)]\n",
      "[(0, 0.11666421), (3, 0.33889133), (10, 0.12700371), (13, 0.11666424), (16, 0.21744205)]\n",
      "[(1, 0.12331196), (2, 0.38668543), (15, 0.40500206)]\n",
      "[(0, 0.5875069), (3, 0.08749415), (6, 0.08750118), (8, 0.08750082), (10, 0.08749614)]\n",
      "[(2, 0.16535938), (3, 0.095806085), (6, 0.21785976), (8, 0.2892891), (12, 0.075000666), (13, 0.10668439)]\n",
      "[(2, 0.4928319), (6, 0.087501556), (8, 0.17083491), (10, 0.098833404), (14, 0.087496944)]\n",
      "[(2, 0.5367926), (13, 0.08749912), (15, 0.22154392), (16, 0.087497)]\n",
      "[(2, 0.28836834), (3, 0.10789123), (5, 0.055258777), (10, 0.24321342), (14, 0.26579392)]\n",
      "[(1, 0.058333803), (2, 0.21368025), (3, 0.5027846), (5, 0.058324054), (10, 0.06965289), (12, 0.05833461)]\n",
      "[(0, 0.39122534), (1, 0.08076516), (2, 0.18630068), (3, 0.08076937), (5, 0.20324653)]\n",
      "[(0, 0.016666753), (1, 0.3500012), (2, 0.016666753), (3, 0.016666753), (4, 0.016666753), (5, 0.016666753), (6, 0.016666753), (7, 0.016666753), (8, 0.016666753), (9, 0.016666753), (10, 0.016666753), (11, 0.34999722), (12, 0.016666753), (13, 0.016666753), (14, 0.016666753), (15, 0.016666753), (16, 0.016666753), (17, 0.016666753), (18, 0.016666753), (19, 0.016666753)]\n",
      "[(0, 0.0670721), (1, 0.5638975), (3, 0.065622814), (5, 0.06590597), (14, 0.1906263)]\n",
      "[(3, 0.19835667), (4, 0.37812987), (5, 0.07748781), (10, 0.121192396), (17, 0.17795761)]\n",
      "[(0, 0.3220038), (1, 0.35973042), (2, 0.046105135), (10, 0.08016252), (12, 0.12199954), (16, 0.041998178)]\n",
      "[(10, 0.67500025), (15, 0.17499979)]\n",
      "[(3, 0.08076896), (10, 0.75150883), (17, 0.102337115)]\n",
      "[(0, 0.0125), (1, 0.26250055), (2, 0.0125), (3, 0.0125), (4, 0.0125), (5, 0.26249808), (6, 0.0125), (7, 0.0125), (8, 0.0125), (9, 0.0125), (10, 0.0125), (11, 0.0125), (12, 0.0125), (13, 0.0125), (14, 0.0125), (15, 0.0125), (16, 0.26250136), (17, 0.0125), (18, 0.0125), (19, 0.0125)]\n",
      "[(1, 0.15000084), (2, 0.14999449), (14, 0.1500003), (17, 0.43571797)]\n",
      "[(1, 0.03988731), (2, 0.045695607), (5, 0.12353729), (8, 0.037500337), (10, 0.19143745), (13, 0.047038373), (14, 0.14464547), (17, 0.34882915)]\n",
      "[(3, 0.15396175), (8, 0.14999747), (17, 0.57461107)]\n",
      "[(4, 0.1312499), (8, 0.3812495), (10, 0.25625053), (15, 0.13124916)]\n",
      "[(8, 0.1049978), (10, 0.20500079), (15, 0.10499726), (17, 0.50500333)]\n",
      "[(0, 0.0874918), (1, 0.08749902), (8, 0.08749876), (10, 0.49154222), (17, 0.18346722)]\n",
      "[(0, 0.3781282), (2, 0.06562326), (6, 0.12812614), (10, 0.12812288), (16, 0.2531241)]\n",
      "[(1, 0.14982536), (2, 0.11304549), (3, 0.04999441), (5, 0.14176609), (14, 0.1928557), (15, 0.040066075), (17, 0.28149375)]\n",
      "[(0, 0.17316657), (2, 0.11002179), (5, 0.10233897), (8, 0.091393806), (10, 0.15769234), (14, 0.08076917), (16, 0.23461697)]\n",
      "[(2, 0.28235403), (5, 0.32733962), (16, 0.05249998), (17, 0.2978061)]\n",
      "[(2, 0.45909548), (3, 0.09545557), (6, 0.09545644), (11, 0.09545202), (15, 0.0954487), (16, 0.09545426)]\n",
      "[(4, 0.08076874), (6, 0.15769479), (10, 0.23461363), (13, 0.08076649), (16, 0.08076813), (17, 0.31154135)]\n",
      "[(3, 0.4962747), (5, 0.18462893), (8, 0.08966354), (10, 0.16276474)]\n",
      "[(5, 0.2049983), (10, 0.60500115), (15, 0.10499979)]\n",
      "[(0, 0.07333697), (2, 0.1785105), (6, 0.07000037), (10, 0.11691741), (13, 0.06999961), (14, 0.29144236), (17, 0.15645911)]\n",
      "[(0, 0.10867131), (2, 0.1801783), (3, 0.4205844), (8, 0.14642988), (10, 0.090563886)]\n",
      "[(1, 0.39057603), (2, 0.12776129), (10, 0.2966626), (13, 0.10499969)]\n",
      "[(0, 0.22955084), (2, 0.16618589), (3, 0.05628018), (5, 0.049554877), (8, 0.12301286), (10, 0.34359625)]\n",
      "[(2, 0.09538111), (3, 0.21893784), (5, 0.19251436), (10, 0.30650637), (14, 0.06999854), (15, 0.069994345)]\n",
      "[(3, 0.13125066), (13, 0.1312483), (15, 0.13124515), (16, 0.13124992), (17, 0.38125518)]\n",
      "[(1, 0.21785782), (5, 0.07499876), (10, 0.36071593), (11, 0.14642963), (12, 0.07499792), (17, 0.07499937)]\n",
      "[(3, 0.149992), (6, 0.4357226), (8, 0.29285792)]\n",
      "[(2, 0.5750128), (5, 0.07499638), (14, 0.21784475), (16, 0.075001664)]\n",
      "[(0, 0.074343376), (2, 0.12319171), (3, 0.07054538), (5, 0.18190658), (6, 0.1281277), (8, 0.12812768), (12, 0.12813026), (14, 0.0656268), (15, 0.06562422)]\n",
      "[(2, 0.25624785), (15, 0.50625134), (16, 0.1312503)]\n",
      "[(0, 0.29706323), (1, 0.061763763), (3, 0.114586554), (5, 0.06775454), (10, 0.077856936), (11, 0.120590925), (15, 0.120590776), (17, 0.10449813)]\n",
      "[(2, 0.29633793), (5, 0.106868446), (6, 0.16944568), (10, 0.14324163), (17, 0.24243926)]\n",
      "[(1, 0.14225079), (2, 0.12454175), (10, 0.18395069), (14, 0.095453635), (15, 0.15017736), (17, 0.2399889)]\n",
      "[(0, 0.024999967), (1, 0.024999967), (2, 0.024999967), (3, 0.024999967), (4, 0.024999967), (5, 0.024999967), (6, 0.024999967), (7, 0.024999967), (8, 0.024999967), (9, 0.024999967), (10, 0.024999967), (11, 0.024999967), (12, 0.024999967), (13, 0.024999967), (14, 0.024999967), (15, 0.024999967), (16, 0.024999967), (17, 0.52500063), (18, 0.024999967), (19, 0.024999967)]\n",
      "[(3, 0.10127535), (10, 0.17083327), (11, 0.33750382), (14, 0.15705526), (15, 0.17083204)]\n",
      "[(0, 0.042216398), (2, 0.3656564), (5, 0.049303822), (6, 0.043747853), (10, 0.0928202), (14, 0.29375568), (17, 0.08541585)]\n",
      "[(2, 0.43001696), (5, 0.34377503), (8, 0.03749991), (13, 0.037498325), (17, 0.124423794)]\n",
      "[(0, 0.04221475), (2, 0.3656566), (5, 0.04930494), (6, 0.04374785), (10, 0.09282051), (14, 0.29375568), (17, 0.08541584)]\n",
      "[(0, 0.037375975), (2, 0.33563888), (5, 0.043865003), (6, 0.038886577), (10, 0.08233653), (14, 0.2981535), (15, 0.06559616), (17, 0.07592479)]\n",
      "[(0, 0.08638817), (1, 0.45510438), (4, 0.06562424), (5, 0.065624714), (8, 0.06562557), (10, 0.15538658), (11, 0.06562072)]\n",
      "[(5, 0.50416905), (10, 0.17083132), (15, 0.17083323), (17, 0.087499246)]\n",
      "[(2, 0.08278056), (3, 0.25718123), (5, 0.2442533), (10, 0.35864148)]\n",
      "[(1, 0.080769576), (2, 0.38845706), (3, 0.23461553), (6, 0.23461863)]\n",
      "[(0, 0.09330404), (2, 0.16502503), (11, 0.5041727), (14, 0.087496966), (16, 0.08750071)]\n",
      "[(0, 0.15249601), (2, 0.11748481), (10, 0.46277535), (13, 0.052499875), (15, 0.052497532), (17, 0.12724584)]\n",
      "[(0, 0.012500026), (1, 0.012500026), (2, 0.012500026), (3, 0.012500026), (4, 0.012500026), (5, 0.5124992), (6, 0.26250032), (7, 0.012500026), (8, 0.012500026), (9, 0.012500026), (10, 0.012500026), (11, 0.012500026), (12, 0.012500026), (13, 0.012500026), (14, 0.012500026), (15, 0.012500026), (16, 0.012500026), (17, 0.012500027), (18, 0.012500026), (19, 0.012500026)]\n",
      "[(2, 0.73676807), (14, 0.03087732), (16, 0.20735435)]\n",
      "[(2, 0.33057967), (4, 0.14642999), (5, 0.074995704), (6, 0.07500077), (13, 0.10513695), (15, 0.21785629)]\n",
      "[(8, 0.11666734), (10, 0.31432343), (14, 0.11666632), (15, 0.22777972), (17, 0.14122975)]\n",
      "[(0, 0.08917249), (2, 0.28561294), (3, 0.09590465), (4, 0.09838799), (8, 0.033870988), (10, 0.100188784), (13, 0.11460556), (15, 0.13064335), (16, 0.033871084)]\n",
      "[(2, 0.48127422), (8, 0.105000935), (10, 0.128723), (13, 0.20500149)]\n",
      "[(5, 0.22777583), (13, 0.11666659), (14, 0.22777893), (15, 0.33888933)]\n",
      "[(1, 0.2638396), (2, 0.07974438), (5, 0.12860633), (10, 0.26970756), (11, 0.065625004), (17, 0.14872654)]\n",
      "[(0, 0.080766775), (2, 0.38846487), (11, 0.23461583), (14, 0.08076953), (17, 0.15768994)]\n",
      "[(0, 0.14651379), (2, 0.15024374), (5, 0.073397025), (10, 0.0796909), (15, 0.13186353), (16, 0.070000865), (17, 0.30495626)]\n",
      "[(2, 0.4748904), (13, 0.11677555), (14, 0.25416642), (16, 0.08750048)]\n",
      "[(2, 0.4340414), (5, 0.05833136), (8, 0.07151762), (10, 0.058327775), (14, 0.11389069), (15, 0.1138891), (16, 0.11389028)]\n",
      "[(2, 0.38669598), (3, 0.050704904), (10, 0.37926605), (14, 0.14523733)]\n",
      "[(0, 0.15955268), (17, 0.7118755)]\n",
      "[(1, 0.17500025), (2, 0.34166405), (11, 0.34166807)]\n",
      "[(1, 0.17903547), (2, 0.095551245), (3, 0.16752909), (5, 0.08076085), (6, 0.08077126), (8, 0.080770925), (14, 0.11708712), (15, 0.15233903)]\n",
      "[(1, 0.11388999), (2, 0.11388847), (5, 0.15345585), (6, 0.05833409), (8, 0.07431712), (13, 0.058332216), (14, 0.39167082)]\n",
      "[(1, 0.111247085), (2, 0.14566472), (3, 0.18044546), (4, 0.061764147), (5, 0.10209805), (8, 0.061764106), (10, 0.15256228), (14, 0.14915967)]\n",
      "[(0, 0.056517262), (2, 0.102959655), (8, 0.18409155), (10, 0.2571729), (14, 0.36516744)]\n",
      "[(6, 0.09545871), (8, 0.27728313), (11, 0.27727938), (14, 0.18637004), (15, 0.09542374)]\n",
      "[(0, 0.111613475), (8, 0.30500036), (14, 0.19838685), (15, 0.20499845), (17, 0.10500002)]\n",
      "[(4, 0.11666673), (10, 0.45000064), (11, 0.22777812), (15, 0.116665244)]\n",
      "[(0, 0.1750025), (2, 0.17499563), (5, 0.17500035), (15, 0.17499599), (16, 0.17500354)]\n",
      "[(1, 0.06999971), (5, 0.21971878), (8, 0.13666609), (13, 0.1366673), (16, 0.13666575), (17, 0.25361538)]\n",
      "[(2, 0.55937254), (3, 0.13124874), (10, 0.2031277)]\n",
      "[(1, 0.36270192), (2, 0.10149447), (5, 0.08941574), (10, 0.10093099), (15, 0.27727363)]\n",
      "[(1, 0.19743724), (3, 0.06822309), (10, 0.55441296), (17, 0.13286719)]\n",
      "[(0, 0.024999572), (1, 0.024999572), (2, 0.024999572), (3, 0.024999572), (4, 0.024999572), (5, 0.024999572), (6, 0.5250082), (7, 0.024999572), (8, 0.024999572), (9, 0.024999572), (10, 0.024999572), (11, 0.024999572), (12, 0.024999572), (13, 0.024999572), (14, 0.024999572), (15, 0.024999572), (16, 0.024999572), (17, 0.024999572), (18, 0.024999572), (19, 0.024999572)]\n",
      "[(0, 0.111667454), (8, 0.30500036), (14, 0.19833289), (15, 0.20499845), (17, 0.10500002)]\n",
      "[(1, 0.0749985), (4, 0.07499482), (10, 0.66217905), (15, 0.13068396)]\n",
      "[(0, 0.012500119), (1, 0.5125014), (2, 0.012500119), (3, 0.01250012), (4, 0.012500119), (5, 0.2624964), (6, 0.012500119), (7, 0.012500119), (8, 0.012500119), (9, 0.012500119), (10, 0.012500119), (11, 0.012500119), (12, 0.012500119), (13, 0.01250012), (14, 0.012500119), (15, 0.012500119), (16, 0.012500119), (17, 0.012500119), (18, 0.012500119), (19, 0.012500119)]\n",
      "[(5, 0.080768555), (10, 0.09687663), (13, 0.23461482), (14, 0.08076908), (15, 0.4492782)]\n",
      "[(0, 0.012500043), (1, 0.012500043), (2, 0.26249793), (3, 0.012500043), (4, 0.012500043), (5, 0.012500043), (6, 0.012500043), (7, 0.012500043), (8, 0.012500043), (9, 0.012500043), (10, 0.012500043), (11, 0.012500043), (12, 0.012500043), (13, 0.012500043), (14, 0.5125013), (15, 0.012500043), (16, 0.012500043), (17, 0.012500043), (18, 0.012500043), (19, 0.012500043)]\n",
      "[(0, 0.0749995), (2, 0.074997835), (3, 0.36071783), (10, 0.21785644), (13, 0.1464277), (15, 0.07499997)]\n",
      "[(2, 0.5708538), (10, 0.15771581), (16, 0.15000105)]\n",
      "[(2, 0.27835497), (6, 0.08750107), (8, 0.08749679), (14, 0.0874991), (16, 0.08750089), (17, 0.31331328)]\n",
      "[(1, 0.11666736), (11, 0.1166669), (14, 0.11666744), (15, 0.11666308), (16, 0.33889303), (17, 0.116663344)]\n",
      "[(2, 0.14267263), (6, 0.1050011), (10, 0.56732637), (15, 0.1049995)]\n",
      "[(0, 0.34965482), (5, 0.18409239), (10, 0.2413414), (13, 0.052185073), (14, 0.09318189), (15, 0.04772581)]\n",
      "[(0, 0.05812083), (1, 0.109289505), (2, 0.38184792), (6, 0.052500788), (13, 0.26074663), (15, 0.05249329), (16, 0.052500628)]\n",
      "[(0, 0.21315812), (2, 0.10789248), (6, 0.055263385), (12, 0.26579428), (16, 0.16052751), (17, 0.16052195)]\n",
      "[(3, 0.30435672), (10, 0.104984336), (14, 0.29020634), (16, 0.105002634), (17, 0.12044825)]\n",
      "[(3, 0.37660387), (5, 0.10499589), (15, 0.30500156), (17, 0.133398)]\n",
      "[(3, 0.30435705), (10, 0.10498433), (14, 0.2902062), (16, 0.105002634), (17, 0.12044799)]\n",
      "[(0, 0.19022581), (2, 0.3673348), (17, 0.30077177)]\n",
      "[(1, 0.16925642), (5, 0.4735353), (10, 0.06685584), (14, 0.06176352), (15, 0.11167415), (17, 0.075737715)]\n",
      "[(3, 0.40500167), (5, 0.104998045), (10, 0.20499817), (15, 0.20500174)]\n",
      "[(0, 0.22777678), (2, 0.67222273)]\n",
      "[(1, 0.19320431), (2, 0.123298794), (3, 0.29529408), (10, 0.17281778), (15, 0.08076882), (16, 0.08076965)]\n",
      "[(1, 0.31153992), (2, 0.26431367), (5, 0.05106887), (13, 0.15769266), (14, 0.08076899), (16, 0.08076943)]\n",
      "[(2, 0.5083327), (5, 0.17499904), (16, 0.17500073)]\n",
      "[(0, 0.049403407), (1, 0.089129634), (2, 0.34625018), (3, 0.051457964), (11, 0.089131035), (13, 0.04565201), (14, 0.21375777), (15, 0.04565186), (16, 0.045652643)]\n",
      "[(3, 0.3043849), (10, 0.10498433), (14, 0.29019943), (16, 0.10500263), (17, 0.12042693)]\n",
      "[(0, 0.07499209), (3, 0.074995555), (5, 0.28929242), (6, 0.14643031), (10, 0.21786022), (13, 0.074997954), (16, 0.07500168)]\n",
      "[(0, 0.315342), (2, 0.22033858), (5, 0.13610496), (11, 0.14154905), (14, 0.1366648)]\n",
      "[(1, 0.075000264), (2, 0.49855292), (3, 0.22287713), (13, 0.074997075), (16, 0.075000815)]\n",
      "[(1, 0.13124883), (2, 0.46571273), (5, 0.29678747)]\n",
      "[(2, 0.06773759), (5, 0.50312704), (15, 0.37601)]\n",
      "[(0, 0.17499936), (2, 0.17500001), (8, 0.17499906), (10, 0.17499769), (17, 0.17500176)]\n",
      "[(0, 0.15788023), (1, 0.14153983), (2, 0.3243956), (3, 0.08313172), (5, 0.081510566), (16, 0.15769485)]\n",
      "[(0, 0.11664608), (2, 0.302642), (10, 0.13070662), (14, 0.08076956), (16, 0.3115427)]\n",
      "[(0, 0.012500048), (1, 0.012500048), (2, 0.26249927), (3, 0.012500048), (4, 0.012500048), (5, 0.012500048), (6, 0.012500048), (7, 0.012500048), (8, 0.012500048), (9, 0.012500048), (10, 0.012500048), (11, 0.2624998), (12, 0.012500048), (13, 0.26250014), (14, 0.012500048), (15, 0.012500048), (16, 0.012500048), (17, 0.012500048), (18, 0.012500048), (19, 0.012500048)]\n",
      "[(4, 0.17083421), (5, 0.2742561), (8, 0.08749633), (10, 0.40074608)]\n",
      "[(0, 0.2624966), (1, 0.012499997), (2, 0.012499997), (3, 0.012499997), (4, 0.012499997), (5, 0.012499997), (6, 0.012499997), (7, 0.012499997), (8, 0.012499997), (9, 0.012499997), (10, 0.012499997), (11, 0.012499997), (12, 0.012499997), (13, 0.012499997), (14, 0.26250255), (15, 0.2625009), (16, 0.012499997), (17, 0.012499997), (18, 0.012499997), (19, 0.012499997)]\n",
      "[(2, 0.5611114), (13, 0.116665676), (15, 0.22777794)]\n",
      "[(2, 0.362766), (3, 0.16421992), (16, 0.14999835), (17, 0.20872822)]\n",
      "[(0, 0.01666664), (1, 0.01666664), (2, 0.01666664), (3, 0.016666641), (4, 0.01666664), (5, 0.01666664), (6, 0.01666664), (7, 0.01666664), (8, 0.01666664), (9, 0.01666664), (10, 0.01666664), (11, 0.01666664), (12, 0.01666664), (13, 0.01666664), (14, 0.01666664), (15, 0.01666664), (16, 0.01666664), (17, 0.6833339), (18, 0.01666664), (19, 0.01666664)]\n",
      "[(2, 0.19032429), (10, 0.32633716), (14, 0.3416706)]\n",
      "[(0, 0.3189718), (5, 0.17083304), (10, 0.35602885), (17, 0.087499216)]\n",
      "[(3, 0.17049311), (5, 0.055262506), (8, 0.16052686), (11, 0.4137182), (16, 0.16052522)]\n",
      "[(1, 0.10788964), (3, 0.26579416), (5, 0.05525859), (6, 0.10789687), (10, 0.2657905), (12, 0.055264186), (14, 0.10789487)]\n",
      "[(0, 0.10877988), (1, 0.070000544), (2, 0.22951946), (5, 0.043813627), (6, 0.06999836), (8, 0.2312215), (14, 0.07000054), (15, 0.06999793), (16, 0.07000099)]\n",
      "[(1, 0.0827085), (3, 0.09544867), (5, 0.09545293), (10, 0.10819952), (16, 0.5500085)]\n",
      "[(1, 0.08291348), (3, 0.09544867), (5, 0.09545293), (10, 0.10799454), (16, 0.5500085)]\n",
      "[(3, 0.17500068), (5, 0.17499702), (6, 0.17500132), (8, 0.1750011), (15, 0.17499878)]\n",
      "[(2, 0.069342315), (8, 0.065625176), (11, 0.12812535), (13, 0.24940354), (17, 0.44062817)]\n",
      "[(1, 0.7138114), (4, 0.07499981), (10, 0.15047407)]\n",
      "[(0, 0.10431533), (3, 0.087500356), (5, 0.32725197), (10, 0.08749959), (14, 0.16426536), (15, 0.17083327)]\n",
      "[(1, 0.0742416), (2, 0.34241477), (3, 0.0975363), (8, 0.1138881), (11, 0.12724034), (16, 0.05833193), (17, 0.1502354)]\n",
      "[(0, 0.14999714), (1, 0.15000084), (3, 0.578573)]\n",
      "[(0, 0.20500025), (10, 0.10499598), (11, 0.40500307), (14, 0.10500033), (17, 0.10499973)]\n",
      "[(1, 0.45909366), (2, 0.0954526), (4, 0.095454685), (5, 0.09545218), (14, 0.18636455)]\n",
      "[(2, 0.21301717), (3, 0.103143185), (5, 0.28928939), (8, 0.07499929), (15, 0.07499822), (16, 0.1464289), (17, 0.051694393)]\n",
      "[(1, 0.28266004), (8, 0.116667315), (11, 0.11666093), (17, 0.395122)]\n",
      "[(2, 0.6722213), (16, 0.22777882)]\n",
      "[(1, 0.41884643), (8, 0.052499965), (13, 0.28615507), (14, 0.052498825), (15, 0.15249944)]\n",
      "[(2, 0.39407972), (10, 0.33344212), (16, 0.18747775)]\n",
      "[(0, 0.31154048), (4, 0.08076748), (8, 0.15769173), (10, 0.08076817), (12, 0.15769316), (13, 0.15769196)]\n",
      "[(4, 0.052494094), (5, 0.05517887), (8, 0.052500103), (10, 0.05249891), (11, 0.7498276)]\n",
      "[(1, 0.17223103), (3, 0.43812), (8, 0.058328852), (10, 0.061868437), (14, 0.05833043), (15, 0.05833381), (17, 0.116675176)]\n",
      "[(0, 0.28928813), (4, 0.07500031), (5, 0.26160318), (6, 0.075000726), (10, 0.10267891), (16, 0.07500057), (17, 0.07499907)]\n",
      "[(1, 0.07499936), (2, 0.14642723), (3, 0.36071557), (5, 0.36071473)]\n",
      "[(0, 0.13307193), (2, 0.36875948), (3, 0.061802253), (6, 0.058334555), (10, 0.07506192), (14, 0.061728857), (16, 0.058334395), (17, 0.14957252)]\n",
      "[(3, 0.10499813), (4, 0.30500284), (5, 0.104996085), (8, 0.3050023), (14, 0.10500015)]\n",
      "[(2, 0.22196278), (5, 0.17083262), (8, 0.087501064), (10, 0.27420163), (12, 0.0875007), (15, 0.099666916)]\n",
      "[(4, 0.06562411), (5, 0.1281239), (6, 0.06562565), (8, 0.31562662), (12, 0.06562627), (16, 0.06562345), (17, 0.2531247)]\n",
      "[(8, 0.6750008), (17, 0.17499894)]\n",
      "[(3, 0.19062307), (6, 0.06562607), (8, 0.12812552), (11, 0.19062747), (14, 0.06562558), (15, 0.1034427), (16, 0.06562443), (17, 0.15280442)]\n",
      "[(2, 0.20321152), (3, 0.2115495), (10, 0.17803097), (14, 0.35720712)]\n",
      "[(0, 0.10499979), (1, 0.10500016), (2, 0.30499876), (5, 0.104998596), (13, 0.20500171), (16, 0.105000705)]\n",
      "[(0, 0.09482315), (3, 0.34968427), (5, 0.10703179), (6, 0.18636684), (10, 0.103003316), (14, 0.095453404)]\n",
      "[(0, 0.07499739), (1, 0.14643069), (2, 0.07861995), (8, 0.35709238), (12, 0.14643149), (13, 0.07500045), (15, 0.07499827)]\n",
      "[(1, 0.07000002), (2, 0.5366702), (3, 0.20333141), (14, 0.13666451)]\n",
      "[(3, 0.22777411), (5, 0.33889043), (6, 0.11666776), (8, 0.11666754), (15, 0.11666592)]\n",
      "[(1, 0.36651623), (5, 0.09545337), (10, 0.09712343), (15, 0.09544812), (16, 0.27727652)]\n",
      "[(0, 0.5050041), (8, 0.2049995), (17, 0.20499536)]\n",
      "[(3, 0.18635921), (4, 0.18636493), (5, 0.36818063), (12, 0.18636757)]\n",
      "[(2, 0.4328121), (8, 0.21785939), (14, 0.075000085), (17, 0.2171852)]\n",
      "[(0, 0.09544665), (3, 0.18636449), (5, 0.09545334), (6, 0.09545356), (11, 0.36818856), (13, 0.09545583)]\n",
      "[(0, 0.110065416), (1, 0.10197696), (12, 0.09545651), (13, 0.25613248), (17, 0.36818585)]\n",
      "[(1, 0.15032206), (2, 0.16052745), (3, 0.055263594), (5, 0.16052818), (6, 0.05526432), (8, 0.16052993), (14, 0.06545706), (15, 0.05526336), (16, 0.10789602)]\n",
      "[(2, 0.19994077), (5, 0.18636455), (10, 0.2636957), (11, 0.0954519), (14, 0.09545488), (16, 0.09545461)]\n",
      "[(0, 0.14614436), (2, 0.23818785), (6, 0.2033357), (12, 0.070000865), (14, 0.13666579), (16, 0.07000038), (17, 0.092331395)]\n",
      "[(0, 0.12607475), (1, 0.049783673), (2, 0.0631888), (3, 0.5531701), (10, 0.10306191), (12, 0.063544)]\n",
      "[(3, 0.25417057), (5, 0.17083219), (8, 0.08750111), (10, 0.17083217), (11, 0.17083587), (15, 0.08749375)]\n",
      "[(0, 0.15445974), (1, 0.05262526), (3, 0.053035814), (4, 0.09762037), (10, 0.05147263), (11, 0.14523771), (12, 0.09761986), (13, 0.27173862), (16, 0.04999904)]\n",
      "[(0, 0.13753259), (1, 0.12582865), (2, 0.14893335), (3, 0.29662046), (5, 0.10668639), (15, 0.10661985)]\n",
      "[(4, 0.17500162), (5, 0.17500009), (6, 0.17500253), (8, 0.17500179), (10, 0.17499286)]\n",
      "[(3, 0.33888695), (6, 0.116667636), (10, 0.33888954), (14, 0.116666235)]\n",
      "[(3, 0.29895955), (5, 0.22864519), (10, 0.1873931), (15, 0.20500149)]\n",
      "[(0, 0.15109104), (3, 0.13125056), (5, 0.36140648), (10, 0.13124982), (12, 0.1312511)]\n",
      "[(3, 0.46094093), (4, 0.08076911), (8, 0.15769413), (10, 0.08521375), (15, 0.08076652), (17, 0.080768764)]\n",
      "[(2, 0.2219785), (5, 0.1708326), (8, 0.08750108), (10, 0.27418497), (12, 0.0875007), (15, 0.09966786)]\n",
      "[(1, 0.43847838), (2, 0.11866036), (8, 0.2277792), (10, 0.12619248)]\n",
      "[(1, 0.14643033), (3, 0.19298092), (5, 0.18349461), (8, 0.07500079), (10, 0.1509836), (15, 0.20110893)]\n",
      "[(1, 0.292856), (5, 0.29285648), (15, 0.29285818)]\n",
      "[(0, 0.07500016), (2, 0.08320322), (3, 0.07499542), (5, 0.14642829), (8, 0.14643139), (10, 0.28108096), (12, 0.14643098)]\n",
      "[(3, 0.14845026), (4, 0.27726868), (8, 0.09545585), (11, 0.095455445), (17, 0.3151867)]\n",
      "[(6, 0.27727348), (8, 0.18636373), (15, 0.368181), (16, 0.09545445)]\n",
      "[(0, 0.01000014), (1, 0.01000014), (2, 0.01000014), (3, 0.01000014), (4, 0.01000014), (5, 0.4100083), (6, 0.01000014), (7, 0.01000014), (8, 0.01000014), (9, 0.01000014), (10, 0.20998433), (11, 0.01000014), (12, 0.01000014), (13, 0.01000014), (14, 0.01000014), (15, 0.01000014), (16, 0.21000496), (17, 0.01000014), (18, 0.01000014), (19, 0.01000014)]\n",
      "[(0, 0.0813588), (1, 0.069648735), (2, 0.14207546), (6, 0.2970632), (10, 0.07161547), (12, 0.061765343), (15, 0.23823711)]\n",
      "[(1, 0.41168687), (10, 0.37164518), (14, 0.16944535)]\n",
      "[(1, 0.52499914), (6, 0.09545559), (10, 0.12045354), (15, 0.18636353)]\n",
      "[(3, 0.4568306), (4, 0.04772556), (5, 0.047710527), (8, 0.1386372), (10, 0.22954938), (15, 0.047727607)]\n",
      "[(0, 0.13909036), (3, 0.1287942), (8, 0.20257565), (12, 0.3795419), (14, 0.08749712)]\n",
      "[(2, 0.40500158), (5, 0.10499932), (11, 0.20500116), (15, 0.10499755), (16, 0.104999475)]\n",
      "[(0, 0.07499898), (1, 0.075000115), (2, 0.07499841), (3, 0.21785672), (5, 0.07499793), (15, 0.28928882), (16, 0.14643)]\n",
      "[(0, 0.23461697), (1, 0.23261847), (3, 0.2346133), (4, 0.0807698), (10, 0.08276724), (15, 0.08076745)]\n",
      "[(1, 0.17500229), (2, 0.19029313), (10, 0.32637128), (11, 0.17499837)]\n",
      "[(0, 0.10300072), (2, 0.12849598), (4, 0.04999938), (6, 0.05000099), (8, 0.09762071), (10, 0.13430828), (11, 0.09762002), (12, 0.051956344), (13, 0.049997166), (14, 0.09761825), (17, 0.117953084)]\n",
      "[(5, 0.23461522), (10, 0.23461257), (11, 0.080768876), (16, 0.3884646)]\n",
      "[(1, 0.1576953), (2, 0.38846773), (3, 0.080763124), (6, 0.08077085), (8, 0.08077062), (13, 0.08076709), (15, 0.08076419)]\n",
      "[(5, 0.29064152), (17, 0.6450726)]\n",
      "[(1, 0.17831284), (10, 0.33148015), (17, 0.39576238)]\n",
      "[(0, 0.26249418), (1, 0.012500128), (2, 0.012500128), (3, 0.26250222), (4, 0.012500128), (5, 0.012500128), (6, 0.012500128), (7, 0.012500128), (8, 0.012500128), (9, 0.012500128), (10, 0.26250148), (11, 0.012500128), (12, 0.012500128), (13, 0.012500128), (14, 0.012500128), (15, 0.012500128), (16, 0.012500128), (17, 0.012500128), (18, 0.012500128), (19, 0.012500128)]\n",
      "[(0, 0.1558042), (2, 0.14585026), (3, 0.24167794), (5, 0.27000278), (11, 0.0699965), (12, 0.07000091)]\n",
      "[(0, 0.21785755), (3, 0.14642365), (4, 0.0750005), (6, 0.07500093), (11, 0.14642943), (16, 0.2178592), (17, 0.074999474)]\n",
      "[(3, 0.25017983), (5, 0.2053749), (8, 0.11666695), (11, 0.11666614), (15, 0.22777839)]\n",
      "[(1, 0.7006818), (3, 0.05249403), (10, 0.05433228), (11, 0.10249853), (14, 0.05249244)]\n",
      "[(2, 0.41421068), (3, 0.20092216), (8, 0.061764594), (14, 0.15839599), (16, 0.12058866)]\n",
      "[(0, 0.18636648), (3, 0.09545065), (8, 0.18636869), (10, 0.095450036), (13, 0.18636616), (14, 0.0954533), (15, 0.09545213)]\n",
      "[(0, 0.010000079), (1, 0.010000079), (2, 0.010000079), (3, 0.010000079), (4, 0.21000008), (5, 0.010000079), (6, 0.010000079), (7, 0.010000079), (8, 0.21000113), (9, 0.010000079), (10, 0.20999512), (11, 0.010000079), (12, 0.010000079), (13, 0.010000079), (14, 0.010000079), (15, 0.010000079), (16, 0.21000239), (17, 0.010000079), (18, 0.010000079), (19, 0.010000079)]\n",
      "[(0, 0.20499803), (4, 0.105000444), (8, 0.20500146), (10, 0.20500061), (15, 0.20499867)]\n",
      "[(1, 0.3416675), (8, 0.34166697), (13, 0.17499821)]\n",
      "[(1, 0.1708354), (2, 0.08749802), (3, 0.36567715), (8, 0.08749698), (14, 0.14265862), (17, 0.087499715)]\n",
      "[(1, 0.18636537), (3, 0.39900532), (8, 0.09545135), (14, 0.1555414), (17, 0.09545407)]\n",
      "[(0, 0.10436745), (2, 0.1708337), (3, 0.1708306), (4, 0.08750074), (6, 0.08750114), (8, 0.16242886), (13, 0.16237009)]\n",
      "[(5, 0.13197577), (8, 0.09545242), (10, 0.33166078), (13, 0.2772737), (16, 0.095454976)]\n",
      "[(2, 0.17500103), (3, 0.17499982), (10, 0.17499842), (14, 0.17500086), (17, 0.17499761)]\n",
      "[(1, 0.03888687), (2, 0.35732207), (4, 0.03888895), (5, 0.22407453), (10, 0.17805241), (11, 0.07592661), (15, 0.06277408)]\n",
      "[(1, 0.62813234), (2, 0.12812217), (4, 0.06562518), (5, 0.06561912), (6, 0.06562562)]\n",
      "[(2, 0.25695533), (13, 0.3067529), (17, 0.29462448)]\n",
      "[(0, 0.6961552), (4, 0.080769), (11, 0.08076871), (15, 0.08076844)]\n",
      "[(5, 0.36071733), (8, 0.14643085), (10, 0.09172962), (13, 0.07499756), (17, 0.27255228)]\n",
      "[(2, 0.4407547), (3, 0.0832903), (4, 0.0700003), (6, 0.07000188), (11, 0.0699928), (13, 0.08596209), (15, 0.06999916), (16, 0.06999763)]\n",
      "[(5, 0.135235), (8, 0.13125092), (10, 0.28024808), (13, 0.35326496)]\n",
      "[(5, 0.074999034), (8, 0.0749999), (10, 0.07499869), (11, 0.71785927)]\n",
      "[(2, 0.1409815), (3, 0.39059046), (4, 0.055262525), (8, 0.1078967), (11, 0.26579434)]\n",
      "[(0, 0.15761071), (3, 0.15054798), (5, 0.08265025), (10, 0.120144516), (15, 0.27171016), (17, 0.1673353)]\n",
      "[(1, 0.5175852), (3, 0.05296319), (5, 0.087806575), (8, 0.041999977), (10, 0.19713132), (14, 0.07451338)]\n",
      "[(0, 0.27727345), (3, 0.2772665), (14, 0.27727592), (16, 0.0954558)]\n",
      "[(1, 0.16645798), (2, 0.16965882), (5, 0.17941271), (8, 0.16310069), (10, 0.09668336), (13, 0.120590575), (17, 0.06585954)]\n",
      "[(1, 0.30500227), (5, 0.20499775), (6, 0.20500171), (15, 0.10499694), (16, 0.10500062)]\n",
      "[(2, 0.21224177), (10, 0.23089217), (11, 0.0656244), (13, 0.06562219), (14, 0.14265868), (15, 0.12812561), (17, 0.11420957)]\n",
      "[(1, 0.11666761), (2, 0.22777653), (8, 0.227781), (10, 0.12389983), (15, 0.22054055)]\n",
      "[(5, 0.315627), (8, 0.37812826), (10, 0.12812254), (13, 0.06562487), (15, 0.06562195)]\n",
      "[(0, 0.35992682), (3, 0.049995013), (4, 0.04999958), (6, 0.05000119), (8, 0.31151354), (11, 0.049992047), (15, 0.097618625)]\n",
      "[(4, 0.20500055), (8, 0.20499997), (10, 0.10499865), (13, 0.40500078)]\n",
      "[(0, 0.1304531), (3, 0.14151718), (5, 0.18636265), (10, 0.4689392)]\n",
      "[(5, 0.10973989), (8, 0.08750104), (14, 0.29004508), (15, 0.1708339), (16, 0.17082898), (17, 0.1127169)]\n",
      "[(3, 0.25416356), (8, 0.5041697), (14, 0.17083319)]\n",
      "[(3, 0.1576911), (5, 0.23461367), (6, 0.15769413), (8, 0.08076973), (10, 0.08076773), (12, 0.08077006), (14, 0.157693)]\n",
      "[(3, 0.080914885), (5, 0.06999823), (8, 0.07000004), (10, 0.40333626), (11, 0.20333591), (14, 0.12574714)]\n",
      "[(3, 0.07660315), (4, 0.11388919), (5, 0.15117091), (8, 0.113890514), (11, 0.39167252), (13, 0.05832981), (15, 0.058332235)]\n",
      "[(1, 0.07500065), (2, 0.28928813), (3, 0.112701535), (6, 0.07500113), (8, 0.32301322), (15, 0.074994445)]\n",
      "[(1, 0.12800618), (6, 0.105000675), (8, 0.1050002), (10, 0.28199235), (17, 0.30500036)]\n",
      "[(1, 0.08749971), (5, 0.087498724), (6, 0.087500505), (8, 0.50416964), (17, 0.17083089)]\n",
      "[(1, 0.2470448), (3, 0.08749251), (4, 0.08750181), (8, 0.087501995), (10, 0.1762669), (13, 0.17083736), (17, 0.08918643)]\n",
      "[(5, 0.08132759), (10, 0.28295577), (11, 0.07499981), (14, 0.083363414), (17, 0.42378148)]\n",
      "[(2, 0.15253071), (3, 0.36883813), (8, 0.11666777), (10, 0.16196606), (15, 0.11666233)]\n",
      "[(3, 0.5050041), (14, 0.10500131), (16, 0.20500164), (17, 0.1049914)]\n",
      "[(0, 0.41000125), (1, 0.010000152), (2, 0.010000152), (3, 0.010000152), (4, 0.010000152), (5, 0.010000152), (6, 0.010000152), (7, 0.010000152), (8, 0.0100001525), (9, 0.010000152), (10, 0.2099979), (11, 0.010000152), (12, 0.010000152), (13, 0.010000152), (14, 0.010000152), (15, 0.20999831), (16, 0.010000152), (17, 0.010000152), (18, 0.010000152), (19, 0.010000152)]\n",
      "[(1, 0.15250325), (3, 0.102486864), (4, 0.052500702), (6, 0.15250377), (8, 0.25250345), (13, 0.102501065), (17, 0.15250008)]\n",
      "[(3, 0.17499271), (5, 0.17500088), (8, 0.17500167), (10, 0.3416692)]\n",
      "[(0, 0.33889565), (1, 0.11665792), (5, 0.22778162), (10, 0.1166631), (11, 0.11666584)]\n",
      "[(3, 0.11587399), (10, 0.24904376), (13, 0.33892715), (14, 0.23461594)]\n",
      "[(1, 0.11728883), (3, 0.25518626), (4, 0.05249599), (6, 0.052500777), (8, 0.20250203), (10, 0.28502545)]\n",
      "[(3, 0.36685136), (5, 0.120588675), (10, 0.329451), (13, 0.07544373), (17, 0.063547015)]\n",
      "[(4, 0.116666816), (8, 0.33889046), (10, 0.13603798), (13, 0.20840524), (16, 0.11666564)]\n",
      "[(3, 0.10789168), (4, 0.107895136), (5, 0.107893184), (8, 0.055256143), (11, 0.58158946)]\n",
      "[(0, 0.09211329), (2, 0.4995566), (3, 0.08749328), (6, 0.087500975), (8, 0.17083499)]\n",
      "[(0, 0.107889585), (2, 0.058849834), (6, 0.16053267), (8, 0.31617847), (10, 0.055243753), (15, 0.2090519), (17, 0.05804221)]\n",
      "[(0, 0.28773054), (1, 0.15881315), (3, 0.09612289), (17, 0.4039997)]\n",
      "[(0, 0.14153108), (1, 0.5022927), (10, 0.06577405), (11, 0.11388633), (13, 0.07824633), (17, 0.059380256)]\n",
      "[(1, 0.17500004), (13, 0.17499876), (14, 0.341667), (16, 0.17500034)]\n",
      "[(1, 0.29916495), (5, 0.17499933), (10, 0.38416857)]\n",
      "[(6, 0.15769358), (8, 0.15769307), (10, 0.31153908), (13, 0.08076796), (15, 0.15769123), (17, 0.08076843)]\n",
      "[(6, 0.08077007), (8, 0.15769242), (10, 0.23461123), (11, 0.15769097), (16, 0.31154224)]\n",
      "[(0, 0.010000017), (1, 0.010000017), (2, 0.010000017), (3, 0.20999995), (4, 0.010000017), (5, 0.010000017), (6, 0.010000017), (7, 0.010000017), (8, 0.010000017), (9, 0.010000017), (10, 0.41000023), (11, 0.010000017), (12, 0.010000017), (13, 0.010000017), (14, 0.010000017), (15, 0.010000017), (16, 0.010000017), (17, 0.20999959), (18, 0.010000017), (19, 0.010000017)]\n",
      "[(3, 0.13124384), (5, 0.38125908), (8, 0.13125317), (15, 0.25624123)]\n",
      "[(0, 0.09102903), (3, 0.19075689), (4, 0.08076983), (5, 0.08076634), (10, 0.34513754), (11, 0.08077023), (15, 0.08076904)]\n",
      "[(1, 0.5613436), (2, 0.13865487), (8, 0.07499472), (15, 0.09643383), (16, 0.07500076)]\n",
      "[(0, 0.36591133), (4, 0.22954606), (8, 0.13863656), (11, 0.047726743), (15, 0.18408814)]\n",
      "[(4, 0.30500314), (5, 0.1284152), (10, 0.18157928), (11, 0.2050011), (13, 0.105000526)]\n",
      "[(1, 0.20913102), (3, 0.18317628), (4, 0.080769345), (5, 0.08076855), (8, 0.23461552), (11, 0.15769279)]\n",
      "[(0, 0.0656224), (3, 0.33161435), (5, 0.15598021), (10, 0.20928729), (13, 0.065625474), (14, 0.06562486), (15, 0.06561957)]\n",
      "[(8, 0.17083113), (10, 0.42083323), (14, 0.33750185)]\n",
      "[(10, 0.37222624), (15, 0.10499413), (17, 0.43777853)]\n",
      "[(2, 0.10499841), (4, 0.10500053), (5, 0.20499787), (8, 0.10500065), (13, 0.30500156), (14, 0.105000354)]\n",
      "[(0, 0.18557507), (2, 0.11758594), (10, 0.26059207), (11, 0.15769355), (16, 0.1439398), (17, 0.08076678)]\n",
      "[(2, 0.3540234), (3, 0.095516734), (10, 0.07161229), (14, 0.4288469)]\n",
      "[(1, 0.49866304), (5, 0.08749437), (10, 0.34300846)]\n",
      "[(1, 0.05526149), (2, 0.058683004), (5, 0.058001228), (6, 0.05526397), (8, 0.3710569), (10, 0.06405464), (15, 0.055257224), (17, 0.25084198)]\n",
      "[(1, 0.4293184), (5, 0.074994035), (6, 0.14642982), (14, 0.07499996), (17, 0.22068585)]\n",
      "[(0, 0.010000158), (1, 0.010000158), (2, 0.41000435), (3, 0.010000158), (4, 0.010000158), (5, 0.010000158), (6, 0.010000158), (7, 0.010000158), (8, 0.010000158), (9, 0.010000158), (10, 0.20999064), (11, 0.010000158), (12, 0.010000158), (13, 0.21000232), (14, 0.010000158), (15, 0.010000158), (16, 0.010000158), (17, 0.010000158), (18, 0.010000158), (19, 0.010000158)]\n",
      "[(3, 0.09208684), (10, 0.8329124)]\n",
      "[(1, 0.080769554), (2, 0.23461452), (8, 0.15769356), (10, 0.080765344), (11, 0.08076951), (12, 0.08077011), (14, 0.080769636), (17, 0.15769322)]\n",
      "[(0, 0.20333184), (1, 0.27000642), (2, 0.11355735), (3, 0.069995925), (6, 0.07000163), (15, 0.09310965), (16, 0.07000052), (17, 0.06999569)]\n",
      "[(0, 0.15003964), (1, 0.34175378), (8, 0.08749571), (10, 0.18737553), (14, 0.17083457)]\n",
      "[(0, 0.13666642), (2, 0.21746625), (3, 0.089909256), (11, 0.13666825), (13, 0.07000026), (14, 0.050087415), (15, 0.114767805), (16, 0.070000894), (17, 0.077766106)]\n",
      "[(3, 0.18437083), (8, 0.17083357), (12, 0.17083581), (13, 0.08750016), (15, 0.08749783), (16, 0.08749878), (17, 0.15729569)]\n",
      "[(0, 0.256251), (4, 0.1312517), (8, 0.13124548), (14, 0.25625333), (15, 0.13124771)]\n",
      "[(1, 0.20089442), (2, 0.10842871), (8, 0.08077013), (10, 0.3796904), (13, 0.080768704), (15, 0.09560077)]\n",
      "[(0, 0.11744523), (1, 0.08804961), (2, 0.4101546), (12, 0.075001225), (17, 0.25577694)]\n",
      "[(0, 0.34928477), (2, 0.20378406), (3, 0.055261273), (10, 0.07252664), (13, 0.05526195), (15, 0.22703865)]\n",
      "[(1, 0.36072066), (3, 0.074994884), (4, 0.21786094), (8, 0.07500019), (10, 0.074994184), (11, 0.14642814)]\n",
      "[(1, 0.43595186), (2, 0.19062151), (3, 0.15996295), (10, 0.10096219), (16, 0.06562574)]\n",
      "[(0, 0.044494033), (1, 0.037734963), (2, 0.37708595), (3, 0.047090437), (10, 0.049764182), (12, 0.12708509), (14, 0.24799761), (15, 0.04374741)]\n",
      "[(3, 0.17499498), (8, 0.34166864), (15, 0.34166938)]\n",
      "[(2, 0.23461412), (5, 0.61923504), (11, 0.08076553)]\n",
      "[(5, 0.20499921), (8, 0.10500038), (13, 0.5050043), (14, 0.10499571)]\n",
      "[(0, 0.0749977), (1, 0.074999094), (5, 0.07499714), (6, 0.075001664), (10, 0.21785827), (11, 0.074996516), (14, 0.21786152), (15, 0.14643006)]\n",
      "[(2, 0.30249843), (6, 0.10250079), (13, 0.25250116), (14, 0.15249926), (15, 0.15250017)]\n",
      "[(1, 0.095451), (2, 0.12696306), (8, 0.18636659), (10, 0.40892723), (15, 0.11410976)]\n",
      "[(3, 0.05832748), (8, 0.16944374), (10, 0.22500026), (13, 0.3361152), (15, 0.16944608)]\n",
      "[(0, 0.01000005), (1, 0.01000005), (2, 0.01000005), (3, 0.01000005), (4, 0.01000005), (5, 0.01000005), (6, 0.01000005), (7, 0.01000005), (8, 0.41000435), (9, 0.01000005), (10, 0.20999464), (11, 0.01000005), (12, 0.01000005), (13, 0.01000005), (14, 0.01000005), (15, 0.21000014), (16, 0.01000005), (17, 0.01000005), (18, 0.01000005), (19, 0.01000005)]\n",
      "[(0, 0.5500003), (1, 0.095452465), (12, 0.2772741)]\n",
      "[(0, 0.05910753), (1, 0.09855125), (3, 0.11829839), (10, 0.3784623), (17, 0.30391312)]\n",
      "[(10, 0.4908976), (17, 0.43410203)]\n",
      "[(0, 0.12397233), (3, 0.11666144), (6, 0.11666813), (11, 0.33889273), (14, 0.22047126)]\n",
      "[(0, 0.09679474), (1, 0.08771843), (2, 0.28690162), (3, 0.10106996), (11, 0.08076955), (15, 0.13030861), (16, 0.0807701), (17, 0.08951245)]\n",
      "[(3, 0.34489796), (13, 0.29726115), (14, 0.15426974), (15, 0.14642821)]\n",
      "[(1, 0.12490955), (2, 0.29750776), (3, 0.17017075), (10, 0.123209015), (13, 0.08777077), (16, 0.1464313)]\n",
      "[(3, 0.07652149), (4, 0.049999945), (5, 0.22672534), (8, 0.05000008), (10, 0.44693816), (12, 0.051611528), (13, 0.06725078)]\n",
      "[(0, 0.3884636), (3, 0.31153286), (6, 0.23461819)]\n",
      "[(1, 0.6122068), (3, 0.19279267), (6, 0.102500424), (16, 0.05249993)]\n",
      "[(0, 0.32288516), (5, 0.11282761), (10, 0.07499876), (11, 0.07499617), (17, 0.3607202)]\n",
      "[(2, 0.21650387), (3, 0.21363823), (4, 0.038888037), (10, 0.13348874), (11, 0.038888033), (14, 0.038886655), (15, 0.112963535), (16, 0.18452044)]\n",
      "[(2, 0.28700337), (5, 0.055258486), (10, 0.23262078), (11, 0.055263266), (14, 0.23359008), (17, 0.09942127)]\n",
      "[(1, 0.08750054), (2, 0.587503), (11, 0.08749363), (16, 0.17083532)]\n",
      "[(0, 0.012500054), (1, 0.22726905), (2, 0.012500054), (3, 0.012500054), (4, 0.012500054), (5, 0.012500054), (6, 0.012500054), (7, 0.012500054), (8, 0.012500054), (9, 0.012500054), (10, 0.29773217), (11, 0.26249784), (12, 0.012500054), (13, 0.012500054), (14, 0.012500054), (15, 0.012500054), (16, 0.012500054), (17, 0.012500054), (18, 0.012500054), (19, 0.012500054)]\n",
      "[(2, 0.17083083), (10, 0.34581944), (14, 0.08749926), (16, 0.32918334)]\n",
      "[(2, 0.21785636), (3, 0.36071724), (6, 0.1464315), (13, 0.07499759), (14, 0.07499756), (15, 0.074998714)]\n",
      "[(3, 0.15249968), (5, 0.35249963), (6, 0.10250117), (8, 0.20250197), (10, 0.102496855), (16, 0.05250031)]\n",
      "[(0, 0.27073458), (10, 0.23926082), (11, 0.10500021), (14, 0.20500238), (16, 0.1050012)]\n",
      "[(2, 0.19672506), (3, 0.3820934), (5, 0.08749907), (10, 0.104743265), (16, 0.1664384)]\n",
      "[(2, 0.17083083), (10, 0.34581947), (14, 0.08749926), (16, 0.32918328)]\n",
      "[(1, 0.115927055), (2, 0.46828094), (14, 0.3184236), (15, 0.05526267)]\n",
      "[(0, 0.3509237), (8, 0.13124959), (11, 0.41157606)]\n",
      "[(2, 0.10330772), (5, 0.3661354), (10, 0.27146932), (11, 0.095450036), (14, 0.09545361)]\n",
      "[(2, 0.1711255), (3, 0.2470103), (10, 0.17353143), (11, 0.15769312), (14, 0.1929469)]\n",
      "[(0, 0.010000098), (1, 0.20999798), (2, 0.20999826), (3, 0.010000098), (4, 0.010000098), (5, 0.010000098), (6, 0.010000098), (7, 0.010000098), (8, 0.010000098), (9, 0.010000098), (10, 0.010000098), (11, 0.010000098), (12, 0.010000098), (13, 0.010000098), (14, 0.0100000985), (15, 0.010000098), (16, 0.21000086), (17, 0.21000129), (18, 0.010000098), (19, 0.010000098)]\n",
      "[(0, 0.2074584), (3, 0.2431487), (4, 0.05833421), (8, 0.26549596), (11, 0.072795056), (12, 0.058322594), (16, 0.058333002)]\n",
      "[(0, 0.02499997), (1, 0.02499997), (2, 0.5250006), (3, 0.02499997), (4, 0.02499997), (5, 0.02499997), (6, 0.02499997), (7, 0.02499997), (8, 0.02499997), (9, 0.02499997), (10, 0.02499997), (11, 0.02499997), (12, 0.02499997), (13, 0.02499997), (14, 0.02499997), (15, 0.02499997), (16, 0.02499997), (17, 0.02499997), (18, 0.02499997), (19, 0.02499997)]\n",
      "[(0, 0.5798129), (1, 0.11189752), (3, 0.1175018), (10, 0.11078584)]\n",
      "[(3, 0.47561243), (10, 0.24581861), (15, 0.074997425), (17, 0.14642827)]\n",
      "[(0, 0.09545137), (1, 0.12830879), (10, 0.42623842), (14, 0.09545471), (16, 0.18636453)]\n",
      "[(2, 0.08749831), (3, 0.08749523), (5, 0.087500155), (10, 0.5041682), (17, 0.17083655)]\n",
      "[(2, 0.15408042), (5, 0.12708579), (10, 0.4782039), (16, 0.19062881)]\n",
      "[(1, 0.061768115), (2, 0.28255045), (4, 0.058333162), (10, 0.27512738), (14, 0.11388922), (17, 0.16944247)]\n",
      "[(0, 0.08684978), (3, 0.44445193), (5, 0.08076784), (10, 0.24946788), (16, 0.080769815)]\n",
      "[(0, 0.24071056), (2, 0.18429051), (6, 0.170836), (10, 0.17083146), (15, 0.08749991), (17, 0.087497786)]\n",
      "[(1, 0.2539288), (3, 0.13066308), (5, 0.07376118), (10, 0.12032347), (11, 0.06561913), (16, 0.12812544), (17, 0.18695323)]\n",
      "[(4, 0.20333558), (10, 0.60333216), (11, 0.13666551)]\n",
      "[(2, 0.19496165), (3, 0.061981037), (5, 0.12635113), (10, 0.16299239), (11, 0.2525032), (14, 0.052500077), (16, 0.052500457), (17, 0.06620969)]\n",
      "[(1, 0.043423913), (2, 0.28809643), (5, 0.09761805), (6, 0.05000051), (10, 0.056575317), (12, 0.097621), (14, 0.19285944), (15, 0.09761624), (16, 0.04999832)]\n",
      "[(2, 0.114655845), (3, 0.4535921), (10, 0.20725231), (14, 0.15177189)]\n",
      "[(2, 0.11930461), (3, 0.13358948), (5, 0.39466864), (10, 0.15243635), (13, 0.11666572)]\n",
      "[(0, 0.24065307), (2, 0.20331633), (4, 0.075001165), (5, 0.0758739), (10, 0.20872588), (11, 0.1464284)]\n",
      "[(2, 0.23461384), (10, 0.17419021), (11, 0.08076577), (15, 0.14507504), (16, 0.30766225)]\n",
      "[(2, 0.34236917), (3, 0.13109818), (10, 0.31502616), (13, 0.040078677), (14, 0.10892958), (15, 0.03749788)]\n",
      "[(0, 0.16944441), (1, 0.16944617), (5, 0.11388899), (6, 0.28055954), (10, 0.16944413), (15, 0.05832729)]\n",
      "[(3, 0.58147275), (10, 0.3185271)]\n",
      "[(0, 0.010000058), (1, 0.010000058), (2, 0.010000058), (3, 0.24787024), (4, 0.010000058), (5, 0.010000058), (6, 0.010000058), (7, 0.010000058), (8, 0.010000058), (9, 0.010000058), (10, 0.010000058), (11, 0.010000058), (12, 0.010000058), (13, 0.010000059), (14, 0.010000058), (15, 0.39029288), (16, 0.010000058), (17, 0.19183591), (18, 0.010000058), (19, 0.010000058)]\n",
      "[(1, 0.1458079), (2, 0.14615497), (3, 0.09138915), (5, 0.15334244), (10, 0.41330484)]\n",
      "[(1, 0.10126506), (2, 0.12120073), (3, 0.35249525), (10, 0.14503813), (14, 0.104999475), (15, 0.10500039)]\n",
      "[(3, 0.7539856), (13, 0.042567883), (15, 0.13965423), (16, 0.036205873)]\n",
      "[(0, 0.010000075), (1, 0.010000076), (2, 0.010000075), (3, 0.010000075), (4, 0.010000075), (5, 0.2136555), (6, 0.010000075), (7, 0.010000075), (8, 0.010000075), (9, 0.010000075), (10, 0.010000075), (11, 0.010000075), (12, 0.010000075), (13, 0.010000075), (14, 0.2099991), (15, 0.010000075), (16, 0.010000075), (17, 0.4063441), (18, 0.010000075), (19, 0.010000075)]\n",
      "[(2, 0.22777748), (6, 0.11666634), (10, 0.11666336), (12, 0.11666986), (13, 0.11666523), (14, 0.116668336), (17, 0.11666589)]\n",
      "[(2, 0.57856935), (14, 0.15000229), (15, 0.14999796)]\n",
      "[(5, 0.17865023), (10, 0.5046831), (14, 0.1749992)]\n",
      "[(2, 0.15525271), (10, 0.18423377), (13, 0.32150033), (16, 0.23901246)]\n",
      "[(5, 0.09558017), (10, 0.58573556), (17, 0.24785057)]\n",
      "[(2, 0.2928548), (15, 0.29285723), (16, 0.29285887)]\n",
      "[(2, 0.5738108), (14, 0.28809664), (15, 0.09761621)]\n",
      "[(0, 0.23461835), (4, 0.23461902), (11, 0.08076934), (13, 0.08076995), (14, 0.08076547), (15, 0.1576924), (17, 0.08076459)]\n",
      "[(0, 0.23461838), (4, 0.23461904), (11, 0.08076934), (13, 0.08076995), (14, 0.08076546), (15, 0.15769239), (17, 0.08076459)]\n",
      "[(2, 0.20865487), (5, 0.17400606), (8, 0.17083342), (10, 0.29650357), (12, 0.087501094)]\n",
      "[(0, 0.0954555), (1, 0.1706595), (3, 0.2772772), (5, 0.09543929), (10, 0.29298487)]\n",
      "[(5, 0.8227282), (10, 0.09545332)]\n",
      "[(0, 0.098035336), (5, 0.25416747), (8, 0.32696283), (11, 0.08749958), (15, 0.1708339)]\n",
      "[(3, 0.48145026), (4, 0.20500155), (8, 0.1049966), (11, 0.12855107)]\n",
      "[(1, 0.12812634), (2, 0.06649659), (5, 0.18974926), (8, 0.1906287), (11, 0.06562108), (15, 0.1281267), (17, 0.19062544)]\n",
      "[(0, 0.21609981), (2, 0.18476832), (3, 0.23183395), (8, 0.05526249), (10, 0.062033862), (12, 0.055263475), (16, 0.16052715)]\n",
      "[(3, 0.1749998), (8, 0.34166694), (10, 0.17499909), (12, 0.17500034)]\n",
      "[(0, 0.010000066), (1, 0.010000066), (2, 0.010000066), (3, 0.20999499), (4, 0.2100021), (5, 0.010000066), (6, 0.010000066), (7, 0.010000066), (8, 0.21000163), (9, 0.010000066), (10, 0.21000023), (11, 0.010000066), (12, 0.010000066), (13, 0.010000066), (14, 0.010000066), (15, 0.010000066), (16, 0.010000066), (17, 0.010000066), (18, 0.010000066), (19, 0.010000066)]\n",
      "[(2, 0.14084236), (3, 0.08058026), (6, 0.14643052), (8, 0.43214816), (15, 0.1464268)]\n",
      "[(2, 0.15408348), (3, 0.6508581), (5, 0.11005757)]\n",
      "[(5, 0.14999232), (10, 0.5785798), (15, 0.14999746)]\n",
      "[(0, 0.010000068), (1, 0.010000068), (2, 0.010000068), (3, 0.20999493), (4, 0.010000068), (5, 0.20999998), (6, 0.21000236), (7, 0.010000068), (8, 0.21000168), (9, 0.010000068), (10, 0.010000068), (11, 0.010000068), (12, 0.010000068), (13, 0.010000068), (14, 0.010000068), (15, 0.010000068), (16, 0.010000068), (17, 0.010000068), (18, 0.010000068), (19, 0.010000068)]\n",
      "[(1, 0.06273329), (3, 0.11467178), (4, 0.13667059), (5, 0.07590358), (8, 0.15275978), (11, 0.06999448), (13, 0.070000164), (15, 0.13666712), (16, 0.06999982), (17, 0.07726506)]\n",
      "[(1, 0.10102032), (3, 0.22777995), (5, 0.11666264), (8, 0.22777903), (10, 0.13231325), (14, 0.11666609)]\n",
      "[(0, 0.17499784), (3, 0.17499997), (6, 0.34166798), (8, 0.17500032)]\n",
      "[(3, 0.23299284), (10, 0.68518865)]\n",
      "[(3, 0.19277366), (4, 0.07500029), (8, 0.14642945), (10, 0.27499235), (13, 0.1143776), (15, 0.07499863), (17, 0.074999176)]\n",
      "[(0, 0.05249766), (2, 0.20250072), (8, 0.052496742), (13, 0.05249707), (14, 0.50251067), (15, 0.05249702), (17, 0.052499488)]\n",
      "[(0, 0.28921327), (5, 0.16634233), (10, 0.33888835), (15, 0.11666651)]\n",
      "[(1, 0.25416675), (2, 0.14202496), (3, 0.2541651), (11, 0.17083414), (15, 0.11630836)]\n",
      "[(4, 0.3681921), (8, 0.18636692), (10, 0.095443375), (11, 0.095452055), (14, 0.09545334), (15, 0.095454074)]\n",
      "[(0, 0.055260044), (3, 0.107895896), (5, 0.05526193), (6, 0.10789459), (10, 0.18540452), (15, 0.39880815), (16, 0.055263836)]\n",
      "[(0, 0.63277096), (2, 0.09509984), (3, 0.14642644), (15, 0.068559244)]\n",
      "[(3, 0.06999404), (4, 0.2700031), (5, 0.069999464), (6, 0.1366682), (8, 0.07000033), (10, 0.33666772)]\n",
      "[(0, 0.2586372), (2, 0.12106925), (5, 0.06999858), (8, 0.16362606), (17, 0.3366685)]\n",
      "[(0, 0.05522842), (1, 0.19860798), (2, 0.063145556), (5, 0.057338316), (10, 0.2794358), (13, 0.052496888), (17, 0.26124647)]\n",
      "[(0, 0.052499946), (2, 0.05931436), (4, 0.052500986), (5, 0.25156525), (6, 0.052501418), (10, 0.19662069), (15, 0.2525058), (17, 0.052490696)]\n",
      "[(0, 0.23726869), (1, 0.20249951), (2, 0.07934953), (10, 0.2816317), (11, 0.111749396), (16, 0.052500553)]\n",
      "[(0, 0.010000059), (1, 0.010000059), (2, 0.010000059), (3, 0.21000044), (4, 0.010000059), (5, 0.20999677), (6, 0.21000104), (7, 0.010000059), (8, 0.21000083), (9, 0.010000059), (10, 0.010000059), (11, 0.010000059), (12, 0.010000059), (13, 0.010000059), (14, 0.010000059), (15, 0.010000059), (16, 0.010000059), (17, 0.010000059), (18, 0.010000059), (19, 0.010000059)]\n",
      "[(3, 0.17082909), (4, 0.25417182), (5, 0.0893229), (10, 0.2523433), (13, 0.087497346), (14, 0.08750107)]\n",
      "[(2, 0.4666684), (3, 0.11073887), (10, 0.1375894), (16, 0.20500268)]\n",
      "[(4, 0.07499918), (5, 0.21785606), (6, 0.07500077), (8, 0.07499966), (10, 0.21785814), (14, 0.07500025), (15, 0.2178568)]\n",
      "[(1, 0.21706705), (2, 0.14295457), (10, 0.12737729), (14, 0.33889425), (15, 0.09037225)]\n",
      "[(0, 0.012500026), (1, 0.23535757), (2, 0.012500026), (3, 0.012500026), (4, 0.012500026), (5, 0.012500026), (6, 0.012500026), (7, 0.012500026), (8, 0.26249957), (9, 0.012500026), (10, 0.012500026), (11, 0.012500026), (12, 0.012500026), (13, 0.012500026), (14, 0.012500026), (15, 0.012500026), (16, 0.012500026), (17, 0.28964242), (18, 0.012500026), (19, 0.012500026)]\n",
      "[(0, 0.33750162), (6, 0.08750054), (10, 0.2541678), (11, 0.1708313), (15, 0.08749818)]\n",
      "[(0, 0.087496825), (3, 0.17396498), (8, 0.08749711), (10, 0.10501231), (15, 0.48352772)]\n",
      "[(2, 0.23461518), (3, 0.15769194), (4, 0.15769014), (11, 0.15769295), (14, 0.23461702)]\n",
      "[(0, 0.2928586), (1, 0.13417783), (16, 0.29285824), (17, 0.16581938)]\n",
      "[(0, 0.41988695), (2, 0.1523996), (4, 0.1312462), (17, 0.19646615)]\n",
      "[(2, 0.31562427), (8, 0.12812495), (11, 0.1281246), (16, 0.37812594)]\n",
      "[(2, 0.21785782), (3, 0.14642553), (5, 0.21785818), (14, 0.07499952), (15, 0.28928688)]\n",
      "[(3, 0.30500588), (4, 0.10499948), (5, 0.104984485), (8, 0.2050043), (16, 0.20500445)]\n",
      "[(6, 0.1312508), (10, 0.3790948), (13, 0.131247), (17, 0.2584068)]\n",
      "[(10, 0.10415984), (14, 0.5875047), (15, 0.15417248), (17, 0.087495774)]\n",
      "[(0, 0.4275259), (2, 0.18990369), (3, 0.22415465), (8, 0.09174847)]\n",
      "[(0, 0.06864035), (4, 0.120588325), (6, 0.12058867), (11, 0.17941196), (13, 0.4666529)]\n",
      "[(2, 0.58750397), (5, 0.087496266), (16, 0.17083468), (17, 0.0874976)]\n",
      "[(3, 0.12282698), (5, 0.3735199), (10, 0.45365268)]\n",
      "[(2, 0.11767925), (3, 0.5995476), (5, 0.09777558), (16, 0.10499683)]\n",
      "[(0, 0.069993995), (1, 0.07000082), (3, 0.06999352), (5, 0.47000867), (8, 0.13666898), (11, 0.070000626), (16, 0.06999917)]\n",
      "[(2, 0.28568563), (5, 0.044887338), (6, 0.03500008), (10, 0.18895213), (15, 0.19627619), (16, 0.15692887), (17, 0.07060292)]\n",
      "[(2, 0.115970425), (4, 0.075000495), (10, 0.08272315), (14, 0.1694042), (15, 0.097728476), (16, 0.21786055), (17, 0.1948838)]\n",
      "[(2, 0.05511469), (3, 0.2870243), (4, 0.10250034), (5, 0.056953482), (10, 0.33016297), (12, 0.05459684), (14, 0.08114691)]\n",
      "[(2, 0.30107835), (5, 0.23558728), (14, 0.20333546), (15, 0.069997236), (17, 0.1400011)]\n",
      "[(5, 0.5233804), (6, 0.16875146), (8, 0.08541639), (10, 0.06691198), (15, 0.124289475)]\n",
      "[(0, 0.04434155), (2, 0.058692463), (5, 0.45828357), (6, 0.16875376), (8, 0.085417554), (10, 0.072011426), (11, 0.04375006), (17, 0.04374913)]\n",
      "[(0, 0.3050044), (2, 0.104995735), (8, 0.10500049), (12, 0.105002075), (13, 0.10499916), (14, 0.10499701), (17, 0.10500013)]\n",
      "[(0, 0.06230922), (3, 0.062342208), (4, 0.055263124), (6, 0.2131602), (11, 0.1605275), (13, 0.40955526)]\n",
      "[(3, 0.048442118), (4, 0.045652185), (6, 0.08913158), (10, 0.13620767), (11, 0.13261), (13, 0.29810023), (17, 0.22159491)]\n",
      "[(0, 0.21463501), (3, 0.11991373), (4, 0.23461975), (5, 0.25319976), (10, 0.119938836)]\n",
      "[(1, 0.04374818), (2, 0.11121747), (4, 0.043750245), (5, 0.04821259), (6, 0.043750677), (10, 0.13473897), (11, 0.23648472), (15, 0.27019066), (17, 0.04498933)]\n",
      "[(3, 0.13980317), (4, 0.13125187), (10, 0.13124995), (14, 0.24769521), (15, 0.13124986), (16, 0.13124843)]\n"
     ]
    }
   ],
   "source": [
    "for i, row_list in enumerate(lda_model[corpus]):\n",
    "    print(row_list)"
   ]
  }
 ],
 "metadata": {
  "interpreter": {
   "hash": "91e1a9e4a06db3fded7ac69e2bfb6fa7fbfde494fec706270786ebdcaf742302"
  },
  "kernelspec": {
   "display_name": "Python 3.9.2 64-bit",
   "language": "python",
   "name": "python3"
  },
  "language_info": {
   "codemirror_mode": {
    "name": "ipython",
    "version": 3
   },
   "file_extension": ".py",
   "mimetype": "text/x-python",
   "name": "python",
   "nbconvert_exporter": "python",
   "pygments_lexer": "ipython3",
   "version": "3.9.2"
  },
  "orig_nbformat": 4
 },
 "nbformat": 4,
 "nbformat_minor": 2
}
